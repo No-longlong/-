{
 "cells": [
  {
   "cell_type": "markdown",
   "metadata": {},
   "source": [
    "> ## 데이터 청년 캠퍼스 13일차 과제\n",
    "> ### <b>노재혁</b>"
   ]
  },
  {
   "cell_type": "markdown",
   "metadata": {},
   "source": [
    "### 1. 타이타닉 생존여부 확인\n",
    "\n",
    "- #### 로지스틱회귀모델을 이용해 타이타닉호 승선객의 생존여부 예측\n",
    "- #### Age 결측치(NaN) 값은 다음과 같이 처리\n",
    "    - 생존자(Survived = 1)는 생존자 나이의 평균으로 대체\n",
    "    - 사망자(Survived = 0)는 사망자 나이의 평균으로 대체\n",
    "- #### Embarked 결측치(NaN) 값은 가장 많은 값으로 대체"
   ]
  },
  {
   "cell_type": "code",
   "execution_count": 1,
   "metadata": {},
   "outputs": [],
   "source": [
    "# 라이브러리 호출\n",
    "\n",
    "import numpy as np\n",
    "import pandas as pd\n",
    "import matplotlib.pyplot as plt\n",
    "import seaborn as sns\n",
    "\n",
    "plt.style.use('seaborn-pastel') # matplotlib style gallery \n",
    "sns.set(font_scale=2)\n",
    "import warnings\n",
    "warnings.filterwarnings('ignore')\n",
    "\n",
    "%matplotlib inline \n",
    "\n",
    "from sklearn import preprocessing\n",
    "import statsmodels.api as sm\n",
    "from sklearn.model_selection import train_test_split\n",
    "from statsmodels.stats.outliers_influence import variance_inflation_factor\n",
    "from sklearn.linear_model import LogisticRegression, Ridge, Lasso, ElasticNet\n",
    "from sklearn import metrics\n",
    "from sklearn.metrics import confusion_matrix, accuracy_score, precision_score, recall_score"
   ]
  },
  {
   "cell_type": "code",
   "execution_count": 2,
   "metadata": {},
   "outputs": [],
   "source": [
    "# threshold에 따른 분류 함수 정의\n",
    "def PRED(y, threshold):\n",
    "    Y = y.copy()\n",
    "    Y[Y > threshold] = 1\n",
    "    Y[Y <= threshold] = 0\n",
    "    return(Y.astype(int))"
   ]
  },
  {
   "cell_type": "code",
   "execution_count": 3,
   "metadata": {},
   "outputs": [],
   "source": [
    "# confusion matrix, accuracy, precision, recall\n",
    "def eval_all(y_test, predict):\n",
    "    confusion = confusion_matrix(y_test, predict)\n",
    "    accuracy = accuracy_score(y_test, predict)\n",
    "    precision = precision_score(y_test, predict)\n",
    "    recall = recall_score(y_test, predict)\n",
    "    print(f'confusion matrix\\n{confusion}\\n')\n",
    "    print(f'[정확도:{accuracy:.4f}]\\n[정밀도:{precision:.4f}]\\n[재현율:{recall:.4f}]')"
   ]
  },
  {
   "cell_type": "code",
   "execution_count": 4,
   "metadata": {},
   "outputs": [],
   "source": [
    "# 데이터 불러오기\n",
    "\n",
    "df = pd.read_csv('data/train.csv')"
   ]
  },
  {
   "cell_type": "code",
   "execution_count": 5,
   "metadata": {
    "jupyter": {
     "source_hidden": true
    }
   },
   "outputs": [
    {
     "name": "stdout",
     "output_type": "stream",
     "text": [
      "[feature : Age]의 결측비율은 19.8653% 입니다.\n",
      "[feature : Cabin]의 결측비율은 77.1044% 입니다.\n",
      "[feature : Embarked]의 결측비율은 0.2245% 입니다.\n"
     ]
    }
   ],
   "source": [
    "# null 체크\n",
    "\n",
    "for f in df.columns:\n",
    "    null_val = df[f].isnull().sum()/df[f].shape[0]\n",
    "    if null_val > 0:\n",
    "        print(f'[feature : {f}]의 결측비율은 {100*null_val:.4f}% 입니다.')"
   ]
  },
  {
   "cell_type": "code",
   "execution_count": 6,
   "metadata": {},
   "outputs": [],
   "source": [
    "# 생존자별 나이의 NaN값을 평균 나이로 대체\n",
    "surv_mean_age = int(df.groupby(['Survived'])['Age'].mean()[0])\n",
    "unsurv_mean_age = int(df.groupby(['Survived'])['Age'].mean()[1])\n",
    "df.loc[df['Survived']==0, 'Age'] = df.loc[df['Survived']==0, 'Age'].fillna(surv_mean_age)\n",
    "df.loc[df['Survived']==1, 'Age'] = df.loc[df['Survived']==1, 'Age'].fillna(unsurv_mean_age)\n",
    "\n",
    "# Embarked 최빈값으로 대체\n",
    "Embarked_freq = df['Embarked'].value_counts().index[0] # max값은 S:644이다.\n",
    "df['Embarked'].fillna(Embarked_freq, inplace=True)"
   ]
  },
  {
   "cell_type": "markdown",
   "metadata": {},
   "source": [
    "---------"
   ]
  },
  {
   "cell_type": "markdown",
   "metadata": {},
   "source": [
    "### 2. 타이타닉 생존여부 확인\n",
    "- #### 회귀계수 축소모형을 이용해 타이타닉호 승선객의 생존여부 예측"
   ]
  },
  {
   "cell_type": "code",
   "execution_count": 7,
   "metadata": {},
   "outputs": [
    {
     "data": {
      "text/html": [
       "<div>\n",
       "<style scoped>\n",
       "    .dataframe tbody tr th:only-of-type {\n",
       "        vertical-align: middle;\n",
       "    }\n",
       "\n",
       "    .dataframe tbody tr th {\n",
       "        vertical-align: top;\n",
       "    }\n",
       "\n",
       "    .dataframe thead th {\n",
       "        text-align: right;\n",
       "    }\n",
       "</style>\n",
       "<table border=\"1\" class=\"dataframe\">\n",
       "  <thead>\n",
       "    <tr style=\"text-align: right;\">\n",
       "      <th></th>\n",
       "      <th>PassengerId</th>\n",
       "      <th>Survived</th>\n",
       "      <th>Pclass</th>\n",
       "      <th>Name</th>\n",
       "      <th>Sex</th>\n",
       "      <th>Age</th>\n",
       "      <th>SibSp</th>\n",
       "      <th>Parch</th>\n",
       "      <th>Ticket</th>\n",
       "      <th>Fare</th>\n",
       "      <th>Cabin</th>\n",
       "      <th>Embarked</th>\n",
       "    </tr>\n",
       "  </thead>\n",
       "  <tbody>\n",
       "    <tr>\n",
       "      <th>0</th>\n",
       "      <td>1</td>\n",
       "      <td>0</td>\n",
       "      <td>3</td>\n",
       "      <td>Braund, Mr. Owen Harris</td>\n",
       "      <td>1</td>\n",
       "      <td>22.0</td>\n",
       "      <td>1</td>\n",
       "      <td>0</td>\n",
       "      <td>A/5 21171</td>\n",
       "      <td>7.2500</td>\n",
       "      <td>NaN</td>\n",
       "      <td>2</td>\n",
       "    </tr>\n",
       "    <tr>\n",
       "      <th>1</th>\n",
       "      <td>2</td>\n",
       "      <td>1</td>\n",
       "      <td>1</td>\n",
       "      <td>Cumings, Mrs. John Bradley (Florence Briggs Th...</td>\n",
       "      <td>0</td>\n",
       "      <td>38.0</td>\n",
       "      <td>1</td>\n",
       "      <td>0</td>\n",
       "      <td>PC 17599</td>\n",
       "      <td>71.2833</td>\n",
       "      <td>C85</td>\n",
       "      <td>0</td>\n",
       "    </tr>\n",
       "    <tr>\n",
       "      <th>2</th>\n",
       "      <td>3</td>\n",
       "      <td>1</td>\n",
       "      <td>3</td>\n",
       "      <td>Heikkinen, Miss. Laina</td>\n",
       "      <td>0</td>\n",
       "      <td>26.0</td>\n",
       "      <td>0</td>\n",
       "      <td>0</td>\n",
       "      <td>STON/O2. 3101282</td>\n",
       "      <td>7.9250</td>\n",
       "      <td>NaN</td>\n",
       "      <td>2</td>\n",
       "    </tr>\n",
       "    <tr>\n",
       "      <th>3</th>\n",
       "      <td>4</td>\n",
       "      <td>1</td>\n",
       "      <td>1</td>\n",
       "      <td>Futrelle, Mrs. Jacques Heath (Lily May Peel)</td>\n",
       "      <td>0</td>\n",
       "      <td>35.0</td>\n",
       "      <td>1</td>\n",
       "      <td>0</td>\n",
       "      <td>113803</td>\n",
       "      <td>53.1000</td>\n",
       "      <td>C123</td>\n",
       "      <td>2</td>\n",
       "    </tr>\n",
       "    <tr>\n",
       "      <th>4</th>\n",
       "      <td>5</td>\n",
       "      <td>0</td>\n",
       "      <td>3</td>\n",
       "      <td>Allen, Mr. William Henry</td>\n",
       "      <td>1</td>\n",
       "      <td>35.0</td>\n",
       "      <td>0</td>\n",
       "      <td>0</td>\n",
       "      <td>373450</td>\n",
       "      <td>8.0500</td>\n",
       "      <td>NaN</td>\n",
       "      <td>2</td>\n",
       "    </tr>\n",
       "  </tbody>\n",
       "</table>\n",
       "</div>"
      ],
      "text/plain": [
       "   PassengerId  Survived  Pclass  \\\n",
       "0            1         0       3   \n",
       "1            2         1       1   \n",
       "2            3         1       3   \n",
       "3            4         1       1   \n",
       "4            5         0       3   \n",
       "\n",
       "                                                Name  Sex   Age  SibSp  Parch  \\\n",
       "0                            Braund, Mr. Owen Harris    1  22.0      1      0   \n",
       "1  Cumings, Mrs. John Bradley (Florence Briggs Th...    0  38.0      1      0   \n",
       "2                             Heikkinen, Miss. Laina    0  26.0      0      0   \n",
       "3       Futrelle, Mrs. Jacques Heath (Lily May Peel)    0  35.0      1      0   \n",
       "4                           Allen, Mr. William Henry    1  35.0      0      0   \n",
       "\n",
       "             Ticket     Fare Cabin  Embarked  \n",
       "0         A/5 21171   7.2500   NaN         2  \n",
       "1          PC 17599  71.2833   C85         0  \n",
       "2  STON/O2. 3101282   7.9250   NaN         2  \n",
       "3            113803  53.1000  C123         2  \n",
       "4            373450   8.0500   NaN         2  "
      ]
     },
     "execution_count": 7,
     "metadata": {},
     "output_type": "execute_result"
    }
   ],
   "source": [
    "# 문자값을 이산형 숫자로 변환\n",
    "features = ['Sex', 'Embarked']\n",
    "for f in features:\n",
    "    le = preprocessing.LabelEncoder()\n",
    "    le = le.fit(df[f])\n",
    "    df[f] = le.transform(df[f])\n",
    "\n",
    "df.head()"
   ]
  },
  {
   "cell_type": "code",
   "execution_count": 8,
   "metadata": {},
   "outputs": [
    {
     "name": "stdout",
     "output_type": "stream",
     "text": [
      "(623, 8) (268, 8) (623,) (268,)\n"
     ]
    }
   ],
   "source": [
    "df.drop(['PassengerId', 'Name', 'Ticket', 'Cabin'], axis=1, inplace=True)\n",
    "df = sm.add_constant(df, has_constant='add')\n",
    "feature_columns = list(df.columns.difference(['Survived']))\n",
    "X = df[feature_columns]\n",
    "y = df['Survived']\n",
    "x_train, x_test, y_train, y_test = train_test_split(X, y,\n",
    "                                                   test_size=0.3,\n",
    "                                                   random_state=121)\n",
    "\n",
    "print(x_train.shape, x_test.shape, y_train.shape, y_test.shape)"
   ]
  },
  {
   "cell_type": "markdown",
   "metadata": {},
   "source": [
    "> ### Logistic Regression"
   ]
  },
  {
   "cell_type": "code",
   "execution_count": 9,
   "metadata": {},
   "outputs": [
    {
     "name": "stdout",
     "output_type": "stream",
     "text": [
      "  <Logistic Regression>\n",
      "confusion matrix\n",
      "[[140  28]\n",
      " [ 29  71]]\n",
      "\n",
      "[정확도:0.7873]\n",
      "[정밀도:0.7172]\n",
      "[재현율:0.7100]\n",
      "\n",
      " AUC의 값: 0.7716666666666667\n"
     ]
    }
   ],
   "source": [
    "print('  <Logistic Regression>')\n",
    "lr_clf = LogisticRegression()\n",
    "lr_clf.fit(x_train, y_train)\n",
    "lr_pred = lr_clf.predict(x_test)\n",
    "eval_all(y_test, lr_pred)\n",
    "\n",
    "fpr, tpr, thresholds = metrics.roc_curve(y_test, lr_pred)\n",
    "auc = np.trapz(tpr,fpr)\n",
    "print(f'\\n AUC의 값: {auc}')"
   ]
  },
  {
   "cell_type": "markdown",
   "metadata": {},
   "source": [
    "> ### lasso"
   ]
  },
  {
   "cell_type": "code",
   "execution_count": 10,
   "metadata": {},
   "outputs": [
    {
     "name": "stdout",
     "output_type": "stream",
     "text": [
      "   <Lasso>\n",
      "confusion matrix\n",
      "[[142  26]\n",
      " [ 29  71]]\n",
      "\n",
      "[정확도:0.7948]\n",
      "[정밀도:0.7320]\n",
      "[재현율:0.7100]\n",
      "\n",
      " AUC의 값: 0.8601785714285713\n",
      "\n",
      "그래프는 아래와 같습니다.\n"
     ]
    },
    {
     "data": {
      "text/plain": [
       "[<matplotlib.lines.Line2D at 0x1de97704748>]"
      ]
     },
     "execution_count": 10,
     "metadata": {},
     "output_type": "execute_result"
    },
    {
     "data": {
      "image/png": "[encoded data removed]",
      "text/plain": [
       "<Figure size 432x288 with 1 Axes>"
      ]
     },
     "metadata": {
      "needs_background": "light"
     },
     "output_type": "display_data"
    }
   ],
   "source": [
    "lasso = Lasso(alpha=0.01)\n",
    "lasso.fit(x_train, y_train)\n",
    "\n",
    "pred_y_lasso = lasso.predict(x_test)\n",
    "pred_Y_lasso = PRED(pred_y_lasso, 0.5)\n",
    "\n",
    "print('   <Lasso>')\n",
    "eval_all(y_test, pred_Y_lasso)\n",
    "\n",
    "fpr, tpr, thresholds = metrics.roc_curve(y_test, pred_y_lasso)\n",
    "auc = np.trapz(tpr,fpr)\n",
    "print(f'\\n AUC의 값: {auc}')\n",
    "\n",
    "print('\\n그래프는 아래와 같습니다.')\n",
    "plt.plot(fpr, tpr)"
   ]
  },
  {
   "cell_type": "markdown",
   "metadata": {},
   "source": [
    "> ### ridge"
   ]
  },
  {
   "cell_type": "code",
   "execution_count": 11,
   "metadata": {},
   "outputs": [
    {
     "name": "stdout",
     "output_type": "stream",
     "text": [
      "   <Ridge>\n",
      "confusion matrix\n",
      "[[142  26]\n",
      " [ 31  69]]\n",
      "\n",
      "[정확도:0.7873]\n",
      "[정밀도:0.7263]\n",
      "[재현율:0.6900]\n",
      "\n",
      "AUC의 값: 0.8616666666666667\n",
      "\n",
      "그래프는 아래와 같습니다.\n"
     ]
    },
    {
     "data": {
      "text/plain": [
       "[<matplotlib.lines.Line2D at 0x1de9779d448>]"
      ]
     },
     "execution_count": 11,
     "metadata": {},
     "output_type": "execute_result"
    },
    {
     "data": {
      "image/png": "[encoded data removed]",
      "text/plain": [
       "<Figure size 432x288 with 1 Axes>"
      ]
     },
     "metadata": {
      "needs_background": "light"
     },
     "output_type": "display_data"
    }
   ],
   "source": [
    "ridge = Ridge(alpha=0.01)\n",
    "ridge.fit(x_train, y_train)\n",
    "\n",
    "pred_y_ridge = ridge.predict(x_test)\n",
    "pred_Y_ridge = PRED(pred_y_ridge, 0.5)\n",
    "\n",
    "print('   <Ridge>')\n",
    "eval_all(y_test, pred_Y_ridge)\n",
    "\n",
    "fpr, tpr, thresholds = metrics.roc_curve(y_test, pred_y_ridge)\n",
    "auc = np.trapz(tpr,fpr)\n",
    "print(f'\\nAUC의 값: {auc}')\n",
    "print('\\n그래프는 아래와 같습니다.')\n",
    "plt.plot(fpr, tpr)"
   ]
  },
  {
   "cell_type": "markdown",
   "metadata": {},
   "source": [
    "> ### elasticNet"
   ]
  },
  {
   "cell_type": "code",
   "execution_count": 12,
   "metadata": {},
   "outputs": [
    {
     "name": "stdout",
     "output_type": "stream",
     "text": [
      "   <ElasticNet>\n",
      "confusion matrix\n",
      "[[142  26]\n",
      " [ 28  72]]\n",
      "\n",
      "[정확도:0.7985]\n",
      "[정밀도:0.7347]\n",
      "[재현율:0.7200]\n",
      "\n",
      "AUC의 값: 0.8610119047619048\n",
      "\n",
      "그래프는 아래와 같습니다.\n"
     ]
    },
    {
     "data": {
      "text/plain": [
       "[<matplotlib.lines.Line2D at 0x1de9885d548>]"
      ]
     },
     "execution_count": 12,
     "metadata": {},
     "output_type": "execute_result"
    },
    {
     "data": {
      "image/png": "[encoded data removed]",
      "text/plain": [
       "<Figure size 432x288 with 1 Axes>"
      ]
     },
     "metadata": {
      "needs_background": "light"
     },
     "output_type": "display_data"
    }
   ],
   "source": [
    "elastic = ElasticNet(alpha=0.01, l1_ratio=0.5)\n",
    "elastic.fit(x_train, y_train)\n",
    "\n",
    "pred_y_elastic = elastic.predict(x_test)\n",
    "pred_Y_elastic = PRED(pred_y_elastic, 0.5)\n",
    "\n",
    "print('   <ElasticNet>')\n",
    "eval_all(y_test, pred_Y_elastic)\n",
    "\n",
    "fpr, tpr, thresholds = metrics.roc_curve(y_test, pred_y_elastic)\n",
    "auc = np.trapz(tpr,fpr)\n",
    "print(f'\\nAUC의 값: {auc}')\n",
    "print('\\n그래프는 아래와 같습니다.')\n",
    "plt.plot(fpr, tpr)"
   ]
  }
 ],
 "metadata": {
  "kernelspec": {
   "display_name": "Python 3",
   "language": "python",
   "name": "python3"
  },
  "language_info": {
   "codemirror_mode": {
    "name": "ipython",
    "version": 3
   },
   "file_extension": ".py",
   "mimetype": "text/x-python",
   "name": "python",
   "nbconvert_exporter": "python",
   "pygments_lexer": "ipython3",
   "version": "3.7.6"
  }
 },
 "nbformat": 4,
 "nbformat_minor": 4
}

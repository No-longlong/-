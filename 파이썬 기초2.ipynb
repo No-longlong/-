{
 "cells": [
  {
   "cell_type": "markdown",
   "metadata": {},
   "source": [
    "- 파일 읽기: 프로그램과 파일을 연결"
   ]
  },
  {
   "cell_type": "code",
   "execution_count": 11,
   "metadata": {
    "collapsed": true,
    "jupyter": {
     "outputs_hidden": true
    }
   },
   "outputs": [
    {
     "name": "stdout",
     "output_type": "stream",
     "text": [
      "height weight\n",
      "157 58\n",
      "165 53\n",
      "166 60\n",
      "168 65\n",
      "158 63\n",
      "164 57\n",
      "186 83\n",
      "183 70\n",
      "178 70\n",
      "166 59\n",
      "155 73\n",
      "159 56\n",
      "167 50\n",
      "191 74\n",
      "156 50\n",
      "159 74\n",
      "157 55\n",
      "174 74\n",
      "171 84\n",
      "191 84\n",
      "171 72\n",
      "190 94\n",
      "176 73\n",
      "181 91\n",
      "187 94\n",
      "189 95\n",
      "185 94\n",
      "178 84\n",
      "163 53\n",
      "168 61\n"
     ]
    }
   ],
   "source": [
    "# 문자열 형태로 읽어오기\n",
    "txt = open(\"./data/example.txt\")\n",
    "txt_read = txt.read()\n",
    "print(txt_read)"
   ]
  },
  {
   "cell_type": "code",
   "execution_count": 9,
   "metadata": {},
   "outputs": [
    {
     "name": "stdout",
     "output_type": "stream",
     "text": [
      "['height', 'weight', '157', '58', '165', '53', '166', '60', '168', '65', '158', '63', '164', '57', '186', '83', '183', '70', '178', '70', '166', '59', '155', '73', '159', '56', '167', '50', '191', '74', '156', '50', '159', '74', '157', '55', '174', '74', '171', '84', '191', '84', '171', '72', '190', '94', '176', '73', '181', '91', '187', '94', '189', '95', '185', '94', '178', '84', '163', '53', '168', '61']\n",
      "['height weight', '157 58', '165 53', '166 60', '168 65', '158 63', '164 57', '186 83', '183 70', '178 70', '166 59', '155 73', '159 56', '167 50', '191 74', '156 50', '159 74', '157 55', '174 74', '171 84', '191 84', '171 72', '190 94', '176 73', '181 91', '187 94', '189 95', '185 94', '178 84', '163 53', '168 61']\n"
     ]
    }
   ],
   "source": [
    "# 자료를 분할하여 저장\n",
    "\n",
    "# 띄어쓰기 기준\n",
    "data = txt_read.split()\n",
    "print(data)\n",
    "\n",
    "data2 = txt_read.split(\"\\n\")\n",
    "print(data2)\n"
   ]
  },
  {
   "cell_type": "code",
   "execution_count": 15,
   "metadata": {},
   "outputs": [],
   "source": [
    "txt = open(\"./data/example.txt\")\n",
    "txt_read = txt.read()"
   ]
  },
  {
   "cell_type": "code",
   "execution_count": 21,
   "metadata": {},
   "outputs": [
    {
     "name": "stdout",
     "output_type": "stream",
     "text": [
      "height weight\n",
      "\n"
     ]
    }
   ],
   "source": [
    "# 한줄씩 읽기\n",
    "txt = open(\"./data/example.txt\")\n",
    "txt_readline = txt.readline()\n",
    "\n",
    "print(txt_readline)"
   ]
  },
  {
   "cell_type": "markdown",
   "metadata": {},
   "source": [
    "#### QnA\n",
    "- read를 하고 readline을 하면 안되네? \n",
    "- 이미 read를 했기 때문에 다른곳에선 읽지 못하는 것인지?"
   ]
  },
  {
   "cell_type": "code",
   "execution_count": 31,
   "metadata": {},
   "outputs": [
    {
     "name": "stdout",
     "output_type": "stream",
     "text": [
      "[]\n"
     ]
    }
   ],
   "source": [
    "# 전체 읽어오기\n",
    "txt = open(\"./data/example.txt\")\n",
    "txt_readlines = txt.readlines()\n",
    "print(txt_readlines)"
   ]
  },
  {
   "cell_type": "code",
   "execution_count": 27,
   "metadata": {},
   "outputs": [
    {
     "name": "stdout",
     "output_type": "stream",
     "text": [
      "['height weight\\n', '157 58\\n', '165 53\\n', '166 60\\n', '168 65\\n', '158 63\\n', '164 57\\n', '186 83\\n', '183 70\\n', '178 70\\n', '166 59\\n', '155 73\\n', '159 56\\n', '167 50\\n', '191 74\\n', '156 50\\n', '159 74\\n', '157 55\\n', '174 74\\n', '171 84\\n', '191 84\\n', '171 72\\n', '190 94\\n', '176 73\\n', '181 91\\n', '187 94\\n', '189 95\\n', '185 94\\n', '178 84\\n', '163 53\\n', '168 61']\n"
     ]
    }
   ],
   "source": [
    "# with as\n",
    "# with as 는 close() 가 불필요\n",
    "\n",
    "with open('./data/example.txt') as txt:\n",
    "    txt_readlines = txt.readlines()\n",
    "    print(txt_readlines)"
   ]
  },
  {
   "cell_type": "markdown",
   "metadata": {},
   "source": [
    "- 반복문을 이용해 한줄씩 읽어오기"
   ]
  },
  {
   "cell_type": "code",
   "execution_count": 25,
   "metadata": {
    "collapsed": true,
    "jupyter": {
     "outputs_hidden": true
    }
   },
   "outputs": [
    {
     "name": "stdout",
     "output_type": "stream",
     "text": [
      "height weight\n",
      "157 58\n",
      "165 53\n",
      "166 60\n",
      "168 65\n",
      "158 63\n",
      "164 57\n",
      "186 83\n",
      "183 70\n",
      "178 70\n",
      "166 59\n",
      "155 73\n",
      "159 56\n",
      "167 50\n",
      "191 74\n",
      "156 50\n",
      "159 74\n",
      "157 55\n",
      "174 74\n",
      "171 84\n",
      "191 84\n",
      "171 72\n",
      "190 94\n",
      "176 73\n",
      "181 91\n",
      "187 94\n",
      "189 95\n",
      "185 94\n",
      "178 84\n",
      "163 53\n",
      "168 61"
     ]
    }
   ],
   "source": [
    "# while\n",
    "\n",
    "txt = open(\"./data/example.txt\")\n",
    "#txt_read = txt.readline()\n",
    "\n",
    "while txt_read:\n",
    "    txt_read = txt.readline()\n",
    "    print(txt_read, end=\"\")\n",
    "\n",
    "txt.close()"
   ]
  },
  {
   "cell_type": "code",
   "execution_count": 26,
   "metadata": {
    "collapsed": true,
    "jupyter": {
     "outputs_hidden": true
    }
   },
   "outputs": [
    {
     "name": "stdout",
     "output_type": "stream",
     "text": [
      "height weight\n",
      "157 58\n",
      "165 53\n",
      "166 60\n",
      "168 65\n",
      "158 63\n",
      "164 57\n",
      "186 83\n",
      "183 70\n",
      "178 70\n",
      "166 59\n",
      "155 73\n",
      "159 56\n",
      "167 50\n",
      "191 74\n",
      "156 50\n",
      "159 74\n",
      "157 55\n",
      "174 74\n",
      "171 84\n",
      "191 84\n",
      "171 72\n",
      "190 94\n",
      "176 73\n",
      "181 91\n",
      "187 94\n",
      "189 95\n",
      "185 94\n",
      "178 84\n",
      "163 53\n",
      "168 61"
     ]
    }
   ],
   "source": [
    "# for\n",
    "\n",
    "txt = open(\"./data/example.txt\")\n",
    "\n",
    "for txt_read in txt:\n",
    "    print(txt_read, end=\"\")\n",
    "    \n",
    "txt.close()"
   ]
  },
  {
   "cell_type": "markdown",
   "metadata": {},
   "source": [
    "- 파일 쓰기(w, a)\n",
    "\n",
    "#### QnA\n",
    "\n",
    "- 실수로 open(\"경로\", 'w') 처럼 원래 있던 파일에다가 실행했는데, '펭하'가 찍히지 않고 빈 파일로 덮어쓰기가 되어있다. 왜?"
   ]
  },
  {
   "cell_type": "code",
   "execution_count": 1,
   "metadata": {},
   "outputs": [
    {
     "data": {
      "text/plain": [
       "'txt = open(\"./data/example.txt\", \\'w\\')\\ntxt.write(\\'펭하\\')\\ntxt.close'"
      ]
     },
     "execution_count": 1,
     "metadata": {},
     "output_type": "execute_result"
    }
   ],
   "source": [
    "\"\"\"txt = open(\"./data/example.txt\", 'w')\n",
    "txt.write('펭하')\n",
    "txt.close\"\"\""
   ]
  },
  {
   "cell_type": "code",
   "execution_count": 39,
   "metadata": {},
   "outputs": [],
   "source": [
    "txt = open('file.txt', 'w')\n",
    "txt.write('펭하')\n",
    "txt.close()"
   ]
  },
  {
   "cell_type": "code",
   "execution_count": 40,
   "metadata": {},
   "outputs": [],
   "source": [
    "txt = open('file.txt', 'w')\n",
    "txt.write('러뷰')\n",
    "txt.close()"
   ]
  },
  {
   "cell_type": "code",
   "execution_count": 2,
   "metadata": {},
   "outputs": [],
   "source": [
    "txt = open('file.txt', 'w')\n",
    "txt.write('펭하')\n",
    "txt.close()"
   ]
  },
  {
   "cell_type": "markdown",
   "metadata": {},
   "source": [
    "- 아래의 두가지 경우가 어떻게 다른지 설명할 수 있어야 한다."
   ]
  },
  {
   "cell_type": "code",
   "execution_count": 9,
   "metadata": {},
   "outputs": [
    {
     "name": "stdin",
     "output_type": "stream",
     "text": [
      "점수:  5\n",
      "점수:  4\n",
      "점수:  3\n",
      "점수:  2\n",
      "점수:  1\n"
     ]
    }
   ],
   "source": [
    "for i in range(5):\n",
    "    with open('input.txt', 'w') as txt:\n",
    "        point = input('점수: ')\n",
    "        txt.write(point)\n",
    "        txt.write('\\n')\n",
    "        \n",
    "with open('test.txt', 'w') as txt:\n",
    "    for i in range(5):\n",
    "        point = input('점수: ')\n",
    "        txt.write(point)\n",
    "        txt.write('\\n')"
   ]
  },
  {
   "cell_type": "markdown",
   "metadata": {},
   "source": [
    "### 위 내용에 대한 피드백\n",
    "#### 반복문 쓰기에서 매번 txt.close()하는 방식이면 덮어쓰기로만 된다.\n",
    "#### 작성 내용을 반복문으로 모두 쓰고 난 뒤 txt.close()형태가 되어야 모든것이 저장 되는 것.\n",
    "#### 즉, 반복문 안에 txt.close()가 있으면 안된다는 의미. 반복문이 다 끝나고 마지막에 한번 시행되도록.\n",
    "#### txt.write()든, with open() as 든 간에."
   ]
  },
  {
   "cell_type": "code",
   "execution_count": 12,
   "metadata": {},
   "outputs": [],
   "source": [
    "# 리스트 요소로 파일 쓰기\n",
    "txt = open('writeline.txt', 'w')\n",
    "list = ['apple\\n', 'melon\\n', 'banana\\n']\n",
    "\n",
    "txt.writelines(list)\n",
    "txt.close()"
   ]
  },
  {
   "cell_type": "code",
   "execution_count": null,
   "metadata": {},
   "outputs": [],
   "source": []
  }
 ],
 "metadata": {
  "kernelspec": {
   "display_name": "Python 3",
   "language": "python",
   "name": "python3"
  },
  "language_info": {
   "codemirror_mode": {
    "name": "ipython",
    "version": 3
   },
   "file_extension": ".py",
   "mimetype": "text/x-python",
   "name": "python",
   "nbconvert_exporter": "python",
   "pygments_lexer": "ipython3",
   "version": "3.7.6"
  }
 },
 "nbformat": 4,
 "nbformat_minor": 4
}

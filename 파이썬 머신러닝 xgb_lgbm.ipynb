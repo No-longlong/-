{
 "cells": [
  {
   "cell_type": "markdown",
   "metadata": {},
   "source": [
    "> ## 데이터 청년 캠퍼스 16일차 과제\n",
    "> ### <b>노재혁</b>"
   ]
  },
  {
   "cell_type": "code",
   "execution_count": 1,
   "metadata": {},
   "outputs": [],
   "source": [
    "import pandas as pd\n",
    "from sklearn import datasets\n",
    "from sklearn.model_selection import train_test_split\n",
    "from sklearn.metrics import accuracy_score, mean_squared_error\n",
    "from sklearn.tree import DecisionTreeClassifier\n",
    "from sklearn.linear_model import LogisticRegression\n",
    "from sklearn.neighbors import KNeighborsClassifier\n",
    "from sklearn.ensemble import VotingClassifier, BaggingClassifier, RandomForestClassifier, GradientBoostingClassifier\n",
    "from sklearn.model_selection import GridSearchCV\n",
    "import xgboost as xgb\n",
    "from lightgbm import LGBMClassifier\n",
    "\n",
    "import matplotlib.pyplot as plt\n",
    "%matplotlib inline\n",
    "\n",
    "import warnings\n",
    "warnings.filterwarnings('ignore')"
   ]
  },
  {
   "cell_type": "code",
   "execution_count": 2,
   "metadata": {},
   "outputs": [],
   "source": [
    "def acc_mse(y_test, model):\n",
    "    print(f'<정확도 : {accuracy_score(y_test, model):.4f}>\\n<MSE : {mean_squared_error(y_test, model):.4f}>\\n')"
   ]
  },
  {
   "cell_type": "markdown",
   "metadata": {},
   "source": [
    "### Voting\n",
    "#### 1. iris "
   ]
  },
  {
   "cell_type": "code",
   "execution_count": 3,
   "metadata": {},
   "outputs": [],
   "source": [
    "# hard voting, soft voting\n",
    "iris = datasets.load_iris()\n",
    "x_df = pd.DataFrame(iris.data, columns=iris.feature_names)\n",
    "y_df = pd.DataFrame(iris.target, columns=['target'])\n",
    "\n",
    "x_train, x_test, y_train, y_test = train_test_split(iris.data, iris.target,\n",
    "                                                   test_size=0.2,\n",
    "                                                   random_state=121)\n",
    "\n",
    "lr_clf = LogisticRegression(max_iter=1000)\n",
    "knn_clf = KNeighborsClassifier(n_neighbors=5)\n",
    "\n",
    "hvot_clf = VotingClassifier(estimators=[('LR', lr_clf), ('KNN', knn_clf)], voting='hard')\n",
    "hvot_clf.fit(x_train, y_train)\n",
    "\n",
    "svot_clf = VotingClassifier(estimators=[('LR', lr_clf), ('KNN', knn_clf)], voting='soft')\n",
    "svot_clf.fit(x_train, y_train)\n",
    "\n",
    "pred_hvot = hvot_clf.predict(x_test)\n",
    "pred_svot = svot_clf.predict(x_test)"
   ]
  },
  {
   "cell_type": "code",
   "execution_count": 4,
   "metadata": {},
   "outputs": [
    {
     "name": "stdout",
     "output_type": "stream",
     "text": [
      "<정확도 : 0.9667>\n",
      "<MSE : 0.0333>\n",
      "\n",
      "<정확도 : 0.9667>\n",
      "<MSE : 0.0333>\n",
      "\n"
     ]
    }
   ],
   "source": [
    "acc_mse(y_test, pred_hvot)\n",
    "acc_mse(y_test, pred_svot)"
   ]
  },
  {
   "cell_type": "markdown",
   "metadata": {},
   "source": [
    "#### 2. Personal Loan\n",
    "- \"Personal Loan.csv\""
   ]
  },
  {
   "cell_type": "code",
   "execution_count": 5,
   "metadata": {},
   "outputs": [],
   "source": [
    "# hard voting, soft voting\n",
    "loan = pd.read_csv('data/Personal Loan.csv')\n",
    "x_df = loan.copy()\n",
    "x_df.drop(['ID', 'Personal Loan'], axis=1, inplace=True)\n",
    "y_df = loan['Personal Loan']\n",
    "\n",
    "x_train, x_test, y_train, y_test = train_test_split(x_df, y_df,\n",
    "                                                   test_size=0.2,\n",
    "                                                   random_state=121)\n",
    "\n",
    "lr_clf = LogisticRegression(max_iter=1000)\n",
    "knn_clf = KNeighborsClassifier(n_neighbors=5)\n",
    "\n",
    "hvot_clf = VotingClassifier(estimators=[('LR', lr_clf), ('KNN', knn_clf)], voting='hard')\n",
    "hvot_clf.fit(x_train, y_train)\n",
    "\n",
    "svot_clf = VotingClassifier(estimators=[('LR', lr_clf), ('KNN', knn_clf)], voting='soft')\n",
    "svot_clf.fit(x_train, y_train)\n",
    "\n",
    "pred_hvot = hvot_clf.predict(x_test)\n",
    "pred_svot = svot_clf.predict(x_test)"
   ]
  },
  {
   "cell_type": "code",
   "execution_count": 6,
   "metadata": {},
   "outputs": [
    {
     "name": "stdout",
     "output_type": "stream",
     "text": [
      "<정확도 : 0.9140>\n",
      "<MSE : 0.0860>\n",
      "\n",
      "<정확도 : 0.9060>\n",
      "<MSE : 0.0940>\n",
      "\n"
     ]
    }
   ],
   "source": [
    "acc_mse(y_test, pred_hvot)\n",
    "acc_mse(y_test, pred_svot)"
   ]
  },
  {
   "cell_type": "markdown",
   "metadata": {},
   "source": [
    "### Bagging\n",
    "#### 1. iris "
   ]
  },
  {
   "cell_type": "code",
   "execution_count": 7,
   "metadata": {},
   "outputs": [],
   "source": [
    "# Dataset\n",
    "iris = datasets.load_iris()\n",
    "x_df = pd.DataFrame(iris.data, columns=iris.feature_names)\n",
    "y_df = pd.DataFrame(iris.target, columns=['target'])\n",
    "\n",
    "x_train, x_test, y_train, y_test = train_test_split(iris.data, iris.target,\n",
    "                                                   test_size=0.2)\n",
    "\n",
    "# LR\n",
    "lr_clf = LogisticRegression(max_iter=10000)\n",
    "lr_clf.fit(x_train, y_train)\n",
    "\n",
    "pred_lr = lr_clf.predict(x_test)"
   ]
  },
  {
   "cell_type": "code",
   "execution_count": 8,
   "metadata": {},
   "outputs": [
    {
     "name": "stdout",
     "output_type": "stream",
     "text": [
      "<정확도 : 0.9667>\n",
      "<MSE : 0.0333>\n",
      "\n"
     ]
    }
   ],
   "source": [
    "# LR 결과\n",
    "acc_mse(y_test, pred_lr)"
   ]
  },
  {
   "cell_type": "code",
   "execution_count": 9,
   "metadata": {},
   "outputs": [
    {
     "name": "stderr",
     "output_type": "stream",
     "text": [
      "[Parallel(n_jobs=1)]: Using backend SequentialBackend with 1 concurrent workers.\n",
      "[Parallel(n_jobs=1)]: Done   1 out of   1 | elapsed:    0.0s finished\n",
      "[Parallel(n_jobs=1)]: Using backend SequentialBackend with 1 concurrent workers.\n",
      "[Parallel(n_jobs=1)]: Done   1 out of   1 | elapsed:    0.0s finished\n"
     ]
    }
   ],
   "source": [
    "# LR bagging\n",
    "bag_clf = BaggingClassifier(base_estimator = lr_clf,\n",
    "                           n_estimators=5,\n",
    "                           verbose=1)\n",
    "\n",
    "lr_clf_bag = bag_clf.fit(x_train, y_train)\n",
    "pred_lr_bag = lr_clf_bag.predict(x_test)\n"
   ]
  },
  {
   "cell_type": "code",
   "execution_count": 10,
   "metadata": {},
   "outputs": [
    {
     "name": "stdout",
     "output_type": "stream",
     "text": [
      "<정확도 : 0.9667>\n",
      "<MSE : 0.0333>\n",
      "\n"
     ]
    }
   ],
   "source": [
    "# LR bagging 결과\n",
    "acc_mse(y_test, pred_lr_bag)"
   ]
  },
  {
   "cell_type": "code",
   "execution_count": 11,
   "metadata": {},
   "outputs": [],
   "source": [
    "# DT\n",
    "\n",
    "dt_clf = DecisionTreeClassifier()\n",
    "dt_clf.fit(x_train, y_train)\n",
    "pred_dt = dt_clf.predict(x_test)"
   ]
  },
  {
   "cell_type": "code",
   "execution_count": 12,
   "metadata": {},
   "outputs": [
    {
     "name": "stdout",
     "output_type": "stream",
     "text": [
      "<정확도 : 0.9667>\n",
      "<MSE : 0.0333>\n",
      "\n"
     ]
    }
   ],
   "source": [
    "acc_mse(y_test, pred_dt)"
   ]
  },
  {
   "cell_type": "code",
   "execution_count": 13,
   "metadata": {},
   "outputs": [
    {
     "name": "stderr",
     "output_type": "stream",
     "text": [
      "[Parallel(n_jobs=1)]: Using backend SequentialBackend with 1 concurrent workers.\n",
      "[Parallel(n_jobs=1)]: Done   1 out of   1 | elapsed:    0.0s finished\n",
      "[Parallel(n_jobs=1)]: Using backend SequentialBackend with 1 concurrent workers.\n",
      "[Parallel(n_jobs=1)]: Done   1 out of   1 | elapsed:    0.0s finished\n"
     ]
    }
   ],
   "source": [
    "# DT bagging\n",
    "bag_dt_clf = BaggingClassifier(base_estimator=dt_clf,\n",
    "                              n_estimators=5,\n",
    "                              verbose=1)\n",
    "\n",
    "bag_dt_clf.fit(x_train, y_train)\n",
    "pred_dt_bag = bag_dt_clf.predict(x_test)"
   ]
  },
  {
   "cell_type": "code",
   "execution_count": 14,
   "metadata": {},
   "outputs": [
    {
     "name": "stdout",
     "output_type": "stream",
     "text": [
      "<정확도 : 0.9667>\n",
      "<MSE : 0.0333>\n",
      "\n"
     ]
    }
   ],
   "source": [
    "acc_mse(y_test, pred_dt_bag)"
   ]
  },
  {
   "cell_type": "markdown",
   "metadata": {},
   "source": [
    "#### 2. Personal Loan\n",
    "- \"Personal Loan.csv\""
   ]
  },
  {
   "cell_type": "code",
   "execution_count": 15,
   "metadata": {},
   "outputs": [],
   "source": [
    "# Personal Loan Dataset\n",
    "loan = pd.read_csv('data/Personal Loan.csv')\n",
    "x_df = loan.copy()\n",
    "x_df.drop(['ID', 'Personal Loan'], axis=1, inplace=True)\n",
    "y_df = loan['Personal Loan']\n",
    "\n",
    "x_train, x_test, y_train, y_test = train_test_split(x_df, y_df,\n",
    "                                                   test_size=0.2)"
   ]
  },
  {
   "cell_type": "code",
   "execution_count": 16,
   "metadata": {},
   "outputs": [
    {
     "name": "stderr",
     "output_type": "stream",
     "text": [
      "[Parallel(n_jobs=1)]: Using backend SequentialBackend with 1 concurrent workers.\n",
      "[Parallel(n_jobs=1)]: Done   1 out of   1 | elapsed:    0.1s finished\n",
      "[Parallel(n_jobs=1)]: Using backend SequentialBackend with 1 concurrent workers.\n",
      "[Parallel(n_jobs=1)]: Done   1 out of   1 | elapsed:    0.0s finished\n"
     ]
    }
   ],
   "source": [
    "# LR bagging\n",
    "lr_clf = LogisticRegression(max_iter=10000)\n",
    "bag_clf = BaggingClassifier(base_estimator = lr_clf,\n",
    "                           n_estimators=5,\n",
    "                           verbose=1)\n",
    "\n",
    "lr_clf_bag = bag_clf.fit(x_train, y_train)\n",
    "pred_lr_bag = lr_clf_bag.predict(x_test)"
   ]
  },
  {
   "cell_type": "code",
   "execution_count": 17,
   "metadata": {},
   "outputs": [
    {
     "name": "stdout",
     "output_type": "stream",
     "text": [
      "<정확도 : 0.9240>\n",
      "<MSE : 0.0760>\n",
      "\n"
     ]
    }
   ],
   "source": [
    "acc_mse(y_test, pred_lr_bag)"
   ]
  },
  {
   "cell_type": "code",
   "execution_count": 18,
   "metadata": {},
   "outputs": [
    {
     "name": "stderr",
     "output_type": "stream",
     "text": [
      "[Parallel(n_jobs=1)]: Using backend SequentialBackend with 1 concurrent workers.\n",
      "[Parallel(n_jobs=1)]: Done   1 out of   1 | elapsed:    0.0s finished\n",
      "[Parallel(n_jobs=1)]: Using backend SequentialBackend with 1 concurrent workers.\n",
      "[Parallel(n_jobs=1)]: Done   1 out of   1 | elapsed:    0.0s finished\n"
     ]
    }
   ],
   "source": [
    "# DT bagging\n",
    "bag_dt_clf = BaggingClassifier(base_estimator=dt_clf,\n",
    "                              n_estimators=5,\n",
    "                              verbose=1)\n",
    "\n",
    "bag_dt_clf.fit(x_train, y_train)\n",
    "pred_dt_bag = bag_dt_clf.predict(x_test)"
   ]
  },
  {
   "cell_type": "code",
   "execution_count": 19,
   "metadata": {},
   "outputs": [
    {
     "name": "stdout",
     "output_type": "stream",
     "text": [
      "<정확도 : 0.9860>\n",
      "<MSE : 0.0140>\n",
      "\n"
     ]
    }
   ],
   "source": [
    "acc_mse(y_test, pred_dt_bag)"
   ]
  },
  {
   "cell_type": "markdown",
   "metadata": {},
   "source": [
    "### RandomForest\n",
    "#### 1. iris "
   ]
  },
  {
   "cell_type": "code",
   "execution_count": 20,
   "metadata": {},
   "outputs": [],
   "source": [
    "# Dataset\n",
    "iris = datasets.load_iris()\n",
    "x_df = pd.DataFrame(iris.data, columns=iris.feature_names)\n",
    "y_df = pd.DataFrame(iris.target, columns=['target'])\n",
    "\n",
    "x_train, x_test, y_train, y_test = train_test_split(iris.data, iris.target,\n",
    "                                                   test_size=0.2)"
   ]
  },
  {
   "cell_type": "code",
   "execution_count": 21,
   "metadata": {},
   "outputs": [
    {
     "name": "stderr",
     "output_type": "stream",
     "text": [
      "[Parallel(n_jobs=-1)]: Using backend LokyBackend with 4 concurrent workers.\n"
     ]
    },
    {
     "name": "stdout",
     "output_type": "stream",
     "text": [
      "Fitting 5 folds for each of 16 candidates, totalling 80 fits\n"
     ]
    },
    {
     "name": "stderr",
     "output_type": "stream",
     "text": [
      "[Parallel(n_jobs=-1)]: Done  42 tasks      | elapsed:   12.3s\n",
      "[Parallel(n_jobs=-1)]: Done  80 out of  80 | elapsed:   22.4s finished\n",
      "[Parallel(n_jobs=-1)]: Using backend ThreadingBackend with 4 concurrent workers.\n",
      "[Parallel(n_jobs=-1)]: Done  42 tasks      | elapsed:    0.0s\n",
      "[Parallel(n_jobs=-1)]: Done 100 out of 100 | elapsed:    0.0s finished\n"
     ]
    },
    {
     "name": "stdout",
     "output_type": "stream",
     "text": [
      "최적 하이퍼 파라미터: {'max_depth': 3, 'n_estimators': 100}\n",
      "최고 예측 정확도: 0.9500\n"
     ]
    }
   ],
   "source": [
    "# Random Forest GridSearchCV\n",
    "params = {'n_estimators' : [10, 100, 500, 1000],\n",
    "         'max_depth' : [3, 5, 10, 15]}\n",
    "\n",
    "rf_clf = RandomForestClassifier(random_state=121,\n",
    "                                n_jobs=-1,\n",
    "                               verbose=1)\n",
    "\n",
    "grid_cv = GridSearchCV(rf_clf,\n",
    "                      param_grid=params,\n",
    "                      n_jobs=-1,\n",
    "                      verbose=1)\n",
    "grid_cv.fit(x_train, y_train)\n",
    "\n",
    "print(f'최적 하이퍼 파라미터: {grid_cv.best_params_}')\n",
    "print(f'최고 예측 정확도: {grid_cv.best_score_:.4f}')"
   ]
  },
  {
   "cell_type": "markdown",
   "metadata": {},
   "source": [
    "#### 2. Personal Loan\n",
    "- \"Personal Loan.csv\""
   ]
  },
  {
   "cell_type": "code",
   "execution_count": 22,
   "metadata": {},
   "outputs": [],
   "source": [
    "loan = pd.read_csv('data/Personal Loan.csv')\n",
    "x_df = loan.copy()\n",
    "x_df.drop(['ID', 'Personal Loan'], axis=1, inplace=True)\n",
    "y_df = loan['Personal Loan']\n",
    "\n",
    "x_train, x_test, y_train, y_test = train_test_split(x_df, y_df,\n",
    "                                                   test_size=0.2)"
   ]
  },
  {
   "cell_type": "code",
   "execution_count": 23,
   "metadata": {},
   "outputs": [
    {
     "name": "stdout",
     "output_type": "stream",
     "text": [
      "Fitting 5 folds for each of 16 candidates, totalling 80 fits\n"
     ]
    },
    {
     "name": "stderr",
     "output_type": "stream",
     "text": [
      "[Parallel(n_jobs=-1)]: Using backend LokyBackend with 4 concurrent workers.\n",
      "[Parallel(n_jobs=-1)]: Done  42 tasks      | elapsed:   11.6s\n",
      "[Parallel(n_jobs=-1)]: Done  80 out of  80 | elapsed:   25.5s finished\n",
      "[Parallel(n_jobs=-1)]: Using backend ThreadingBackend with 4 concurrent workers.\n",
      "[Parallel(n_jobs=-1)]: Done  42 tasks      | elapsed:    0.0s\n",
      "[Parallel(n_jobs=-1)]: Done 192 tasks      | elapsed:    0.2s\n",
      "[Parallel(n_jobs=-1)]: Done 442 tasks      | elapsed:    0.5s\n",
      "[Parallel(n_jobs=-1)]: Done 792 tasks      | elapsed:    0.9s\n"
     ]
    },
    {
     "name": "stdout",
     "output_type": "stream",
     "text": [
      "최적 하이퍼 파라미터: {'max_depth': 15, 'n_estimators': 1000}\n",
      "최고 예측 정확도: 0.9800\n"
     ]
    },
    {
     "name": "stderr",
     "output_type": "stream",
     "text": [
      "[Parallel(n_jobs=-1)]: Done 1000 out of 1000 | elapsed:    1.2s finished\n"
     ]
    }
   ],
   "source": [
    "# Random Forest GridSearchCV\n",
    "params = {'n_estimators' : [10, 100, 500, 1000],\n",
    "         'max_depth' : [3, 5, 10, 15]}\n",
    "\n",
    "rf_clf = RandomForestClassifier(random_state=121,\n",
    "                                n_jobs=-1,\n",
    "                               verbose=1)\n",
    "\n",
    "grid_cv = GridSearchCV(rf_clf,\n",
    "                      param_grid=params,\n",
    "                      n_jobs=-1,\n",
    "                      verbose=1)\n",
    "grid_cv.fit(x_train, y_train)\n",
    "\n",
    "print(f'최적 하이퍼 파라미터: {grid_cv.best_params_}')\n",
    "print(f'최고 예측 정확도: {grid_cv.best_score_:.4f}')"
   ]
  },
  {
   "cell_type": "markdown",
   "metadata": {},
   "source": [
    "### Gradient boosting\n",
    "#### Personal Loan"
   ]
  },
  {
   "cell_type": "code",
   "execution_count": 24,
   "metadata": {},
   "outputs": [],
   "source": [
    "# Personal Loan Dataset\n",
    "loan = pd.read_csv('data/Personal Loan.csv')\n",
    "x_df = loan.copy()\n",
    "x_df.drop(['ID', 'Personal Loan'], axis=1, inplace=True)\n",
    "y_df = loan['Personal Loan']\n",
    "\n",
    "x_train, x_test, y_train, y_test = train_test_split(x_df, y_df,\n",
    "                                                   test_size=0.2)"
   ]
  },
  {
   "cell_type": "markdown",
   "metadata": {},
   "source": [
    "- #### Gradient boost"
   ]
  },
  {
   "cell_type": "code",
   "execution_count": 25,
   "metadata": {},
   "outputs": [],
   "source": [
    "# GB\n",
    "gb_clf = GradientBoostingClassifier(n_estimators=30, random_state=121)\n",
    "\n",
    "gb_clf.fit(x_train, y_train)\n",
    "gb_pred = gb_clf.predict(x_test)"
   ]
  },
  {
   "cell_type": "code",
   "execution_count": 26,
   "metadata": {},
   "outputs": [
    {
     "name": "stdout",
     "output_type": "stream",
     "text": [
      "<정확도 : 0.9880>\n",
      "<MSE : 0.0120>\n",
      "\n"
     ]
    }
   ],
   "source": [
    "acc_mse(y_test, gb_pred)"
   ]
  },
  {
   "cell_type": "code",
   "execution_count": 27,
   "metadata": {},
   "outputs": [
    {
     "name": "stdout",
     "output_type": "stream",
     "text": [
      "Fitting 5 folds for each of 60 candidates, totalling 300 fits\n"
     ]
    },
    {
     "name": "stderr",
     "output_type": "stream",
     "text": [
      "[Parallel(n_jobs=-1)]: Using backend LokyBackend with 4 concurrent workers.\n",
      "[Parallel(n_jobs=-1)]: Done  76 tasks      | elapsed:    1.9s\n"
     ]
    },
    {
     "name": "stdout",
     "output_type": "stream",
     "text": [
      "최적 하이퍼 파라미터: {'learning_rate': 0.1, 'max_depth': 3, 'n_estimators': 50}\n",
      "최고 예측 정확도: 0.9820\n"
     ]
    },
    {
     "name": "stderr",
     "output_type": "stream",
     "text": [
      "[Parallel(n_jobs=-1)]: Done 300 out of 300 | elapsed:    7.9s finished\n"
     ]
    }
   ],
   "source": [
    "# GB GridSearchCV\n",
    "params = {'learning_rate': [0.01, 0.05, 0.1],\n",
    "          'n_estimators' : [10, 20, 30, 40, 50],\n",
    "          'max_depth': [3, 5, 7, 9]}\n",
    "\n",
    "\n",
    "gb_clf = GradientBoostingClassifier()\n",
    "\n",
    "grid_cv = GridSearchCV(gb_clf,\n",
    "                      param_grid=params,\n",
    "                      n_jobs=-1,\n",
    "                      verbose=1)\n",
    "grid_cv.fit(x_train, y_train)\n",
    "\n",
    "print(f'최적 하이퍼 파라미터: {grid_cv.best_params_}')\n",
    "print(f'최고 예측 정확도: {grid_cv.best_score_:.4f}')"
   ]
  },
  {
   "cell_type": "markdown",
   "metadata": {},
   "source": [
    "- #### XGboost"
   ]
  },
  {
   "cell_type": "code",
   "execution_count": 28,
   "metadata": {},
   "outputs": [
    {
     "name": "stdout",
     "output_type": "stream",
     "text": [
      "[0]\ttrain-logloss:0.454229\teval-logloss:0.450877\n",
      "[1]\ttrain-logloss:0.323187\teval-logloss:0.318401\n",
      "[2]\ttrain-logloss:0.240715\teval-logloss:0.232936\n",
      "[3]\ttrain-logloss:0.1839\teval-logloss:0.178248\n",
      "[4]\ttrain-logloss:0.14533\teval-logloss:0.142266\n",
      "[5]\ttrain-logloss:0.116919\teval-logloss:0.113453\n",
      "[6]\ttrain-logloss:0.097379\teval-logloss:0.094698\n",
      "[7]\ttrain-logloss:0.083236\teval-logloss:0.081287\n",
      "[8]\ttrain-logloss:0.07353\teval-logloss:0.071742\n",
      "[9]\ttrain-logloss:0.065023\teval-logloss:0.064502\n"
     ]
    }
   ],
   "source": [
    "# Dataset and Param\n",
    "dtrain = xgb.DMatrix(data=x_train, label=y_train)\n",
    "dtest = xgb.DMatrix(data=x_test, label=y_test)\n",
    "\n",
    "xgb_param = {'max_depth': 3,\n",
    "            'objective': 'binary:logistic',\n",
    "            'eval_metric': 'logloss'}\n",
    "\n",
    "wlist = [(dtrain, 'train'), (dtest, 'eval')]\n",
    "\n",
    "# model fitting\n",
    "xgb_model = xgb.train(params=xgb_param, dtrain=dtrain, evals=wlist)\n",
    "xgb_model_predict = xgb_model.predict(dtest)"
   ]
  },
  {
   "cell_type": "code",
   "execution_count": 40,
   "metadata": {},
   "outputs": [
    {
     "data": {
      "text/plain": [
       "<matplotlib.axes._subplots.AxesSubplot at 0x288afe72788>"
      ]
     },
     "execution_count": 40,
     "metadata": {},
     "output_type": "execute_result"
    },
    {
     "data": {
      "image/png": "[encoded data removed]",
      "text/plain": [
       "<Figure size 1800x720 with 1 Axes>"
      ]
     },
     "metadata": {
      "needs_background": "light"
     },
     "output_type": "display_data"
    }
   ],
   "source": [
    "# feature importance\n",
    "fig, ax = plt.subplots(figsize=(25, 10))\n",
    "xgb.plot_importance(xgb_model, ax=ax, height=0.4, title='Personal Loan feature importance', grid=0)"
   ]
  },
  {
   "cell_type": "code",
   "execution_count": 30,
   "metadata": {},
   "outputs": [
    {
     "name": "stdout",
     "output_type": "stream",
     "text": [
      "<정확도 : 0.9880>\n",
      "<MSE : 0.0120>\n",
      "\n"
     ]
    }
   ],
   "source": [
    "# step function\n",
    "preds = [1 if x > 0.5 else 0 for x in xgb_model_predict]\n",
    "acc_mse(y_test, preds)"
   ]
  },
  {
   "cell_type": "markdown",
   "metadata": {},
   "source": [
    "- #### LightGBM"
   ]
  },
  {
   "cell_type": "code",
   "execution_count": 31,
   "metadata": {},
   "outputs": [
    {
     "name": "stdout",
     "output_type": "stream",
     "text": [
      "[1]\tvalid_0's binary_logloss: 0.220356\n",
      "Training until validation scores don't improve for 100 rounds\n",
      "[2]\tvalid_0's binary_logloss: 0.190132\n",
      "[3]\tvalid_0's binary_logloss: 0.169186\n",
      "[4]\tvalid_0's binary_logloss: 0.152662\n",
      "[5]\tvalid_0's binary_logloss: 0.138473\n",
      "[6]\tvalid_0's binary_logloss: 0.126656\n",
      "[7]\tvalid_0's binary_logloss: 0.116806\n",
      "[8]\tvalid_0's binary_logloss: 0.107796\n",
      "[9]\tvalid_0's binary_logloss: 0.100057\n",
      "[10]\tvalid_0's binary_logloss: 0.0932733\n",
      "[11]\tvalid_0's binary_logloss: 0.0878413\n",
      "[12]\tvalid_0's binary_logloss: 0.0827333\n",
      "[13]\tvalid_0's binary_logloss: 0.0785495\n",
      "[14]\tvalid_0's binary_logloss: 0.0745012\n",
      "[15]\tvalid_0's binary_logloss: 0.0708538\n",
      "[16]\tvalid_0's binary_logloss: 0.0679505\n",
      "[17]\tvalid_0's binary_logloss: 0.0651343\n",
      "[18]\tvalid_0's binary_logloss: 0.0625894\n",
      "[19]\tvalid_0's binary_logloss: 0.0602107\n",
      "[20]\tvalid_0's binary_logloss: 0.057517\n",
      "[21]\tvalid_0's binary_logloss: 0.0556222\n",
      "[22]\tvalid_0's binary_logloss: 0.0535132\n",
      "[23]\tvalid_0's binary_logloss: 0.0516202\n",
      "[24]\tvalid_0's binary_logloss: 0.0501869\n",
      "[25]\tvalid_0's binary_logloss: 0.049679\n",
      "[26]\tvalid_0's binary_logloss: 0.0482108\n",
      "[27]\tvalid_0's binary_logloss: 0.0472527\n",
      "[28]\tvalid_0's binary_logloss: 0.047028\n",
      "[29]\tvalid_0's binary_logloss: 0.046004\n",
      "[30]\tvalid_0's binary_logloss: 0.0451818\n",
      "[31]\tvalid_0's binary_logloss: 0.0434515\n",
      "[32]\tvalid_0's binary_logloss: 0.0431103\n",
      "[33]\tvalid_0's binary_logloss: 0.0423747\n",
      "[34]\tvalid_0's binary_logloss: 0.0419412\n",
      "[35]\tvalid_0's binary_logloss: 0.0414413\n",
      "[36]\tvalid_0's binary_logloss: 0.0410179\n",
      "[37]\tvalid_0's binary_logloss: 0.0405097\n",
      "[38]\tvalid_0's binary_logloss: 0.0396132\n",
      "[39]\tvalid_0's binary_logloss: 0.0393602\n",
      "[40]\tvalid_0's binary_logloss: 0.0385716\n",
      "[41]\tvalid_0's binary_logloss: 0.0379812\n",
      "[42]\tvalid_0's binary_logloss: 0.0377838\n",
      "[43]\tvalid_0's binary_logloss: 0.0372401\n",
      "[44]\tvalid_0's binary_logloss: 0.036778\n",
      "[45]\tvalid_0's binary_logloss: 0.0364029\n",
      "[46]\tvalid_0's binary_logloss: 0.0357691\n",
      "[47]\tvalid_0's binary_logloss: 0.0355658\n",
      "[48]\tvalid_0's binary_logloss: 0.0349248\n",
      "[49]\tvalid_0's binary_logloss: 0.0351901\n",
      "[50]\tvalid_0's binary_logloss: 0.0347968\n",
      "[51]\tvalid_0's binary_logloss: 0.0344935\n",
      "[52]\tvalid_0's binary_logloss: 0.0349714\n",
      "[53]\tvalid_0's binary_logloss: 0.0345814\n",
      "[54]\tvalid_0's binary_logloss: 0.0346309\n",
      "[55]\tvalid_0's binary_logloss: 0.0340571\n",
      "[56]\tvalid_0's binary_logloss: 0.0330076\n",
      "[57]\tvalid_0's binary_logloss: 0.0329945\n",
      "[58]\tvalid_0's binary_logloss: 0.0327173\n",
      "[59]\tvalid_0's binary_logloss: 0.0331315\n",
      "[60]\tvalid_0's binary_logloss: 0.0328477\n",
      "[61]\tvalid_0's binary_logloss: 0.0325494\n",
      "[62]\tvalid_0's binary_logloss: 0.0324433\n",
      "[63]\tvalid_0's binary_logloss: 0.0323997\n",
      "[64]\tvalid_0's binary_logloss: 0.0325142\n",
      "[65]\tvalid_0's binary_logloss: 0.0321384\n",
      "[66]\tvalid_0's binary_logloss: 0.0320656\n",
      "[67]\tvalid_0's binary_logloss: 0.0319457\n",
      "[68]\tvalid_0's binary_logloss: 0.0320156\n",
      "[69]\tvalid_0's binary_logloss: 0.0325213\n",
      "[70]\tvalid_0's binary_logloss: 0.0328402\n",
      "[71]\tvalid_0's binary_logloss: 0.0333383\n",
      "[72]\tvalid_0's binary_logloss: 0.0333639\n",
      "[73]\tvalid_0's binary_logloss: 0.0333542\n",
      "[74]\tvalid_0's binary_logloss: 0.0334897\n",
      "[75]\tvalid_0's binary_logloss: 0.0339051\n",
      "[76]\tvalid_0's binary_logloss: 0.033835\n",
      "[77]\tvalid_0's binary_logloss: 0.0338561\n",
      "[78]\tvalid_0's binary_logloss: 0.0342092\n",
      "[79]\tvalid_0's binary_logloss: 0.0344601\n",
      "[80]\tvalid_0's binary_logloss: 0.0350953\n",
      "[81]\tvalid_0's binary_logloss: 0.035181\n",
      "[82]\tvalid_0's binary_logloss: 0.0357627\n",
      "[83]\tvalid_0's binary_logloss: 0.0360599\n",
      "[84]\tvalid_0's binary_logloss: 0.0358584\n",
      "[85]\tvalid_0's binary_logloss: 0.0361823\n",
      "[86]\tvalid_0's binary_logloss: 0.036267\n",
      "[87]\tvalid_0's binary_logloss: 0.0363807\n",
      "[88]\tvalid_0's binary_logloss: 0.036737\n",
      "[89]\tvalid_0's binary_logloss: 0.0371516\n",
      "[90]\tvalid_0's binary_logloss: 0.0371663\n",
      "[91]\tvalid_0's binary_logloss: 0.0375969\n",
      "[92]\tvalid_0's binary_logloss: 0.0378259\n",
      "[93]\tvalid_0's binary_logloss: 0.0378991\n",
      "[94]\tvalid_0's binary_logloss: 0.0373393\n",
      "[95]\tvalid_0's binary_logloss: 0.0379058\n",
      "[96]\tvalid_0's binary_logloss: 0.0382495\n",
      "[97]\tvalid_0's binary_logloss: 0.0375214\n",
      "[98]\tvalid_0's binary_logloss: 0.03768\n",
      "[99]\tvalid_0's binary_logloss: 0.0381279\n",
      "[100]\tvalid_0's binary_logloss: 0.0376799\n",
      "Did not meet early stopping. Best iteration is:\n",
      "[67]\tvalid_0's binary_logloss: 0.0319457\n"
     ]
    }
   ],
   "source": [
    "# LGBM fitting\n",
    "lgbm_wrapper = LGBMClassifier()\n",
    "evals = [(x_test, y_test)]\n",
    "lgbm_wrapper.fit(x_train, y_train, early_stopping_rounds=100, eval_metric='logloss',\n",
    "                eval_set=evals, verbose=True)\n",
    "preds = lgbm_wrapper.predict(x_test)"
   ]
  },
  {
   "cell_type": "code",
   "execution_count": 32,
   "metadata": {},
   "outputs": [
    {
     "name": "stdout",
     "output_type": "stream",
     "text": [
      "<정확도 : 0.9880>\n",
      "<MSE : 0.0120>\n",
      "\n"
     ]
    }
   ],
   "source": [
    "acc_mse(y_test, preds)"
   ]
  }
 ],
 "metadata": {
  "kernelspec": {
   "display_name": "Python 3",
   "language": "python",
   "name": "python3"
  },
  "language_info": {
   "codemirror_mode": {
    "name": "ipython",
    "version": 3
   },
   "file_extension": ".py",
   "mimetype": "text/x-python",
   "name": "python",
   "nbconvert_exporter": "python",
   "pygments_lexer": "ipython3",
   "version": "3.7.6"
  }
 },
 "nbformat": 4,
 "nbformat_minor": 4
}

{
 "cells": [
  {
   "cell_type": "markdown",
   "metadata": {},
   "source": [
    "> ### 데이터 청년 캠퍼스\n",
    "> #### 노재혁"
   ]
  },
  {
   "cell_type": "markdown",
   "metadata": {},
   "source": [
    "## 통계"
   ]
  },
  {
   "cell_type": "markdown",
   "metadata": {},
   "source": [
    "- #### 평균 확인"
   ]
  },
  {
   "cell_type": "code",
   "execution_count": 24,
   "metadata": {},
   "outputs": [
    {
     "name": "stdout",
     "output_type": "stream",
     "text": [
      "56.2\n"
     ]
    }
   ],
   "source": [
    "import numpy as np\n",
    "\n",
    "# np.random.seed(121) 난수생성\n",
    "\n",
    "avg_ran_list = np.random.randint(100, size=10) # 랜덤한 정수 표본추출\n",
    "avg = np.mean(avg_ran_list)\n",
    "\n",
    "\n",
    "print(avg)"
   ]
  },
  {
   "cell_type": "markdown",
   "metadata": {},
   "source": [
    "- #### 분산과 표준편차의 차이 확인"
   ]
  },
  {
   "cell_type": "code",
   "execution_count": 50,
   "metadata": {},
   "outputs": [
    {
     "name": "stdout",
     "output_type": "stream",
     "text": [
      "1707.8399999999997\n",
      "0.17078399999999996\n"
     ]
    }
   ],
   "source": [
    "# 100배 차이 나는 두 변수\n",
    "first_num = np.random.choice(200, 5, replace=False)\n",
    "second_num = first_num / 100\n",
    "\n",
    "print(np.var(first_num))\n",
    "print(np.var(second_num))"
   ]
  },
  {
   "cell_type": "code",
   "execution_count": 39,
   "metadata": {},
   "outputs": [
    {
     "name": "stdout",
     "output_type": "stream",
     "text": [
      "49.74977386883281\n",
      "0.49749773868832814\n"
     ]
    }
   ],
   "source": [
    "print(np.std(first_num))\n",
    "print(np.std(second_num))"
   ]
  },
  {
   "cell_type": "code",
   "execution_count": 54,
   "metadata": {},
   "outputs": [
    {
     "name": "stdout",
     "output_type": "stream",
     "text": [
      "[135.42535096 146.42535096 116.42535096  90.42535096  30.42535096]\n",
      "[-1.19464904 -1.08464904 -1.38464904 -1.64464904 -2.24464904]\n"
     ]
    }
   ],
   "source": [
    "def standardize(x):\n",
    "    return (x - np.mean(x) / np.std(x))\n",
    "\n",
    "print(standardize(first_num))\n",
    "print(standardize(second_num))"
   ]
  },
  {
   "cell_type": "markdown",
   "metadata": {},
   "source": [
    "- #### 정규분포난수를 생성하고 평균과 표준편차 계산"
   ]
  },
  {
   "cell_type": "code",
   "execution_count": 55,
   "metadata": {},
   "outputs": [
    {
     "name": "stdout",
     "output_type": "stream",
     "text": [
      "-0.04712539978382888\n",
      "0.9975260928014766\n"
     ]
    }
   ],
   "source": [
    "n = np.random.randn(1000)\n",
    "\n",
    "print(np.mean(n))\n",
    "print(np.std(n))"
   ]
  },
  {
   "cell_type": "markdown",
   "metadata": {},
   "source": [
    "## 미분"
   ]
  },
  {
   "cell_type": "markdown",
   "metadata": {},
   "source": [
    "- #### 2차함수계산"
   ]
  },
  {
   "cell_type": "code",
   "execution_count": 56,
   "metadata": {},
   "outputs": [
    {
     "name": "stdout",
     "output_type": "stream",
     "text": [
      "5\n",
      "2\n"
     ]
    }
   ],
   "source": [
    "def f(x):\n",
    "    return x ** 2 + 1\n",
    "\n",
    "print(f(-2))\n",
    "print(f(1))"
   ]
  },
  {
   "cell_type": "markdown",
   "metadata": {},
   "source": [
    "- #### 미분"
   ]
  },
  {
   "cell_type": "code",
   "execution_count": 57,
   "metadata": {},
   "outputs": [
    {
     "name": "stdout",
     "output_type": "stream",
     "text": [
      "[1, 1.0, 3.0]\n",
      "[0.1, 0.10000000000000009, 2.0999999999999996]\n",
      "[0.01, 0.009999999999998899, 2.010000000000023]\n",
      "[0.001, 0.0009999999999177334, 2.0009999999999195]\n"
     ]
    }
   ],
   "source": [
    "def df(a, h):\n",
    "    return (f(a + h) - f(a)) / h\n",
    "\n",
    "for h in [1, 1e-1, 1e-2, 1e-3]:\n",
    "    print([h, df(0, h), df(1, h)])"
   ]
  },
  {
   "cell_type": "markdown",
   "metadata": {},
   "source": [
    "## 행렬"
   ]
  },
  {
   "cell_type": "markdown",
   "metadata": {},
   "source": [
    "- #### 행렬의 합과 차 계산"
   ]
  },
  {
   "cell_type": "code",
   "execution_count": 58,
   "metadata": {},
   "outputs": [],
   "source": [
    "A = np.array([[1, 2, 3], [3, 4, 5]])\n",
    "B = np.array([[3, 4, 5], [4, 5, 6]])"
   ]
  },
  {
   "cell_type": "code",
   "execution_count": 59,
   "metadata": {},
   "outputs": [
    {
     "name": "stdout",
     "output_type": "stream",
     "text": [
      "[[ 4  6  8]\n",
      " [ 7  9 11]]\n",
      "[[-2 -2 -2]\n",
      " [-1 -1 -1]]\n"
     ]
    }
   ],
   "source": [
    "print(A + B)\n",
    "print(A - B)"
   ]
  },
  {
   "cell_type": "markdown",
   "metadata": {},
   "source": [
    "- #### 행렬의 곱 계산"
   ]
  },
  {
   "cell_type": "code",
   "execution_count": 61,
   "metadata": {},
   "outputs": [
    {
     "name": "stdout",
     "output_type": "stream",
     "text": [
      "[[26 32]\n",
      " [50 62]]\n",
      "[[26 32]\n",
      " [50 62]]\n"
     ]
    }
   ],
   "source": [
    "A = np.array([[1, 2, 3], [3, 4, 5]])\n",
    "B = np.array([[3, 4], [4, 5], [5, 6]])\n",
    "\n",
    "print(A.dot(B))\n",
    "print(A @ B)"
   ]
  },
  {
   "cell_type": "markdown",
   "metadata": {},
   "source": [
    "- #### 행렬의 역행렬"
   ]
  },
  {
   "cell_type": "code",
   "execution_count": 62,
   "metadata": {},
   "outputs": [
    {
     "name": "stdout",
     "output_type": "stream",
     "text": [
      "[[ 3. -5.]\n",
      " [-1.  2.]]\n"
     ]
    }
   ],
   "source": [
    "A = np.array([[2, 5], [1, 3]])\n",
    "print(np.linalg.inv(A))"
   ]
  },
  {
   "cell_type": "markdown",
   "metadata": {},
   "source": [
    "- #### 행렬식 계산"
   ]
  },
  {
   "cell_type": "code",
   "execution_count": 64,
   "metadata": {},
   "outputs": [
    {
     "name": "stdout",
     "output_type": "stream",
     "text": [
      "1.0\n",
      "-13.0\n"
     ]
    }
   ],
   "source": [
    "A = np.array([[2, 5], [1, 3]])\n",
    "print(np.linalg.det(A))\n",
    "\n",
    "B = np.array([[1, 4, 2], [3, -1, -2], [-3, 1, 3]])\n",
    "print(np.linalg.det(B))"
   ]
  }
 ],
 "metadata": {
  "kernelspec": {
   "display_name": "Python 3",
   "language": "python",
   "name": "python3"
  },
  "language_info": {
   "codemirror_mode": {
    "name": "ipython",
    "version": 3
   },
   "file_extension": ".py",
   "mimetype": "text/x-python",
   "name": "python",
   "nbconvert_exporter": "python",
   "pygments_lexer": "ipython3",
   "version": "3.7.6"
  }
 },
 "nbformat": 4,
 "nbformat_minor": 4
}

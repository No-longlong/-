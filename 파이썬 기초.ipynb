{
 "cells": [
  {
   "cell_type": "markdown",
   "metadata": {},
   "source": [
    "# I. 파이썬 개요 및 기초"
   ]
  },
  {
   "cell_type": "markdown",
   "metadata": {},
   "source": [
    "## 1. 개발환경 설정"
   ]
  },
  {
   "cell_type": "markdown",
   "metadata": {},
   "source": [
    "### 마크다운 익히기"
   ]
  },
  {
   "cell_type": "markdown",
   "metadata": {},
   "source": [
    "- -과 탭을 통해서 적용\n",
    "\n",
    "markdown\n",
    "- markdown\n",
    "    - markdown\n",
    "        - markdown\n",
    "            - markdown\n",
    "                - markdown\n",
    "                    - markdown\n",
    "                        - markdown\n",
    "                            - markdown\n"
   ]
  },
  {
   "cell_type": "markdown",
   "metadata": {},
   "source": [
    "- 수학식: 앞뒤로 달러표시\n",
    "\n",
    "$y = x$"
   ]
  },
  {
   "cell_type": "markdown",
   "metadata": {},
   "source": [
    "- URL표기 \n",
    "\n",
    "[네이버](www.naver.com)"
   ]
  },
  {
   "cell_type": "markdown",
   "metadata": {},
   "source": [
    "## 2. 기본 문법"
   ]
  },
  {
   "cell_type": "markdown",
   "metadata": {},
   "source": [
    "- print()\n",
    "    - sep, end\n",
    "    \n",
    "\n",
    "- 변수 이름 규칙\n",
    "    - _로 시작 가능, 숫자 시작 불가\n",
    "    - 예약어 사용 금지(ex. for, while, if, elif, else, def 등)\n",
    "    \n",
    "    \n",
    "- 데이터 타입\n",
    "    - 숫자형\n",
    "        - 나누기: /, 몫: //, 나머지: %\n",
    "    - 문자형\n",
    "        - 여러 줄로 표현하는 것 \"\"\" \"\"\"\n",
    "\n",
    "\n",
    "- 이스케이프 문자\n",
    "    - \\n(new line), \\t \n",
    "\n",
    "\n",
    "- 문자열 함수\n",
    "    - upper, replace\n",
    "    \n",
    "    \n",
    "- 리스트\n",
    "    - str.split() 구분자로 구분해서 '리스트'로 반환\n",
    "    - 인덱스를 이용해 항목 변경 가능 variable[num] = str\n",
    "    - extend(): 리스트 연장; +랑 같은 기능인데..?\n",
    "    - pop(index): 디폴트는 리스트의 마지막 요소를 제거하고 반환, 파라미터는 인덱스 넘버이고, 해당 넘버를 넣으면 해당 리스트이 요소를 리스트에서 제거하고 반환\n",
    "    - index(): 리스트의 인덱스를 반환\n",
    "    - sort(): 리스트 정렬, sorted(): 정렬된 리스트 복사본 반환\n",
    "\n",
    "\n",
    "- 딕셔너리\n",
    "    - 원소 추가: 리스트 추가와 동일 a[key] = value(키 중복되면 value를 교체)\n",
    "    - update(): 딕셔너리 병합 a.update(b)를 하면 a뒤에 b가 붙음\n",
    "    - del a['key']: 원소 삭제\n",
    "    - clear(): 딕셔너리 값 초기화\n",
    "    - in: key값 존재 확인\n",
    "    - dict['key']: 값에 접근(key가 없으면 에러 발생)\n",
    "    - get(): 값에 접근(ket가 없으면 None반환)\n",
    "    - keys(): 키만 반환\n",
    "    - values(): 값만 반환\n",
    "    \n",
    "\n",
    "- 집합(set)\n",
    "    - 수학에서 집합과 동일한 개념\n",
    "    - {}, set()으로 생성\n",
    "    - 연산: union, iontersection, difference 가능"
   ]
  },
  {
   "cell_type": "markdown",
   "metadata": {},
   "source": [
    "- 조건문\n",
    "    - while\n",
    "        - whilel 뒤의 조건이 ture일 경우 계속 수행\n",
    "        - 반복을 멈추게 하는 장치가 필요(false조건, break)\n",
    "        \n",
    "        \n",
    "- 반복문\n",
    "    - dictionary\n",
    "        - 키, 밸류, 키밸류를 순회 가능. \n",
    "            - for key in dict (키값)\n",
    "            - for value in dict.values() (value값)\n",
    "            - for key, value in dict.items() (키, 밸류 튜플)\n"
   ]
  },
  {
   "cell_type": "markdown",
   "metadata": {},
   "source": [
    "#### 조건문과 반복문 연습문제\n",
    "1.  구구단 2-9단\n",
    "    - while로도 풀어보기\n",
    "2.  1 - 100 정수 중 3의 배수 또는 7의 배수 모두 출력\n",
    "3.  a = [3, 25, 34, 87, 49, 7, 97, 63, 28]에서 최대값, 최소값, 평균을 구하시오\n",
    "    - 최소 최대는 정렬과 인덱싱으로 구할 수 있음"
   ]
  },
  {
   "cell_type": "code",
   "execution_count": 30,
   "metadata": {
    "collapsed": true,
    "jupyter": {
     "outputs_hidden": true
    }
   },
   "outputs": [
    {
     "name": "stdout",
     "output_type": "stream",
     "text": [
      "2 * 1 = 2\n",
      "2 * 2 = 4\n",
      "2 * 3 = 6\n",
      "2 * 4 = 8\n",
      "2 * 5 = 10\n",
      "2 * 6 = 12\n",
      "2 * 7 = 14\n",
      "2 * 8 = 16\n",
      "2 * 9 = 18\n",
      "3 * 1 = 3\n",
      "3 * 2 = 6\n",
      "3 * 3 = 9\n",
      "3 * 4 = 12\n",
      "3 * 5 = 15\n",
      "3 * 6 = 18\n",
      "3 * 7 = 21\n",
      "3 * 8 = 24\n",
      "3 * 9 = 27\n",
      "4 * 1 = 4\n",
      "4 * 2 = 8\n",
      "4 * 3 = 12\n",
      "4 * 4 = 16\n",
      "4 * 5 = 20\n",
      "4 * 6 = 24\n",
      "4 * 7 = 28\n",
      "4 * 8 = 32\n",
      "4 * 9 = 36\n",
      "5 * 1 = 5\n",
      "5 * 2 = 10\n",
      "5 * 3 = 15\n",
      "5 * 4 = 20\n",
      "5 * 5 = 25\n",
      "5 * 6 = 30\n",
      "5 * 7 = 35\n",
      "5 * 8 = 40\n",
      "5 * 9 = 45\n",
      "6 * 1 = 6\n",
      "6 * 2 = 12\n",
      "6 * 3 = 18\n",
      "6 * 4 = 24\n",
      "6 * 5 = 30\n",
      "6 * 6 = 36\n",
      "6 * 7 = 42\n",
      "6 * 8 = 48\n",
      "6 * 9 = 54\n",
      "7 * 1 = 7\n",
      "7 * 2 = 14\n",
      "7 * 3 = 21\n",
      "7 * 4 = 28\n",
      "7 * 5 = 35\n",
      "7 * 6 = 42\n",
      "7 * 7 = 49\n",
      "7 * 8 = 56\n",
      "7 * 9 = 63\n",
      "8 * 1 = 8\n",
      "8 * 2 = 16\n",
      "8 * 3 = 24\n",
      "8 * 4 = 32\n",
      "8 * 5 = 40\n",
      "8 * 6 = 48\n",
      "8 * 7 = 56\n",
      "8 * 8 = 64\n",
      "8 * 9 = 72\n",
      "9 * 1 = 9\n",
      "9 * 2 = 18\n",
      "9 * 3 = 27\n",
      "9 * 4 = 36\n",
      "9 * 5 = 45\n",
      "9 * 6 = 54\n",
      "9 * 7 = 63\n",
      "9 * 8 = 72\n",
      "9 * 9 = 81\n",
      "3\n",
      "6\n",
      "7\n",
      "9\n",
      "12\n",
      "14\n",
      "15\n",
      "18\n",
      "21\n",
      "24\n",
      "27\n",
      "28\n",
      "30\n",
      "33\n",
      "35\n",
      "36\n",
      "39\n",
      "42\n",
      "45\n",
      "48\n",
      "49\n",
      "51\n",
      "54\n",
      "56\n",
      "57\n",
      "60\n",
      "63\n",
      "66\n",
      "69\n",
      "70\n",
      "72\n",
      "75\n",
      "77\n",
      "78\n",
      "81\n",
      "84\n",
      "87\n",
      "90\n",
      "91\n",
      "93\n",
      "96\n",
      "98\n",
      "99\n",
      "3 97 44.8\n"
     ]
    }
   ],
   "source": [
    "# 1. 구구단 2~9단\n",
    "for first in range(2, 10):\n",
    "    for second in range(1, 10):\n",
    "        value = first * second\n",
    "        print(f'{first} * {second} = {value}')\n",
    "        \n",
    "# 2. 1 ~ 100 정수 중 3의 배수 또는 7의 배수\n",
    "for number in range(1, 101):\n",
    "    if (number % 3 == 0 or number % 7 == 0):\n",
    "        print(number)\n",
    "        \n",
    "# 3번 문제\n",
    "a = [3, 25, 34, 87, 55, 49, 7, 97, 63, 28]\n",
    "\n",
    "num = 0\n",
    "for i in a:\n",
    "    num += i\n",
    "num /= len(a)\n",
    "\n",
    "print(min(a), max(a), num)"
   ]
  },
  {
   "cell_type": "markdown",
   "metadata": {},
   "source": [
    "- 함수\n",
    "    - 반환: return만 존재하면 None반환, 없어도 None반환\n",
    "    - Lambda 함수: 단일문으로 표현되는 익명함수"
   ]
  },
  {
   "cell_type": "markdown",
   "metadata": {},
   "source": [
    "### 함수 연습문제\n",
    "1. 숫자 리스트의 평균을 구하는 함수\n",
    "2. 이름과 나이를 입력받아 자기소개하는 함수 \n",
    "3. 두개의 숫자 입력받아 사칙연산 결과를 출력하는 함수"
   ]
  },
  {
   "cell_type": "code",
   "execution_count": 3,
   "metadata": {},
   "outputs": [],
   "source": [
    "# 함수 연습문제 \n",
    "# 1번\n",
    "def mean(list_name):\n",
    "    list_mean = sum(list_name) / len(list_name)\n",
    "    return list_mean\n",
    "\n",
    "# 2번\n",
    "def intro(age, name):\n",
    "    print(f'안녕하세요 제 이름은 {name}이고, {age}살 입니다.')\n",
    "\n",
    "# 3번\n",
    "def calculator(num1, num2):\n",
    "    sum = num1 + num2\n",
    "    constract = num1 - num2\n",
    "    product = num1 * num2\n",
    "    devide = num1 / num2\n",
    "    print(f'더하기는 {sum}\\n빼기는 {constract}\\n곱하기는 {product}\\n나누기는 {devide}')"
   ]
  },
  {
   "cell_type": "code",
   "execution_count": null,
   "metadata": {},
   "outputs": [],
   "source": []
  }
 ],
 "metadata": {
  "kernelspec": {
   "display_name": "Python 3",
   "language": "python",
   "name": "python3"
  },
  "language_info": {
   "codemirror_mode": {
    "name": "ipython",
    "version": 3
   },
   "file_extension": ".py",
   "mimetype": "text/x-python",
   "name": "python",
   "nbconvert_exporter": "python",
   "pygments_lexer": "ipython3",
   "version": "3.7.6"
  }
 },
 "nbformat": 4,
 "nbformat_minor": 4
}

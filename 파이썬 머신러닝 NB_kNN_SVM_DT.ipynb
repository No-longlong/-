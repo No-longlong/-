{
 "cells": [
  {
   "cell_type": "markdown",
   "metadata": {},
   "source": [
    "> ## 데이터 청년 캠퍼스 14일차 과제\n",
    "> ### <b>노재혁</b>"
   ]
  },
  {
   "cell_type": "markdown",
   "metadata": {},
   "source": [
    "### 1. 나이브베이즈(가우시안)를 이용\n",
    "#### 와인 등급을 예측하는 모델을 만들고, 모델 성능을 평가하시오.\n",
    "- prior 값을 변경하면서 성능비교\n",
    "- datasets.load_wine() 으로 데이터를 불러와 사용 "
   ]
  },
  {
   "cell_type": "code",
   "execution_count": 1,
   "metadata": {},
   "outputs": [],
   "source": [
    "import numpy as np\n",
    "import pandas as pd\n",
    "import matplotlib.pyplot as plt\n",
    "\n",
    "from sklearn import datasets\n",
    "from sklearn.model_selection import train_test_split\n",
    "from sklearn.linear_model import LogisticRegression, Ridge, Lasso, ElasticNet\n",
    "from sklearn import metrics\n",
    "from sklearn.metrics import confusion_matrix, accuracy_score, precision_score, recall_score\n",
    "from sklearn.naive_bayes import GaussianNB\n",
    "from sklearn.neighbors import KNeighborsClassifier\n",
    "from sklearn import svm, tree\n",
    "import graphviz"
   ]
  },
  {
   "cell_type": "code",
   "execution_count": 2,
   "metadata": {},
   "outputs": [],
   "source": [
    "# confusion matrix, accuracy, precision, recall\n",
    "def cfmat_acc(y_test, predict):\n",
    "    confusion = confusion_matrix(y_test, predict)\n",
    "    accuracy = accuracy_score(y_test, predict)\n",
    "    print(f'confusion matrix\\n{confusion}\\n')\n",
    "    print(f'[정확도:{accuracy:.4f}]')"
   ]
  },
  {
   "cell_type": "code",
   "execution_count": 3,
   "metadata": {},
   "outputs": [],
   "source": [
    "wine = datasets.load_wine()\n",
    "\n",
    "wdf = pd.DataFrame(wine.data, columns=wine.feature_names)\n",
    "wdf['target'] = pd.DataFrame(wine.target)\n",
    "wdf.head()\n",
    "\n",
    "x_train, x_test, y_train, y_test = train_test_split(wine.data, wine.target,\n",
    "                                                   test_size=0.3,\n",
    "                                                   random_state=121)"
   ]
  },
  {
   "cell_type": "code",
   "execution_count": 4,
   "metadata": {},
   "outputs": [
    {
     "name": "stdout",
     "output_type": "stream",
     "text": [
      "confusion matrix\n",
      "[[14  1  0]\n",
      " [ 0 20  1]\n",
      " [ 0  0 18]]\n",
      "\n",
      "[정확도:0.9630]\n"
     ]
    }
   ],
   "source": [
    "clf = GaussianNB()\n",
    "clf.fit(x_train, y_train)\n",
    "y_pred = clf.predict(x_test)\n",
    "cfmat_acc(y_test, y_pred)"
   ]
  },
  {
   "cell_type": "code",
   "execution_count": 82,
   "metadata": {},
   "outputs": [
    {
     "name": "stdout",
     "output_type": "stream",
     "text": [
      "confusion matrix\n",
      "[[14  1  0]\n",
      " [ 0 20  1]\n",
      " [ 0  0 18]]\n",
      "\n",
      "[정확도:0.9630]\n"
     ]
    }
   ],
   "source": [
    "clf2 = GaussianNB(priors = [1/100, 1/100, 98/100]) # 0, 1, 2가 될 확률; 0이나 1로 예측힘들때 2로 예측될 확률 높다\n",
    "clf2.fit(x_train, y_train)\n",
    "y_pred2 = clf2.predict(x_test)\n",
    "cfmat_acc(y_test, y_pred2)"
   ]
  },
  {
   "cell_type": "code",
   "execution_count": 83,
   "metadata": {},
   "outputs": [
    {
     "name": "stdout",
     "output_type": "stream",
     "text": [
      "confusion matrix\n",
      "[[13  2  0]\n",
      " [ 0 21  0]\n",
      " [ 0  0 18]]\n",
      "\n",
      "[정확도:0.9630]\n"
     ]
    }
   ],
   "source": [
    "clf3 = GaussianNB(priors = [1/100, 98/100, 1/100]) # 0, 1, 2가 될 확률; 0이나 1로 예측힘들때 2로 예측될 확률 높다\n",
    "clf3 = clf3.fit(x_train, y_train)\n",
    "y_pred3 = clf3.predict(x_test)\n",
    "cfmat_acc(y_test, y_pred3)"
   ]
  },
  {
   "cell_type": "code",
   "execution_count": 84,
   "metadata": {},
   "outputs": [
    {
     "name": "stdout",
     "output_type": "stream",
     "text": [
      "confusion matrix\n",
      "[[14  1  0]\n",
      " [ 1 19  1]\n",
      " [ 0  0 18]]\n",
      "\n",
      "[정확도:0.9444]\n"
     ]
    }
   ],
   "source": [
    "clf4 = GaussianNB(priors = [98/100, 1/100, 1/100]) # 0, 1, 2가 될 확률; 0이나 1로 예측힘들때 2로 예측될 확률 높다\n",
    "clf4.fit(x_train, y_train)\n",
    "y_pred4 = clf4.predict(x_test)\n",
    "cfmat_acc(y_test, y_pred4)"
   ]
  },
  {
   "cell_type": "code",
   "execution_count": 71,
   "metadata": {},
   "outputs": [],
   "source": [
    "# 순열조합 알고리즘 필요\n",
    "# def priors_change(model):\n",
    "#     for i in range(2, 100, 2):\n",
    "#         one = i\n",
    "#         two = 100 - one\n",
    "#         three = two/2\n",
    "# clf = model(priors = [one/100, two/100, three/100])\n",
    "# clf.fit(x_train, y_train)\n",
    "# y_pred = clf.predict(x_test)\n",
    "# acc = accuracy_score(y_test, y_pred)\n",
    "# max_value = 0\n",
    "# if acc > max_value:\n",
    "#     max_value = acc\n",
    "#     max_parameter = [one, two, three]\n",
    "\n",
    "# print(max_value, max_parameter)"
   ]
  },
  {
   "cell_type": "markdown",
   "metadata": {},
   "source": [
    "### 2. kNN을 이용\n",
    "#### 와인 등급을 분류하는 모델을 만들고, 모델 성능을 평가하시오."
   ]
  },
  {
   "cell_type": "code",
   "execution_count": 6,
   "metadata": {},
   "outputs": [
    {
     "name": "stdout",
     "output_type": "stream",
     "text": [
      "confusion matrix\n",
      "[[12  0  3]\n",
      " [ 3 15  3]\n",
      " [ 1  8  9]]\n",
      "\n",
      "[정확도:0.6667]\n"
     ]
    }
   ],
   "source": [
    "clf = KNeighborsClassifier(35)\n",
    "clf.fit(x_train, y_train)\n",
    "y_pred = clf.predict(x_test)\n",
    "cfmat_acc(y_test, y_pred)"
   ]
  },
  {
   "cell_type": "code",
   "execution_count": 7,
   "metadata": {},
   "outputs": [
    {
     "name": "stdout",
     "output_type": "stream",
     "text": [
      "가장 높은 k값은 3이고, 해당 정확도는 0.6851851851851852입니다.\n"
     ]
    }
   ],
   "source": [
    "test_acc = []\n",
    "\n",
    "# 가장 정확도가 높은 k값과, 해당 정확도\n",
    "for n in range(1, len(y_pred)):\n",
    "    clf = KNeighborsClassifier(n_neighbors=n)\n",
    "    clf.fit(x_train, y_train)\n",
    "    y_pred = clf.predict(x_test)\n",
    "    test_acc.append(accuracy_score(y_test, y_pred))\n",
    "    \n",
    "print(f\"가장 높은 k값은 {test_acc.index(max(test_acc))+1}이고, 해당 정확도는 {max(test_acc)}입니다.\")\n",
    "# 인덱스보다 실제값은 +1이 되어있음"
   ]
  },
  {
   "cell_type": "code",
   "execution_count": 8,
   "metadata": {},
   "outputs": [
    {
     "data": {
      "image/png": "[encoded data removed]",
      "text/plain": [
       "<Figure size 432x288 with 1 Axes>"
      ]
     },
     "metadata": {
      "needs_background": "light"
     },
     "output_type": "display_data"
    }
   ],
   "source": [
    "plt.figure()\n",
    "plt.plot(range(1, len(y_pred)), test_acc, label='test')\n",
    "plt.xlabel('n_neighbors')\n",
    "plt.ylabel('accuracy')\n",
    "plt.xticks(np.arange(0, len(y_pred), step=1))\n",
    "plt.legend()\n",
    "plt.show()\n"
   ]
  },
  {
   "cell_type": "code",
   "execution_count": 9,
   "metadata": {},
   "outputs": [
    {
     "name": "stdout",
     "output_type": "stream",
     "text": [
      "가장 높은 k값은 33이고, 해당 정확도는 0.7222222222222222입니다.\n"
     ]
    }
   ],
   "source": [
    "test_acc2 = []\n",
    "\n",
    "# 가장 정확도가 높은 k값과, 해당 정확도\n",
    "for n in range(1, len(y_pred)):\n",
    "    clf = KNeighborsClassifier(n_neighbors=n, weights='distance')\n",
    "    clf.fit(x_train, y_train)\n",
    "    y_pred = clf.predict(x_test)\n",
    "    test_acc2.append(accuracy_score(y_test, y_pred))\n",
    "    \n",
    "print(f\"가장 높은 k값은 {test_acc2.index(max(test_acc2))+1}이고, 해당 정확도는 {max(test_acc2)}입니다.\")\n",
    "# 인덱스보다 실제값은 +1이 되어있음"
   ]
  },
  {
   "cell_type": "code",
   "execution_count": 10,
   "metadata": {},
   "outputs": [
    {
     "data": {
      "image/png": "[encoded data removed]",
      "text/plain": [
       "<Figure size 432x288 with 1 Axes>"
      ]
     },
     "metadata": {
      "needs_background": "light"
     },
     "output_type": "display_data"
    }
   ],
   "source": [
    "plt.figure()\n",
    "plt.plot(range(1, len(y_pred2)), test_acc2, label='test')\n",
    "plt.xlabel('n_neighbors')\n",
    "plt.ylabel('accuracy')\n",
    "plt.xticks(np.arange(0, len(y_pred), step=1))\n",
    "plt.legend()\n",
    "plt.show()\n"
   ]
  },
  {
   "cell_type": "markdown",
   "metadata": {},
   "source": [
    "### 3. svm 을 이용\n",
    "#### 와인 등급을 분류하는 모델을 kenel을 이용해 만들고, 모델 성능을 평가하시오."
   ]
  },
  {
   "cell_type": "code",
   "execution_count": 11,
   "metadata": {},
   "outputs": [
    {
     "name": "stdout",
     "output_type": "stream",
     "text": [
      "confusion matrix\n",
      "[[15  0  0]\n",
      " [ 3 17  1]\n",
      " [ 0  1 17]]\n",
      "\n",
      "[정확도:0.9074]\n"
     ]
    }
   ],
   "source": [
    "# linear\n",
    "clf = svm.SVC(kernel='linear')\n",
    "clf.fit(x_train, y_train)\n",
    "y_pred = clf.predict(x_test)\n",
    "cfmat_acc(y_test, y_pred)"
   ]
  },
  {
   "cell_type": "code",
   "execution_count": 12,
   "metadata": {},
   "outputs": [
    {
     "name": "stdout",
     "output_type": "stream",
     "text": [
      "confusion matrix\n",
      "[[ 1 14  0]\n",
      " [ 0 21  0]\n",
      " [ 0 18  0]]\n",
      "\n",
      "[정확도:0.4074]\n"
     ]
    }
   ],
   "source": [
    "# rbf(radial basis function)\n",
    "clf = svm.SVC(kernel='rbf', gamma=0.2) \n",
    "# 감마값; 정규분포의 폭(클수록 분산 작아져서 종모양 얇아짐, 커질수록 멀리 분포된 데이터 무시, \n",
    "# 가까울수록 세부적인 것들에 대해 신경써준다. )\n",
    "clf.fit(x_train, y_train)\n",
    "y_pred = clf.predict(x_test)\n",
    "cfmat_acc(y_test, y_pred)"
   ]
  },
  {
   "cell_type": "code",
   "execution_count": 13,
   "metadata": {},
   "outputs": [
    {
     "name": "stdout",
     "output_type": "stream",
     "text": [
      "confusion matrix\n",
      "[[14  1  0]\n",
      " [ 3 18  0]\n",
      " [ 3 14  1]]\n",
      "\n",
      "[정확도:0.6111]\n"
     ]
    }
   ],
   "source": [
    "# polynomial kernel(다차항 커널)\n",
    "clf = svm.SVC(kernel='poly', degree=3) # n차항 설정\n",
    "clf.fit(x_train, y_train)\n",
    "y_pred = clf.predict(x_test)\n",
    "cfmat_acc(y_test, y_pred)"
   ]
  },
  {
   "cell_type": "code",
   "execution_count": 14,
   "metadata": {
    "jupyter": {
     "source_hidden": true
    }
   },
   "outputs": [],
   "source": [
    "# # 시각화(사이킷런 홈페이지 참조)\n",
    "# def make_meshgrid(x, y, h=.02): # 배경\n",
    "#     x_min, x_max = x.min() - 1, x.max() + 1\n",
    "#     y_min, y_max = y.min() - 1, y.max() + 1\n",
    "#     xx, yy = np.meshgrid(np.arange(x_min, x_max, h),\n",
    "#                          np.arange(y_min, y_max, h))\n",
    "#     return xx, yy\n",
    "\n",
    "# def plot_contours(ax, clf, xx, yy, **params):\n",
    "#     Z = clf.predict(np.c_[xx.ravel(), yy.ravel()])\n",
    "#     Z = Z.reshape(xx.shape)\n",
    "#     out = ax.contourf(xx, yy, Z, **params)\n",
    "#     return out"
   ]
  },
  {
   "cell_type": "code",
   "execution_count": 15,
   "metadata": {
    "jupyter": {
     "source_hidden": true
    }
   },
   "outputs": [],
   "source": [
    "# models = (svm.SVC(kernel='linear'),\n",
    "#          svm.LinearSVC(),\n",
    "#          svm.SVC(kernel='rbf', gamma=0.5),\n",
    "#          svm.SVC(kernel='poly', degree=3))\n",
    "# models = (clf.fit(x_train, y_train) for clf in models)"
   ]
  },
  {
   "cell_type": "code",
   "execution_count": 16,
   "metadata": {
    "jupyter": {
     "source_hidden": true
    }
   },
   "outputs": [],
   "source": [
    "# titles = ('SVC with linear kernel',\n",
    "#          'LinearSVC (linear kernel)',\n",
    "#          'SVC with RBF kernel)',\n",
    "#          'SVC with polynomial (degree 3) kernel')"
   ]
  },
  {
   "cell_type": "code",
   "execution_count": 17,
   "metadata": {
    "jupyter": {
     "source_hidden": true
    }
   },
   "outputs": [],
   "source": [
    "# x_data = wine.data[:, :2]\n",
    "# y_data = wine.target"
   ]
  },
  {
   "cell_type": "code",
   "execution_count": 18,
   "metadata": {
    "jupyter": {
     "source_hidden": true
    }
   },
   "outputs": [],
   "source": [
    "# fig, sub = plt.subplots(2, 2)\n",
    "# plt.subplots_adjust(wspace=0.4, hspace=0.4)\n",
    "\n",
    "# X0, X1 = x_data[:, 0], x_data[:, 1]\n",
    "# xx, yy = make_meshgrid(X0, X1)\n",
    "\n",
    "# for clf, title, ax in zip(models, titles, sub.flatten()):\n",
    "#     plot_contours(ax, clf, xx, yy,\n",
    "#                  cmap=plt.cm.coolwarm, alpha=0.8)\n",
    "#     ax.scatter(X0, X1, c=y_data, cmap=plt.cm.coolwarm, s=20, edgecolors='k')\n",
    "#     ax.set_xlim(xx.min(), xx.max())\n",
    "#     ax.set_ylim(yy.min(), yy.max())\n",
    "#     ax.set_xlabel('wine X')\n",
    "#     ax.set_ylabel('wine Y')\n",
    "#     ax.set_xticks(())\n",
    "#     ax.set_yticks(title)\n",
    "\n",
    "# plt.show()"
   ]
  },
  {
   "cell_type": "markdown",
   "metadata": {},
   "source": [
    "### 4. DT를 이용\n",
    "\n",
    "#### 와인 등급을 분류하는 모델을 만들어 시각화한 후, 모델 성능을 평가하시오."
   ]
  },
  {
   "cell_type": "code",
   "execution_count": 19,
   "metadata": {},
   "outputs": [
    {
     "name": "stdout",
     "output_type": "stream",
     "text": [
      "confusion matrix\n",
      "[[13  2  0]\n",
      " [ 2 18  1]\n",
      " [ 0  1 17]]\n",
      "\n",
      "[정확도:0.8889]\n"
     ]
    }
   ],
   "source": [
    "clf = tree.DecisionTreeClassifier()\n",
    "clf_dt = clf.fit(x_train, y_train)\n",
    "y_pred = clf.predict(x_test)\n",
    "cfmat_acc(y_test, y_pred)"
   ]
  },
  {
   "cell_type": "code",
   "execution_count": 20,
   "metadata": {},
   "outputs": [
    {
     "data": {
      "image/svg+xml": [
       "<?xml version=\"1.0\" encoding=\"UTF-8\" standalone=\"no\"?>\r\n",
       "<!DOCTYPE svg PUBLIC \"-//W3C//DTD SVG 1.1//EN\"\r\n",
       " \"http://www.w3.org/Graphics/SVG/1.1/DTD/svg11.dtd\">\r\n",
       "<!-- Generated by graphviz version 2.38.0 (20140413.2041)\r\n",
       " -->\r\n",
       "<!-- Title: Tree Pages: 1 -->\r\n",
       "<svg width=\"1096pt\" height=\"671pt\"\r\n",
       " viewBox=\"0.00 0.00 1096.00 671.00\" xmlns=\"http://www.w3.org/2000/svg\" xmlns:xlink=\"http://www.w3.org/1999/xlink\">\r\n",
       "<g id=\"graph0\" class=\"graph\" transform=\"scale(1 1) rotate(0) translate(4 667)\">\r\n",
       "<title>Tree</title>\r\n",
       "<polygon fill=\"white\" stroke=\"none\" points=\"-4,4 -4,-667 1092,-667 1092,4 -4,4\"/>\r\n",
       "<!-- 0 -->\r\n",
       "<g id=\"node1\" class=\"node\"><title>0</title>\r\n",
       "<path fill=\"#f0fdf6\" stroke=\"black\" d=\"M851,-663C851,-663 738,-663 738,-663 732,-663 726,-657 726,-651 726,-651 726,-592 726,-592 726,-586 732,-580 738,-580 738,-580 851,-580 851,-580 857,-580 863,-586 863,-592 863,-592 863,-651 863,-651 863,-657 857,-663 851,-663\"/>\r\n",
       "<text text-anchor=\"middle\" x=\"794.5\" y=\"-647.8\" font-family=\"Helvetica,sans-Serif\" font-size=\"14.00\">proline &lt;= 755.0</text>\r\n",
       "<text text-anchor=\"middle\" x=\"794.5\" y=\"-632.8\" font-family=\"Helvetica,sans-Serif\" font-size=\"14.00\">gini = 0.653</text>\r\n",
       "<text text-anchor=\"middle\" x=\"794.5\" y=\"-617.8\" font-family=\"Helvetica,sans-Serif\" font-size=\"14.00\">samples = 124</text>\r\n",
       "<text text-anchor=\"middle\" x=\"794.5\" y=\"-602.8\" font-family=\"Helvetica,sans-Serif\" font-size=\"14.00\">value = [44, 50, 30]</text>\r\n",
       "<text text-anchor=\"middle\" x=\"794.5\" y=\"-587.8\" font-family=\"Helvetica,sans-Serif\" font-size=\"14.00\">class = class_1</text>\r\n",
       "</g>\r\n",
       "<!-- 1 -->\r\n",
       "<g id=\"node2\" class=\"node\"><title>1</title>\r\n",
       "<path fill=\"#a8f4c8\" stroke=\"black\" d=\"M728.5,-544C728.5,-544 592.5,-544 592.5,-544 586.5,-544 580.5,-538 580.5,-532 580.5,-532 580.5,-473 580.5,-473 580.5,-467 586.5,-461 592.5,-461 592.5,-461 728.5,-461 728.5,-461 734.5,-461 740.5,-467 740.5,-473 740.5,-473 740.5,-532 740.5,-532 740.5,-538 734.5,-544 728.5,-544\"/>\r\n",
       "<text text-anchor=\"middle\" x=\"660.5\" y=\"-528.8\" font-family=\"Helvetica,sans-Serif\" font-size=\"14.00\">color_intensity &lt;= 4.85</text>\r\n",
       "<text text-anchor=\"middle\" x=\"660.5\" y=\"-513.8\" font-family=\"Helvetica,sans-Serif\" font-size=\"14.00\">gini = 0.472</text>\r\n",
       "<text text-anchor=\"middle\" x=\"660.5\" y=\"-498.8\" font-family=\"Helvetica,sans-Serif\" font-size=\"14.00\">samples = 77</text>\r\n",
       "<text text-anchor=\"middle\" x=\"660.5\" y=\"-483.8\" font-family=\"Helvetica,sans-Serif\" font-size=\"14.00\">value = [1, 49, 27]</text>\r\n",
       "<text text-anchor=\"middle\" x=\"660.5\" y=\"-468.8\" font-family=\"Helvetica,sans-Serif\" font-size=\"14.00\">class = class_1</text>\r\n",
       "</g>\r\n",
       "<!-- 0&#45;&gt;1 -->\r\n",
       "<g id=\"edge1\" class=\"edge\"><title>0&#45;&gt;1</title>\r\n",
       "<path fill=\"none\" stroke=\"black\" d=\"M748.009,-579.907C737.2,-570.469 725.602,-560.343 714.5,-550.649\"/>\r\n",
       "<polygon fill=\"black\" stroke=\"black\" points=\"716.743,-547.961 706.908,-544.021 712.139,-553.234 716.743,-547.961\"/>\r\n",
       "<text text-anchor=\"middle\" x=\"708.598\" y=\"-565.264\" font-family=\"Helvetica,sans-Serif\" font-size=\"14.00\">True</text>\r\n",
       "</g>\r\n",
       "<!-- 14 -->\r\n",
       "<g id=\"node15\" class=\"node\"><title>14</title>\r\n",
       "<path fill=\"#e78c4b\" stroke=\"black\" d=\"M926,-544C926,-544 825,-544 825,-544 819,-544 813,-538 813,-532 813,-532 813,-473 813,-473 813,-467 819,-461 825,-461 825,-461 926,-461 926,-461 932,-461 938,-467 938,-473 938,-473 938,-532 938,-532 938,-538 932,-544 926,-544\"/>\r\n",
       "<text text-anchor=\"middle\" x=\"875.5\" y=\"-528.8\" font-family=\"Helvetica,sans-Serif\" font-size=\"14.00\">flavanoids &lt;= 2.3</text>\r\n",
       "<text text-anchor=\"middle\" x=\"875.5\" y=\"-513.8\" font-family=\"Helvetica,sans-Serif\" font-size=\"14.00\">gini = 0.158</text>\r\n",
       "<text text-anchor=\"middle\" x=\"875.5\" y=\"-498.8\" font-family=\"Helvetica,sans-Serif\" font-size=\"14.00\">samples = 47</text>\r\n",
       "<text text-anchor=\"middle\" x=\"875.5\" y=\"-483.8\" font-family=\"Helvetica,sans-Serif\" font-size=\"14.00\">value = [43, 1, 3]</text>\r\n",
       "<text text-anchor=\"middle\" x=\"875.5\" y=\"-468.8\" font-family=\"Helvetica,sans-Serif\" font-size=\"14.00\">class = class_0</text>\r\n",
       "</g>\r\n",
       "<!-- 0&#45;&gt;14 -->\r\n",
       "<g id=\"edge14\" class=\"edge\"><title>0&#45;&gt;14</title>\r\n",
       "<path fill=\"none\" stroke=\"black\" d=\"M822.603,-579.907C828.76,-571.014 835.34,-561.509 841.694,-552.331\"/>\r\n",
       "<polygon fill=\"black\" stroke=\"black\" points=\"844.633,-554.235 847.447,-544.021 838.877,-550.251 844.633,-554.235\"/>\r\n",
       "<text text-anchor=\"middle\" x=\"851.919\" y=\"-564.918\" font-family=\"Helvetica,sans-Serif\" font-size=\"14.00\">False</text>\r\n",
       "</g>\r\n",
       "<!-- 2 -->\r\n",
       "<g id=\"node3\" class=\"node\"><title>2</title>\r\n",
       "<path fill=\"#4ee88e\" stroke=\"black\" d=\"M451,-425C451,-425 334,-425 334,-425 328,-425 322,-419 322,-413 322,-413 322,-354 322,-354 322,-348 328,-342 334,-342 334,-342 451,-342 451,-342 457,-342 463,-348 463,-354 463,-354 463,-413 463,-413 463,-419 457,-425 451,-425\"/>\r\n",
       "<text text-anchor=\"middle\" x=\"392.5\" y=\"-409.8\" font-family=\"Helvetica,sans-Serif\" font-size=\"14.00\">flavanoids &lt;= 0.895</text>\r\n",
       "<text text-anchor=\"middle\" x=\"392.5\" y=\"-394.8\" font-family=\"Helvetica,sans-Serif\" font-size=\"14.00\">gini = 0.177</text>\r\n",
       "<text text-anchor=\"middle\" x=\"392.5\" y=\"-379.8\" font-family=\"Helvetica,sans-Serif\" font-size=\"14.00\">samples = 52</text>\r\n",
       "<text text-anchor=\"middle\" x=\"392.5\" y=\"-364.8\" font-family=\"Helvetica,sans-Serif\" font-size=\"14.00\">value = [1, 47, 4]</text>\r\n",
       "<text text-anchor=\"middle\" x=\"392.5\" y=\"-349.8\" font-family=\"Helvetica,sans-Serif\" font-size=\"14.00\">class = class_1</text>\r\n",
       "</g>\r\n",
       "<!-- 1&#45;&gt;2 -->\r\n",
       "<g id=\"edge2\" class=\"edge\"><title>1&#45;&gt;2</title>\r\n",
       "<path fill=\"none\" stroke=\"black\" d=\"M580.454,-466.555C546.336,-451.66 506.616,-434.319 472.502,-419.426\"/>\r\n",
       "<polygon fill=\"black\" stroke=\"black\" points=\"473.603,-416.088 463.038,-415.295 470.803,-422.503 473.603,-416.088\"/>\r\n",
       "</g>\r\n",
       "<!-- 11 -->\r\n",
       "<g id=\"node12\" class=\"node\"><title>11</title>\r\n",
       "<path fill=\"#8c4ae7\" stroke=\"black\" d=\"M711,-425C711,-425 610,-425 610,-425 604,-425 598,-419 598,-413 598,-413 598,-354 598,-354 598,-348 604,-342 610,-342 610,-342 711,-342 711,-342 717,-342 723,-348 723,-354 723,-354 723,-413 723,-413 723,-419 717,-425 711,-425\"/>\r\n",
       "<text text-anchor=\"middle\" x=\"660.5\" y=\"-409.8\" font-family=\"Helvetica,sans-Serif\" font-size=\"14.00\">flavanoids &lt;= 1.4</text>\r\n",
       "<text text-anchor=\"middle\" x=\"660.5\" y=\"-394.8\" font-family=\"Helvetica,sans-Serif\" font-size=\"14.00\">gini = 0.147</text>\r\n",
       "<text text-anchor=\"middle\" x=\"660.5\" y=\"-379.8\" font-family=\"Helvetica,sans-Serif\" font-size=\"14.00\">samples = 25</text>\r\n",
       "<text text-anchor=\"middle\" x=\"660.5\" y=\"-364.8\" font-family=\"Helvetica,sans-Serif\" font-size=\"14.00\">value = [0, 2, 23]</text>\r\n",
       "<text text-anchor=\"middle\" x=\"660.5\" y=\"-349.8\" font-family=\"Helvetica,sans-Serif\" font-size=\"14.00\">class = class_2</text>\r\n",
       "</g>\r\n",
       "<!-- 1&#45;&gt;11 -->\r\n",
       "<g id=\"edge11\" class=\"edge\"><title>1&#45;&gt;11</title>\r\n",
       "<path fill=\"none\" stroke=\"black\" d=\"M660.5,-460.907C660.5,-452.649 660.5,-443.864 660.5,-435.302\"/>\r\n",
       "<polygon fill=\"black\" stroke=\"black\" points=\"664,-435.021 660.5,-425.021 657,-435.021 664,-435.021\"/>\r\n",
       "</g>\r\n",
       "<!-- 3 -->\r\n",
       "<g id=\"node4\" class=\"node\"><title>3</title>\r\n",
       "<path fill=\"#ab7bee\" stroke=\"black\" d=\"M227,-306C227,-306 108,-306 108,-306 102,-306 96,-300 96,-294 96,-294 96,-235 96,-235 96,-229 102,-223 108,-223 108,-223 227,-223 227,-223 233,-223 239,-229 239,-235 239,-235 239,-294 239,-294 239,-300 233,-306 227,-306\"/>\r\n",
       "<text text-anchor=\"middle\" x=\"167.5\" y=\"-290.8\" font-family=\"Helvetica,sans-Serif\" font-size=\"14.00\">magnesium &lt;= 88.5</text>\r\n",
       "<text text-anchor=\"middle\" x=\"167.5\" y=\"-275.8\" font-family=\"Helvetica,sans-Serif\" font-size=\"14.00\">gini = 0.375</text>\r\n",
       "<text text-anchor=\"middle\" x=\"167.5\" y=\"-260.8\" font-family=\"Helvetica,sans-Serif\" font-size=\"14.00\">samples = 4</text>\r\n",
       "<text text-anchor=\"middle\" x=\"167.5\" y=\"-245.8\" font-family=\"Helvetica,sans-Serif\" font-size=\"14.00\">value = [0, 1, 3]</text>\r\n",
       "<text text-anchor=\"middle\" x=\"167.5\" y=\"-230.8\" font-family=\"Helvetica,sans-Serif\" font-size=\"14.00\">class = class_2</text>\r\n",
       "</g>\r\n",
       "<!-- 2&#45;&gt;3 -->\r\n",
       "<g id=\"edge3\" class=\"edge\"><title>2&#45;&gt;3</title>\r\n",
       "<path fill=\"none\" stroke=\"black\" d=\"M321.926,-345.801C298.613,-333.679 272.498,-320.099 248.47,-307.604\"/>\r\n",
       "<polygon fill=\"black\" stroke=\"black\" points=\"249.86,-304.382 239.373,-302.874 246.63,-310.593 249.86,-304.382\"/>\r\n",
       "</g>\r\n",
       "<!-- 6 -->\r\n",
       "<g id=\"node7\" class=\"node\"><title>6</title>\r\n",
       "<path fill=\"#41e686\" stroke=\"black\" d=\"M516,-306C516,-306 269,-306 269,-306 263,-306 257,-300 257,-294 257,-294 257,-235 257,-235 257,-229 263,-223 269,-223 269,-223 516,-223 516,-223 522,-223 528,-229 528,-235 528,-235 528,-294 528,-294 528,-300 522,-306 516,-306\"/>\r\n",
       "<text text-anchor=\"middle\" x=\"392.5\" y=\"-290.8\" font-family=\"Helvetica,sans-Serif\" font-size=\"14.00\">od280/od315_of_diluted_wines &lt;= 1.48</text>\r\n",
       "<text text-anchor=\"middle\" x=\"392.5\" y=\"-275.8\" font-family=\"Helvetica,sans-Serif\" font-size=\"14.00\">gini = 0.081</text>\r\n",
       "<text text-anchor=\"middle\" x=\"392.5\" y=\"-260.8\" font-family=\"Helvetica,sans-Serif\" font-size=\"14.00\">samples = 48</text>\r\n",
       "<text text-anchor=\"middle\" x=\"392.5\" y=\"-245.8\" font-family=\"Helvetica,sans-Serif\" font-size=\"14.00\">value = [1, 46, 1]</text>\r\n",
       "<text text-anchor=\"middle\" x=\"392.5\" y=\"-230.8\" font-family=\"Helvetica,sans-Serif\" font-size=\"14.00\">class = class_1</text>\r\n",
       "</g>\r\n",
       "<!-- 2&#45;&gt;6 -->\r\n",
       "<g id=\"edge6\" class=\"edge\"><title>2&#45;&gt;6</title>\r\n",
       "<path fill=\"none\" stroke=\"black\" d=\"M392.5,-341.907C392.5,-333.649 392.5,-324.864 392.5,-316.302\"/>\r\n",
       "<polygon fill=\"black\" stroke=\"black\" points=\"396,-316.021 392.5,-306.021 389,-316.021 396,-316.021\"/>\r\n",
       "</g>\r\n",
       "<!-- 4 -->\r\n",
       "<g id=\"node5\" class=\"node\"><title>4</title>\r\n",
       "<path fill=\"#39e581\" stroke=\"black\" d=\"M103,-179.5C103,-179.5 12,-179.5 12,-179.5 6,-179.5 0,-173.5 0,-167.5 0,-167.5 0,-123.5 0,-123.5 0,-117.5 6,-111.5 12,-111.5 12,-111.5 103,-111.5 103,-111.5 109,-111.5 115,-117.5 115,-123.5 115,-123.5 115,-167.5 115,-167.5 115,-173.5 109,-179.5 103,-179.5\"/>\r\n",
       "<text text-anchor=\"middle\" x=\"57.5\" y=\"-164.3\" font-family=\"Helvetica,sans-Serif\" font-size=\"14.00\">gini = 0.0</text>\r\n",
       "<text text-anchor=\"middle\" x=\"57.5\" y=\"-149.3\" font-family=\"Helvetica,sans-Serif\" font-size=\"14.00\">samples = 1</text>\r\n",
       "<text text-anchor=\"middle\" x=\"57.5\" y=\"-134.3\" font-family=\"Helvetica,sans-Serif\" font-size=\"14.00\">value = [0, 1, 0]</text>\r\n",
       "<text text-anchor=\"middle\" x=\"57.5\" y=\"-119.3\" font-family=\"Helvetica,sans-Serif\" font-size=\"14.00\">class = class_1</text>\r\n",
       "</g>\r\n",
       "<!-- 3&#45;&gt;4 -->\r\n",
       "<g id=\"edge4\" class=\"edge\"><title>3&#45;&gt;4</title>\r\n",
       "<path fill=\"none\" stroke=\"black\" d=\"M129.336,-222.907C118.443,-211.321 106.575,-198.698 95.6808,-187.111\"/>\r\n",
       "<polygon fill=\"black\" stroke=\"black\" points=\"98.0824,-184.555 88.6826,-179.667 92.9824,-189.35 98.0824,-184.555\"/>\r\n",
       "</g>\r\n",
       "<!-- 5 -->\r\n",
       "<g id=\"node6\" class=\"node\"><title>5</title>\r\n",
       "<path fill=\"#8139e5\" stroke=\"black\" d=\"M236,-179.5C236,-179.5 145,-179.5 145,-179.5 139,-179.5 133,-173.5 133,-167.5 133,-167.5 133,-123.5 133,-123.5 133,-117.5 139,-111.5 145,-111.5 145,-111.5 236,-111.5 236,-111.5 242,-111.5 248,-117.5 248,-123.5 248,-123.5 248,-167.5 248,-167.5 248,-173.5 242,-179.5 236,-179.5\"/>\r\n",
       "<text text-anchor=\"middle\" x=\"190.5\" y=\"-164.3\" font-family=\"Helvetica,sans-Serif\" font-size=\"14.00\">gini = 0.0</text>\r\n",
       "<text text-anchor=\"middle\" x=\"190.5\" y=\"-149.3\" font-family=\"Helvetica,sans-Serif\" font-size=\"14.00\">samples = 3</text>\r\n",
       "<text text-anchor=\"middle\" x=\"190.5\" y=\"-134.3\" font-family=\"Helvetica,sans-Serif\" font-size=\"14.00\">value = [0, 0, 3]</text>\r\n",
       "<text text-anchor=\"middle\" x=\"190.5\" y=\"-119.3\" font-family=\"Helvetica,sans-Serif\" font-size=\"14.00\">class = class_2</text>\r\n",
       "</g>\r\n",
       "<!-- 3&#45;&gt;5 -->\r\n",
       "<g id=\"edge5\" class=\"edge\"><title>3&#45;&gt;5</title>\r\n",
       "<path fill=\"none\" stroke=\"black\" d=\"M175.48,-222.907C177.584,-212.204 179.862,-200.615 181.993,-189.776\"/>\r\n",
       "<polygon fill=\"black\" stroke=\"black\" points=\"185.485,-190.154 183.98,-179.667 178.617,-188.804 185.485,-190.154\"/>\r\n",
       "</g>\r\n",
       "<!-- 7 -->\r\n",
       "<g id=\"node8\" class=\"node\"><title>7</title>\r\n",
       "<path fill=\"#8139e5\" stroke=\"black\" d=\"M392,-179.5C392,-179.5 301,-179.5 301,-179.5 295,-179.5 289,-173.5 289,-167.5 289,-167.5 289,-123.5 289,-123.5 289,-117.5 295,-111.5 301,-111.5 301,-111.5 392,-111.5 392,-111.5 398,-111.5 404,-117.5 404,-123.5 404,-123.5 404,-167.5 404,-167.5 404,-173.5 398,-179.5 392,-179.5\"/>\r\n",
       "<text text-anchor=\"middle\" x=\"346.5\" y=\"-164.3\" font-family=\"Helvetica,sans-Serif\" font-size=\"14.00\">gini = 0.0</text>\r\n",
       "<text text-anchor=\"middle\" x=\"346.5\" y=\"-149.3\" font-family=\"Helvetica,sans-Serif\" font-size=\"14.00\">samples = 1</text>\r\n",
       "<text text-anchor=\"middle\" x=\"346.5\" y=\"-134.3\" font-family=\"Helvetica,sans-Serif\" font-size=\"14.00\">value = [0, 0, 1]</text>\r\n",
       "<text text-anchor=\"middle\" x=\"346.5\" y=\"-119.3\" font-family=\"Helvetica,sans-Serif\" font-size=\"14.00\">class = class_2</text>\r\n",
       "</g>\r\n",
       "<!-- 6&#45;&gt;7 -->\r\n",
       "<g id=\"edge7\" class=\"edge\"><title>6&#45;&gt;7</title>\r\n",
       "<path fill=\"none\" stroke=\"black\" d=\"M376.541,-222.907C372.246,-211.983 367.588,-200.137 363.251,-189.107\"/>\r\n",
       "<polygon fill=\"black\" stroke=\"black\" points=\"366.456,-187.693 359.54,-179.667 359.942,-190.254 366.456,-187.693\"/>\r\n",
       "</g>\r\n",
       "<!-- 8 -->\r\n",
       "<g id=\"node9\" class=\"node\"><title>8</title>\r\n",
       "<path fill=\"#3de684\" stroke=\"black\" d=\"M531,-187C531,-187 434,-187 434,-187 428,-187 422,-181 422,-175 422,-175 422,-116 422,-116 422,-110 428,-104 434,-104 434,-104 531,-104 531,-104 537,-104 543,-110 543,-116 543,-116 543,-175 543,-175 543,-181 537,-187 531,-187\"/>\r\n",
       "<text text-anchor=\"middle\" x=\"482.5\" y=\"-171.8\" font-family=\"Helvetica,sans-Serif\" font-size=\"14.00\">ash &lt;= 2.805</text>\r\n",
       "<text text-anchor=\"middle\" x=\"482.5\" y=\"-156.8\" font-family=\"Helvetica,sans-Serif\" font-size=\"14.00\">gini = 0.042</text>\r\n",
       "<text text-anchor=\"middle\" x=\"482.5\" y=\"-141.8\" font-family=\"Helvetica,sans-Serif\" font-size=\"14.00\">samples = 47</text>\r\n",
       "<text text-anchor=\"middle\" x=\"482.5\" y=\"-126.8\" font-family=\"Helvetica,sans-Serif\" font-size=\"14.00\">value = [1, 46, 0]</text>\r\n",
       "<text text-anchor=\"middle\" x=\"482.5\" y=\"-111.8\" font-family=\"Helvetica,sans-Serif\" font-size=\"14.00\">class = class_1</text>\r\n",
       "</g>\r\n",
       "<!-- 6&#45;&gt;8 -->\r\n",
       "<g id=\"edge8\" class=\"edge\"><title>6&#45;&gt;8</title>\r\n",
       "<path fill=\"none\" stroke=\"black\" d=\"M423.725,-222.907C430.636,-213.923 438.027,-204.315 445.154,-195.05\"/>\r\n",
       "<polygon fill=\"black\" stroke=\"black\" points=\"448.007,-197.081 451.33,-187.021 442.459,-192.813 448.007,-197.081\"/>\r\n",
       "</g>\r\n",
       "<!-- 9 -->\r\n",
       "<g id=\"node10\" class=\"node\"><title>9</title>\r\n",
       "<path fill=\"#39e581\" stroke=\"black\" d=\"M463,-68C463,-68 366,-68 366,-68 360,-68 354,-62 354,-56 354,-56 354,-12 354,-12 354,-6 360,-0 366,-0 366,-0 463,-0 463,-0 469,-0 475,-6 475,-12 475,-12 475,-56 475,-56 475,-62 469,-68 463,-68\"/>\r\n",
       "<text text-anchor=\"middle\" x=\"414.5\" y=\"-52.8\" font-family=\"Helvetica,sans-Serif\" font-size=\"14.00\">gini = 0.0</text>\r\n",
       "<text text-anchor=\"middle\" x=\"414.5\" y=\"-37.8\" font-family=\"Helvetica,sans-Serif\" font-size=\"14.00\">samples = 46</text>\r\n",
       "<text text-anchor=\"middle\" x=\"414.5\" y=\"-22.8\" font-family=\"Helvetica,sans-Serif\" font-size=\"14.00\">value = [0, 46, 0]</text>\r\n",
       "<text text-anchor=\"middle\" x=\"414.5\" y=\"-7.8\" font-family=\"Helvetica,sans-Serif\" font-size=\"14.00\">class = class_1</text>\r\n",
       "</g>\r\n",
       "<!-- 8&#45;&gt;9 -->\r\n",
       "<g id=\"edge9\" class=\"edge\"><title>8&#45;&gt;9</title>\r\n",
       "<path fill=\"none\" stroke=\"black\" d=\"M457.179,-103.726C451.742,-94.9703 445.987,-85.7032 440.523,-76.9051\"/>\r\n",
       "<polygon fill=\"black\" stroke=\"black\" points=\"443.428,-74.9484 435.179,-68.2996 437.481,-78.6413 443.428,-74.9484\"/>\r\n",
       "</g>\r\n",
       "<!-- 10 -->\r\n",
       "<g id=\"node11\" class=\"node\"><title>10</title>\r\n",
       "<path fill=\"#e58139\" stroke=\"black\" d=\"M596,-68C596,-68 505,-68 505,-68 499,-68 493,-62 493,-56 493,-56 493,-12 493,-12 493,-6 499,-0 505,-0 505,-0 596,-0 596,-0 602,-0 608,-6 608,-12 608,-12 608,-56 608,-56 608,-62 602,-68 596,-68\"/>\r\n",
       "<text text-anchor=\"middle\" x=\"550.5\" y=\"-52.8\" font-family=\"Helvetica,sans-Serif\" font-size=\"14.00\">gini = 0.0</text>\r\n",
       "<text text-anchor=\"middle\" x=\"550.5\" y=\"-37.8\" font-family=\"Helvetica,sans-Serif\" font-size=\"14.00\">samples = 1</text>\r\n",
       "<text text-anchor=\"middle\" x=\"550.5\" y=\"-22.8\" font-family=\"Helvetica,sans-Serif\" font-size=\"14.00\">value = [1, 0, 0]</text>\r\n",
       "<text text-anchor=\"middle\" x=\"550.5\" y=\"-7.8\" font-family=\"Helvetica,sans-Serif\" font-size=\"14.00\">class = class_0</text>\r\n",
       "</g>\r\n",
       "<!-- 8&#45;&gt;10 -->\r\n",
       "<g id=\"edge10\" class=\"edge\"><title>8&#45;&gt;10</title>\r\n",
       "<path fill=\"none\" stroke=\"black\" d=\"M507.821,-103.726C513.258,-94.9703 519.013,-85.7032 524.477,-76.9051\"/>\r\n",
       "<polygon fill=\"black\" stroke=\"black\" points=\"527.519,-78.6413 529.821,-68.2996 521.572,-74.9484 527.519,-78.6413\"/>\r\n",
       "</g>\r\n",
       "<!-- 12 -->\r\n",
       "<g id=\"node13\" class=\"node\"><title>12</title>\r\n",
       "<path fill=\"#8139e5\" stroke=\"black\" d=\"M655,-298.5C655,-298.5 558,-298.5 558,-298.5 552,-298.5 546,-292.5 546,-286.5 546,-286.5 546,-242.5 546,-242.5 546,-236.5 552,-230.5 558,-230.5 558,-230.5 655,-230.5 655,-230.5 661,-230.5 667,-236.5 667,-242.5 667,-242.5 667,-286.5 667,-286.5 667,-292.5 661,-298.5 655,-298.5\"/>\r\n",
       "<text text-anchor=\"middle\" x=\"606.5\" y=\"-283.3\" font-family=\"Helvetica,sans-Serif\" font-size=\"14.00\">gini = 0.0</text>\r\n",
       "<text text-anchor=\"middle\" x=\"606.5\" y=\"-268.3\" font-family=\"Helvetica,sans-Serif\" font-size=\"14.00\">samples = 23</text>\r\n",
       "<text text-anchor=\"middle\" x=\"606.5\" y=\"-253.3\" font-family=\"Helvetica,sans-Serif\" font-size=\"14.00\">value = [0, 0, 23]</text>\r\n",
       "<text text-anchor=\"middle\" x=\"606.5\" y=\"-238.3\" font-family=\"Helvetica,sans-Serif\" font-size=\"14.00\">class = class_2</text>\r\n",
       "</g>\r\n",
       "<!-- 11&#45;&gt;12 -->\r\n",
       "<g id=\"edge12\" class=\"edge\"><title>11&#45;&gt;12</title>\r\n",
       "<path fill=\"none\" stroke=\"black\" d=\"M641.765,-341.907C636.672,-330.873 631.145,-318.898 626.01,-307.773\"/>\r\n",
       "<polygon fill=\"black\" stroke=\"black\" points=\"629.176,-306.28 621.808,-298.667 622.821,-309.213 629.176,-306.28\"/>\r\n",
       "</g>\r\n",
       "<!-- 13 -->\r\n",
       "<g id=\"node14\" class=\"node\"><title>13</title>\r\n",
       "<path fill=\"#39e581\" stroke=\"black\" d=\"M788,-298.5C788,-298.5 697,-298.5 697,-298.5 691,-298.5 685,-292.5 685,-286.5 685,-286.5 685,-242.5 685,-242.5 685,-236.5 691,-230.5 697,-230.5 697,-230.5 788,-230.5 788,-230.5 794,-230.5 800,-236.5 800,-242.5 800,-242.5 800,-286.5 800,-286.5 800,-292.5 794,-298.5 788,-298.5\"/>\r\n",
       "<text text-anchor=\"middle\" x=\"742.5\" y=\"-283.3\" font-family=\"Helvetica,sans-Serif\" font-size=\"14.00\">gini = 0.0</text>\r\n",
       "<text text-anchor=\"middle\" x=\"742.5\" y=\"-268.3\" font-family=\"Helvetica,sans-Serif\" font-size=\"14.00\">samples = 2</text>\r\n",
       "<text text-anchor=\"middle\" x=\"742.5\" y=\"-253.3\" font-family=\"Helvetica,sans-Serif\" font-size=\"14.00\">value = [0, 2, 0]</text>\r\n",
       "<text text-anchor=\"middle\" x=\"742.5\" y=\"-238.3\" font-family=\"Helvetica,sans-Serif\" font-size=\"14.00\">class = class_1</text>\r\n",
       "</g>\r\n",
       "<!-- 11&#45;&gt;13 -->\r\n",
       "<g id=\"edge13\" class=\"edge\"><title>11&#45;&gt;13</title>\r\n",
       "<path fill=\"none\" stroke=\"black\" d=\"M688.949,-341.907C696.838,-330.652 705.412,-318.418 713.34,-307.106\"/>\r\n",
       "<polygon fill=\"black\" stroke=\"black\" points=\"716.382,-308.865 719.255,-298.667 710.649,-304.847 716.382,-308.865\"/>\r\n",
       "</g>\r\n",
       "<!-- 15 -->\r\n",
       "<g id=\"node16\" class=\"node\"><title>15</title>\r\n",
       "<path fill=\"#ab7bee\" stroke=\"black\" d=\"M936.5,-425C936.5,-425 814.5,-425 814.5,-425 808.5,-425 802.5,-419 802.5,-413 802.5,-413 802.5,-354 802.5,-354 802.5,-348 808.5,-342 814.5,-342 814.5,-342 936.5,-342 936.5,-342 942.5,-342 948.5,-348 948.5,-354 948.5,-354 948.5,-413 948.5,-413 948.5,-419 942.5,-425 936.5,-425\"/>\r\n",
       "<text text-anchor=\"middle\" x=\"875.5\" y=\"-409.8\" font-family=\"Helvetica,sans-Serif\" font-size=\"14.00\">total_phenols &lt;= 2.0</text>\r\n",
       "<text text-anchor=\"middle\" x=\"875.5\" y=\"-394.8\" font-family=\"Helvetica,sans-Serif\" font-size=\"14.00\">gini = 0.375</text>\r\n",
       "<text text-anchor=\"middle\" x=\"875.5\" y=\"-379.8\" font-family=\"Helvetica,sans-Serif\" font-size=\"14.00\">samples = 4</text>\r\n",
       "<text text-anchor=\"middle\" x=\"875.5\" y=\"-364.8\" font-family=\"Helvetica,sans-Serif\" font-size=\"14.00\">value = [0, 1, 3]</text>\r\n",
       "<text text-anchor=\"middle\" x=\"875.5\" y=\"-349.8\" font-family=\"Helvetica,sans-Serif\" font-size=\"14.00\">class = class_2</text>\r\n",
       "</g>\r\n",
       "<!-- 14&#45;&gt;15 -->\r\n",
       "<g id=\"edge15\" class=\"edge\"><title>14&#45;&gt;15</title>\r\n",
       "<path fill=\"none\" stroke=\"black\" d=\"M875.5,-460.907C875.5,-452.649 875.5,-443.864 875.5,-435.302\"/>\r\n",
       "<polygon fill=\"black\" stroke=\"black\" points=\"879,-435.021 875.5,-425.021 872,-435.021 879,-435.021\"/>\r\n",
       "</g>\r\n",
       "<!-- 18 -->\r\n",
       "<g id=\"node19\" class=\"node\"><title>18</title>\r\n",
       "<path fill=\"#e58139\" stroke=\"black\" d=\"M1076,-417.5C1076,-417.5 979,-417.5 979,-417.5 973,-417.5 967,-411.5 967,-405.5 967,-405.5 967,-361.5 967,-361.5 967,-355.5 973,-349.5 979,-349.5 979,-349.5 1076,-349.5 1076,-349.5 1082,-349.5 1088,-355.5 1088,-361.5 1088,-361.5 1088,-405.5 1088,-405.5 1088,-411.5 1082,-417.5 1076,-417.5\"/>\r\n",
       "<text text-anchor=\"middle\" x=\"1027.5\" y=\"-402.3\" font-family=\"Helvetica,sans-Serif\" font-size=\"14.00\">gini = 0.0</text>\r\n",
       "<text text-anchor=\"middle\" x=\"1027.5\" y=\"-387.3\" font-family=\"Helvetica,sans-Serif\" font-size=\"14.00\">samples = 43</text>\r\n",
       "<text text-anchor=\"middle\" x=\"1027.5\" y=\"-372.3\" font-family=\"Helvetica,sans-Serif\" font-size=\"14.00\">value = [43, 0, 0]</text>\r\n",
       "<text text-anchor=\"middle\" x=\"1027.5\" y=\"-357.3\" font-family=\"Helvetica,sans-Serif\" font-size=\"14.00\">class = class_0</text>\r\n",
       "</g>\r\n",
       "<!-- 14&#45;&gt;18 -->\r\n",
       "<g id=\"edge18\" class=\"edge\"><title>14&#45;&gt;18</title>\r\n",
       "<path fill=\"none\" stroke=\"black\" d=\"M928.236,-460.907C943.861,-448.88 960.939,-435.735 976.455,-423.791\"/>\r\n",
       "<polygon fill=\"black\" stroke=\"black\" points=\"978.622,-426.54 984.411,-417.667 974.352,-420.993 978.622,-426.54\"/>\r\n",
       "</g>\r\n",
       "<!-- 16 -->\r\n",
       "<g id=\"node17\" class=\"node\"><title>16</title>\r\n",
       "<path fill=\"#8139e5\" stroke=\"black\" d=\"M921,-298.5C921,-298.5 830,-298.5 830,-298.5 824,-298.5 818,-292.5 818,-286.5 818,-286.5 818,-242.5 818,-242.5 818,-236.5 824,-230.5 830,-230.5 830,-230.5 921,-230.5 921,-230.5 927,-230.5 933,-236.5 933,-242.5 933,-242.5 933,-286.5 933,-286.5 933,-292.5 927,-298.5 921,-298.5\"/>\r\n",
       "<text text-anchor=\"middle\" x=\"875.5\" y=\"-283.3\" font-family=\"Helvetica,sans-Serif\" font-size=\"14.00\">gini = 0.0</text>\r\n",
       "<text text-anchor=\"middle\" x=\"875.5\" y=\"-268.3\" font-family=\"Helvetica,sans-Serif\" font-size=\"14.00\">samples = 3</text>\r\n",
       "<text text-anchor=\"middle\" x=\"875.5\" y=\"-253.3\" font-family=\"Helvetica,sans-Serif\" font-size=\"14.00\">value = [0, 0, 3]</text>\r\n",
       "<text text-anchor=\"middle\" x=\"875.5\" y=\"-238.3\" font-family=\"Helvetica,sans-Serif\" font-size=\"14.00\">class = class_2</text>\r\n",
       "</g>\r\n",
       "<!-- 15&#45;&gt;16 -->\r\n",
       "<g id=\"edge16\" class=\"edge\"><title>15&#45;&gt;16</title>\r\n",
       "<path fill=\"none\" stroke=\"black\" d=\"M875.5,-341.907C875.5,-331.204 875.5,-319.615 875.5,-308.776\"/>\r\n",
       "<polygon fill=\"black\" stroke=\"black\" points=\"879,-308.667 875.5,-298.667 872,-308.667 879,-308.667\"/>\r\n",
       "</g>\r\n",
       "<!-- 17 -->\r\n",
       "<g id=\"node18\" class=\"node\"><title>17</title>\r\n",
       "<path fill=\"#39e581\" stroke=\"black\" d=\"M1054,-298.5C1054,-298.5 963,-298.5 963,-298.5 957,-298.5 951,-292.5 951,-286.5 951,-286.5 951,-242.5 951,-242.5 951,-236.5 957,-230.5 963,-230.5 963,-230.5 1054,-230.5 1054,-230.5 1060,-230.5 1066,-236.5 1066,-242.5 1066,-242.5 1066,-286.5 1066,-286.5 1066,-292.5 1060,-298.5 1054,-298.5\"/>\r\n",
       "<text text-anchor=\"middle\" x=\"1008.5\" y=\"-283.3\" font-family=\"Helvetica,sans-Serif\" font-size=\"14.00\">gini = 0.0</text>\r\n",
       "<text text-anchor=\"middle\" x=\"1008.5\" y=\"-268.3\" font-family=\"Helvetica,sans-Serif\" font-size=\"14.00\">samples = 1</text>\r\n",
       "<text text-anchor=\"middle\" x=\"1008.5\" y=\"-253.3\" font-family=\"Helvetica,sans-Serif\" font-size=\"14.00\">value = [0, 1, 0]</text>\r\n",
       "<text text-anchor=\"middle\" x=\"1008.5\" y=\"-238.3\" font-family=\"Helvetica,sans-Serif\" font-size=\"14.00\">class = class_1</text>\r\n",
       "</g>\r\n",
       "<!-- 15&#45;&gt;17 -->\r\n",
       "<g id=\"edge17\" class=\"edge\"><title>15&#45;&gt;17</title>\r\n",
       "<path fill=\"none\" stroke=\"black\" d=\"M921.644,-341.907C935.065,-330.101 949.711,-317.217 963.087,-305.45\"/>\r\n",
       "<polygon fill=\"black\" stroke=\"black\" points=\"965.601,-307.9 970.797,-298.667 960.977,-302.644 965.601,-307.9\"/>\r\n",
       "</g>\r\n",
       "</g>\r\n",
       "</svg>\r\n"
      ],
      "text/plain": [
       "<graphviz.files.Source at 0x210a6f39a88>"
      ]
     },
     "execution_count": 20,
     "metadata": {},
     "output_type": "execute_result"
    }
   ],
   "source": [
    "dot_data = tree.export_graphviz(clf_dt, out_file=None,\n",
    "                               feature_names=wine.feature_names,\n",
    "                               class_names=wine.target_names,\n",
    "                               filled=True, rounded=True)\n",
    "\n",
    "graph = graphviz.Source(dot_data)\n",
    "graph"
   ]
  },
  {
   "cell_type": "code",
   "execution_count": 21,
   "metadata": {},
   "outputs": [
    {
     "name": "stdout",
     "output_type": "stream",
     "text": [
      "confusion matrix\n",
      "[[13  2  0]\n",
      " [ 3 16  2]\n",
      " [ 0  1 17]]\n",
      "\n",
      "[정확도:0.8519]\n"
     ]
    }
   ],
   "source": [
    "clf2 = tree.DecisionTreeClassifier(criterion='entropy')\n",
    "clf2_dt = clf2.fit(x_train, y_train)\n",
    "y_pred2 = clf2.predict(x_test)\n",
    "cfmat_acc(y_test, y_pred2)"
   ]
  },
  {
   "cell_type": "code",
   "execution_count": 22,
   "metadata": {},
   "outputs": [
    {
     "data": {
      "image/svg+xml": [
       "<?xml version=\"1.0\" encoding=\"UTF-8\" standalone=\"no\"?>\r\n",
       "<!DOCTYPE svg PUBLIC \"-//W3C//DTD SVG 1.1//EN\"\r\n",
       " \"http://www.w3.org/Graphics/SVG/1.1/DTD/svg11.dtd\">\r\n",
       "<!-- Generated by graphviz version 2.38.0 (20140413.2041)\r\n",
       " -->\r\n",
       "<!-- Title: Tree Pages: 1 -->\r\n",
       "<svg width=\"809pt\" height=\"433pt\"\r\n",
       " viewBox=\"0.00 0.00 809.00 433.00\" xmlns=\"http://www.w3.org/2000/svg\" xmlns:xlink=\"http://www.w3.org/1999/xlink\">\r\n",
       "<g id=\"graph0\" class=\"graph\" transform=\"scale(1 1) rotate(0) translate(4 429)\">\r\n",
       "<title>Tree</title>\r\n",
       "<polygon fill=\"white\" stroke=\"none\" points=\"-4,4 -4,-429 805,-429 805,4 -4,4\"/>\r\n",
       "<!-- 0 -->\r\n",
       "<g id=\"node1\" class=\"node\"><title>0</title>\r\n",
       "<path fill=\"#f0fdf6\" stroke=\"black\" d=\"M560,-425C560,-425 447,-425 447,-425 441,-425 435,-419 435,-413 435,-413 435,-354 435,-354 435,-348 441,-342 447,-342 447,-342 560,-342 560,-342 566,-342 572,-348 572,-354 572,-354 572,-413 572,-413 572,-419 566,-425 560,-425\"/>\r\n",
       "<text text-anchor=\"middle\" x=\"503.5\" y=\"-409.8\" font-family=\"Helvetica,sans-Serif\" font-size=\"14.00\">proline &lt;= 755.0</text>\r\n",
       "<text text-anchor=\"middle\" x=\"503.5\" y=\"-394.8\" font-family=\"Helvetica,sans-Serif\" font-size=\"14.00\">entropy = 1.554</text>\r\n",
       "<text text-anchor=\"middle\" x=\"503.5\" y=\"-379.8\" font-family=\"Helvetica,sans-Serif\" font-size=\"14.00\">samples = 124</text>\r\n",
       "<text text-anchor=\"middle\" x=\"503.5\" y=\"-364.8\" font-family=\"Helvetica,sans-Serif\" font-size=\"14.00\">value = [44, 50, 30]</text>\r\n",
       "<text text-anchor=\"middle\" x=\"503.5\" y=\"-349.8\" font-family=\"Helvetica,sans-Serif\" font-size=\"14.00\">class = class_1</text>\r\n",
       "</g>\r\n",
       "<!-- 1 -->\r\n",
       "<g id=\"node2\" class=\"node\"><title>1</title>\r\n",
       "<path fill=\"#a8f4c8\" stroke=\"black\" d=\"M459,-306C459,-306 354,-306 354,-306 348,-306 342,-300 342,-294 342,-294 342,-235 342,-235 342,-229 348,-223 354,-223 354,-223 459,-223 459,-223 465,-223 471,-229 471,-235 471,-235 471,-294 471,-294 471,-300 465,-306 459,-306\"/>\r\n",
       "<text text-anchor=\"middle\" x=\"406.5\" y=\"-290.8\" font-family=\"Helvetica,sans-Serif\" font-size=\"14.00\">flavanoids &lt;= 1.4</text>\r\n",
       "<text text-anchor=\"middle\" x=\"406.5\" y=\"-275.8\" font-family=\"Helvetica,sans-Serif\" font-size=\"14.00\">entropy = 1.026</text>\r\n",
       "<text text-anchor=\"middle\" x=\"406.5\" y=\"-260.8\" font-family=\"Helvetica,sans-Serif\" font-size=\"14.00\">samples = 77</text>\r\n",
       "<text text-anchor=\"middle\" x=\"406.5\" y=\"-245.8\" font-family=\"Helvetica,sans-Serif\" font-size=\"14.00\">value = [1, 49, 27]</text>\r\n",
       "<text text-anchor=\"middle\" x=\"406.5\" y=\"-230.8\" font-family=\"Helvetica,sans-Serif\" font-size=\"14.00\">class = class_1</text>\r\n",
       "</g>\r\n",
       "<!-- 0&#45;&gt;1 -->\r\n",
       "<g id=\"edge1\" class=\"edge\"><title>0&#45;&gt;1</title>\r\n",
       "<path fill=\"none\" stroke=\"black\" d=\"M469.846,-341.907C462.323,-332.832 454.271,-323.121 446.518,-313.769\"/>\r\n",
       "<polygon fill=\"black\" stroke=\"black\" points=\"449.171,-311.485 440.094,-306.021 443.782,-315.953 449.171,-311.485\"/>\r\n",
       "<text text-anchor=\"middle\" x=\"437.768\" y=\"-327.212\" font-family=\"Helvetica,sans-Serif\" font-size=\"14.00\">True</text>\r\n",
       "</g>\r\n",
       "<!-- 8 -->\r\n",
       "<g id=\"node9\" class=\"node\"><title>8</title>\r\n",
       "<path fill=\"#e78c4b\" stroke=\"black\" d=\"M652,-306C652,-306 551,-306 551,-306 545,-306 539,-300 539,-294 539,-294 539,-235 539,-235 539,-229 545,-223 551,-223 551,-223 652,-223 652,-223 658,-223 664,-229 664,-235 664,-235 664,-294 664,-294 664,-300 658,-306 652,-306\"/>\r\n",
       "<text text-anchor=\"middle\" x=\"601.5\" y=\"-290.8\" font-family=\"Helvetica,sans-Serif\" font-size=\"14.00\">flavanoids &lt;= 2.3</text>\r\n",
       "<text text-anchor=\"middle\" x=\"601.5\" y=\"-275.8\" font-family=\"Helvetica,sans-Serif\" font-size=\"14.00\">entropy = 0.489</text>\r\n",
       "<text text-anchor=\"middle\" x=\"601.5\" y=\"-260.8\" font-family=\"Helvetica,sans-Serif\" font-size=\"14.00\">samples = 47</text>\r\n",
       "<text text-anchor=\"middle\" x=\"601.5\" y=\"-245.8\" font-family=\"Helvetica,sans-Serif\" font-size=\"14.00\">value = [43, 1, 3]</text>\r\n",
       "<text text-anchor=\"middle\" x=\"601.5\" y=\"-230.8\" font-family=\"Helvetica,sans-Serif\" font-size=\"14.00\">class = class_0</text>\r\n",
       "</g>\r\n",
       "<!-- 0&#45;&gt;8 -->\r\n",
       "<g id=\"edge8\" class=\"edge\"><title>0&#45;&gt;8</title>\r\n",
       "<path fill=\"none\" stroke=\"black\" d=\"M537.501,-341.907C545.102,-332.832 553.236,-323.121 561.069,-313.769\"/>\r\n",
       "<polygon fill=\"black\" stroke=\"black\" points=\"563.821,-315.934 567.559,-306.021 558.455,-311.439 563.821,-315.934\"/>\r\n",
       "<text text-anchor=\"middle\" x=\"569.76\" y=\"-327.224\" font-family=\"Helvetica,sans-Serif\" font-size=\"14.00\">False</text>\r\n",
       "</g>\r\n",
       "<!-- 2 -->\r\n",
       "<g id=\"node3\" class=\"node\"><title>2</title>\r\n",
       "<path fill=\"#ab7bee\" stroke=\"black\" d=\"M265.5,-187C265.5,-187 121.5,-187 121.5,-187 115.5,-187 109.5,-181 109.5,-175 109.5,-175 109.5,-116 109.5,-116 109.5,-110 115.5,-104 121.5,-104 121.5,-104 265.5,-104 265.5,-104 271.5,-104 277.5,-110 277.5,-116 277.5,-116 277.5,-175 277.5,-175 277.5,-181 271.5,-187 265.5,-187\"/>\r\n",
       "<text text-anchor=\"middle\" x=\"193.5\" y=\"-171.8\" font-family=\"Helvetica,sans-Serif\" font-size=\"14.00\">color_intensity &lt;= 3.725</text>\r\n",
       "<text text-anchor=\"middle\" x=\"193.5\" y=\"-156.8\" font-family=\"Helvetica,sans-Serif\" font-size=\"14.00\">entropy = 0.811</text>\r\n",
       "<text text-anchor=\"middle\" x=\"193.5\" y=\"-141.8\" font-family=\"Helvetica,sans-Serif\" font-size=\"14.00\">samples = 36</text>\r\n",
       "<text text-anchor=\"middle\" x=\"193.5\" y=\"-126.8\" font-family=\"Helvetica,sans-Serif\" font-size=\"14.00\">value = [0, 9, 27]</text>\r\n",
       "<text text-anchor=\"middle\" x=\"193.5\" y=\"-111.8\" font-family=\"Helvetica,sans-Serif\" font-size=\"14.00\">class = class_2</text>\r\n",
       "</g>\r\n",
       "<!-- 1&#45;&gt;2 -->\r\n",
       "<g id=\"edge2\" class=\"edge\"><title>1&#45;&gt;2</title>\r\n",
       "<path fill=\"none\" stroke=\"black\" d=\"M341.725,-227.92C321.071,-216.574 297.93,-203.863 276.186,-191.919\"/>\r\n",
       "<polygon fill=\"black\" stroke=\"black\" points=\"277.737,-188.778 267.287,-187.031 274.367,-194.913 277.737,-188.778\"/>\r\n",
       "</g>\r\n",
       "<!-- 5 -->\r\n",
       "<g id=\"node6\" class=\"node\"><title>5</title>\r\n",
       "<path fill=\"#3ee684\" stroke=\"black\" d=\"M455,-187C455,-187 358,-187 358,-187 352,-187 346,-181 346,-175 346,-175 346,-116 346,-116 346,-110 352,-104 358,-104 358,-104 455,-104 455,-104 461,-104 467,-110 467,-116 467,-116 467,-175 467,-175 467,-181 461,-187 455,-187\"/>\r\n",
       "<text text-anchor=\"middle\" x=\"406.5\" y=\"-171.8\" font-family=\"Helvetica,sans-Serif\" font-size=\"14.00\">ash &lt;= 2.785</text>\r\n",
       "<text text-anchor=\"middle\" x=\"406.5\" y=\"-156.8\" font-family=\"Helvetica,sans-Serif\" font-size=\"14.00\">entropy = 0.165</text>\r\n",
       "<text text-anchor=\"middle\" x=\"406.5\" y=\"-141.8\" font-family=\"Helvetica,sans-Serif\" font-size=\"14.00\">samples = 41</text>\r\n",
       "<text text-anchor=\"middle\" x=\"406.5\" y=\"-126.8\" font-family=\"Helvetica,sans-Serif\" font-size=\"14.00\">value = [1, 40, 0]</text>\r\n",
       "<text text-anchor=\"middle\" x=\"406.5\" y=\"-111.8\" font-family=\"Helvetica,sans-Serif\" font-size=\"14.00\">class = class_1</text>\r\n",
       "</g>\r\n",
       "<!-- 1&#45;&gt;5 -->\r\n",
       "<g id=\"edge5\" class=\"edge\"><title>1&#45;&gt;5</title>\r\n",
       "<path fill=\"none\" stroke=\"black\" d=\"M406.5,-222.907C406.5,-214.649 406.5,-205.864 406.5,-197.302\"/>\r\n",
       "<polygon fill=\"black\" stroke=\"black\" points=\"410,-197.021 406.5,-187.021 403,-197.021 410,-197.021\"/>\r\n",
       "</g>\r\n",
       "<!-- 3 -->\r\n",
       "<g id=\"node4\" class=\"node\"><title>3</title>\r\n",
       "<path fill=\"#39e581\" stroke=\"black\" d=\"M103,-68C103,-68 12,-68 12,-68 6,-68 0,-62 0,-56 0,-56 0,-12 0,-12 0,-6 6,-0 12,-0 12,-0 103,-0 103,-0 109,-0 115,-6 115,-12 115,-12 115,-56 115,-56 115,-62 109,-68 103,-68\"/>\r\n",
       "<text text-anchor=\"middle\" x=\"57.5\" y=\"-52.8\" font-family=\"Helvetica,sans-Serif\" font-size=\"14.00\">entropy = 0.0</text>\r\n",
       "<text text-anchor=\"middle\" x=\"57.5\" y=\"-37.8\" font-family=\"Helvetica,sans-Serif\" font-size=\"14.00\">samples = 9</text>\r\n",
       "<text text-anchor=\"middle\" x=\"57.5\" y=\"-22.8\" font-family=\"Helvetica,sans-Serif\" font-size=\"14.00\">value = [0, 9, 0]</text>\r\n",
       "<text text-anchor=\"middle\" x=\"57.5\" y=\"-7.8\" font-family=\"Helvetica,sans-Serif\" font-size=\"14.00\">class = class_1</text>\r\n",
       "</g>\r\n",
       "<!-- 2&#45;&gt;3 -->\r\n",
       "<g id=\"edge3\" class=\"edge\"><title>2&#45;&gt;3</title>\r\n",
       "<path fill=\"none\" stroke=\"black\" d=\"M142.859,-103.726C131.077,-94.2406 118.551,-84.1551 106.827,-74.7159\"/>\r\n",
       "<polygon fill=\"black\" stroke=\"black\" points=\"108.843,-71.8448 98.8584,-68.2996 104.453,-77.2972 108.843,-71.8448\"/>\r\n",
       "</g>\r\n",
       "<!-- 4 -->\r\n",
       "<g id=\"node5\" class=\"node\"><title>4</title>\r\n",
       "<path fill=\"#8139e5\" stroke=\"black\" d=\"M242,-68C242,-68 145,-68 145,-68 139,-68 133,-62 133,-56 133,-56 133,-12 133,-12 133,-6 139,-0 145,-0 145,-0 242,-0 242,-0 248,-0 254,-6 254,-12 254,-12 254,-56 254,-56 254,-62 248,-68 242,-68\"/>\r\n",
       "<text text-anchor=\"middle\" x=\"193.5\" y=\"-52.8\" font-family=\"Helvetica,sans-Serif\" font-size=\"14.00\">entropy = 0.0</text>\r\n",
       "<text text-anchor=\"middle\" x=\"193.5\" y=\"-37.8\" font-family=\"Helvetica,sans-Serif\" font-size=\"14.00\">samples = 27</text>\r\n",
       "<text text-anchor=\"middle\" x=\"193.5\" y=\"-22.8\" font-family=\"Helvetica,sans-Serif\" font-size=\"14.00\">value = [0, 0, 27]</text>\r\n",
       "<text text-anchor=\"middle\" x=\"193.5\" y=\"-7.8\" font-family=\"Helvetica,sans-Serif\" font-size=\"14.00\">class = class_2</text>\r\n",
       "</g>\r\n",
       "<!-- 2&#45;&gt;4 -->\r\n",
       "<g id=\"edge4\" class=\"edge\"><title>2&#45;&gt;4</title>\r\n",
       "<path fill=\"none\" stroke=\"black\" d=\"M193.5,-103.726C193.5,-95.5175 193.5,-86.8595 193.5,-78.56\"/>\r\n",
       "<polygon fill=\"black\" stroke=\"black\" points=\"197,-78.2996 193.5,-68.2996 190,-78.2996 197,-78.2996\"/>\r\n",
       "</g>\r\n",
       "<!-- 6 -->\r\n",
       "<g id=\"node7\" class=\"node\"><title>6</title>\r\n",
       "<path fill=\"#39e581\" stroke=\"black\" d=\"M381,-68C381,-68 284,-68 284,-68 278,-68 272,-62 272,-56 272,-56 272,-12 272,-12 272,-6 278,-0 284,-0 284,-0 381,-0 381,-0 387,-0 393,-6 393,-12 393,-12 393,-56 393,-56 393,-62 387,-68 381,-68\"/>\r\n",
       "<text text-anchor=\"middle\" x=\"332.5\" y=\"-52.8\" font-family=\"Helvetica,sans-Serif\" font-size=\"14.00\">entropy = 0.0</text>\r\n",
       "<text text-anchor=\"middle\" x=\"332.5\" y=\"-37.8\" font-family=\"Helvetica,sans-Serif\" font-size=\"14.00\">samples = 40</text>\r\n",
       "<text text-anchor=\"middle\" x=\"332.5\" y=\"-22.8\" font-family=\"Helvetica,sans-Serif\" font-size=\"14.00\">value = [0, 40, 0]</text>\r\n",
       "<text text-anchor=\"middle\" x=\"332.5\" y=\"-7.8\" font-family=\"Helvetica,sans-Serif\" font-size=\"14.00\">class = class_1</text>\r\n",
       "</g>\r\n",
       "<!-- 5&#45;&gt;6 -->\r\n",
       "<g id=\"edge6\" class=\"edge\"><title>5&#45;&gt;6</title>\r\n",
       "<path fill=\"none\" stroke=\"black\" d=\"M378.945,-103.726C372.966,-94.879 366.635,-85.51 360.634,-76.6303\"/>\r\n",
       "<polygon fill=\"black\" stroke=\"black\" points=\"363.503,-74.6253 355.004,-68.2996 357.703,-78.5448 363.503,-74.6253\"/>\r\n",
       "</g>\r\n",
       "<!-- 7 -->\r\n",
       "<g id=\"node8\" class=\"node\"><title>7</title>\r\n",
       "<path fill=\"#e58139\" stroke=\"black\" d=\"M514,-68C514,-68 423,-68 423,-68 417,-68 411,-62 411,-56 411,-56 411,-12 411,-12 411,-6 417,-0 423,-0 423,-0 514,-0 514,-0 520,-0 526,-6 526,-12 526,-12 526,-56 526,-56 526,-62 520,-68 514,-68\"/>\r\n",
       "<text text-anchor=\"middle\" x=\"468.5\" y=\"-52.8\" font-family=\"Helvetica,sans-Serif\" font-size=\"14.00\">entropy = 0.0</text>\r\n",
       "<text text-anchor=\"middle\" x=\"468.5\" y=\"-37.8\" font-family=\"Helvetica,sans-Serif\" font-size=\"14.00\">samples = 1</text>\r\n",
       "<text text-anchor=\"middle\" x=\"468.5\" y=\"-22.8\" font-family=\"Helvetica,sans-Serif\" font-size=\"14.00\">value = [1, 0, 0]</text>\r\n",
       "<text text-anchor=\"middle\" x=\"468.5\" y=\"-7.8\" font-family=\"Helvetica,sans-Serif\" font-size=\"14.00\">class = class_0</text>\r\n",
       "</g>\r\n",
       "<!-- 5&#45;&gt;7 -->\r\n",
       "<g id=\"edge7\" class=\"edge\"><title>5&#45;&gt;7</title>\r\n",
       "<path fill=\"none\" stroke=\"black\" d=\"M429.587,-103.726C434.493,-95.0615 439.682,-85.8962 444.617,-77.1802\"/>\r\n",
       "<polygon fill=\"black\" stroke=\"black\" points=\"447.764,-78.726 449.645,-68.2996 441.673,-75.277 447.764,-78.726\"/>\r\n",
       "</g>\r\n",
       "<!-- 9 -->\r\n",
       "<g id=\"node10\" class=\"node\"><title>9</title>\r\n",
       "<path fill=\"#ab7bee\" stroke=\"black\" d=\"M649.5,-187C649.5,-187 553.5,-187 553.5,-187 547.5,-187 541.5,-181 541.5,-175 541.5,-175 541.5,-116 541.5,-116 541.5,-110 547.5,-104 553.5,-104 553.5,-104 649.5,-104 649.5,-104 655.5,-104 661.5,-110 661.5,-116 661.5,-116 661.5,-175 661.5,-175 661.5,-181 655.5,-187 649.5,-187\"/>\r\n",
       "<text text-anchor=\"middle\" x=\"601.5\" y=\"-171.8\" font-family=\"Helvetica,sans-Serif\" font-size=\"14.00\">proline &lt;= 896.0</text>\r\n",
       "<text text-anchor=\"middle\" x=\"601.5\" y=\"-156.8\" font-family=\"Helvetica,sans-Serif\" font-size=\"14.00\">entropy = 0.811</text>\r\n",
       "<text text-anchor=\"middle\" x=\"601.5\" y=\"-141.8\" font-family=\"Helvetica,sans-Serif\" font-size=\"14.00\">samples = 4</text>\r\n",
       "<text text-anchor=\"middle\" x=\"601.5\" y=\"-126.8\" font-family=\"Helvetica,sans-Serif\" font-size=\"14.00\">value = [0, 1, 3]</text>\r\n",
       "<text text-anchor=\"middle\" x=\"601.5\" y=\"-111.8\" font-family=\"Helvetica,sans-Serif\" font-size=\"14.00\">class = class_2</text>\r\n",
       "</g>\r\n",
       "<!-- 8&#45;&gt;9 -->\r\n",
       "<g id=\"edge9\" class=\"edge\"><title>8&#45;&gt;9</title>\r\n",
       "<path fill=\"none\" stroke=\"black\" d=\"M601.5,-222.907C601.5,-214.649 601.5,-205.864 601.5,-197.302\"/>\r\n",
       "<polygon fill=\"black\" stroke=\"black\" points=\"605,-197.021 601.5,-187.021 598,-197.021 605,-197.021\"/>\r\n",
       "</g>\r\n",
       "<!-- 12 -->\r\n",
       "<g id=\"node13\" class=\"node\"><title>12</title>\r\n",
       "<path fill=\"#e58139\" stroke=\"black\" d=\"M789,-179.5C789,-179.5 692,-179.5 692,-179.5 686,-179.5 680,-173.5 680,-167.5 680,-167.5 680,-123.5 680,-123.5 680,-117.5 686,-111.5 692,-111.5 692,-111.5 789,-111.5 789,-111.5 795,-111.5 801,-117.5 801,-123.5 801,-123.5 801,-167.5 801,-167.5 801,-173.5 795,-179.5 789,-179.5\"/>\r\n",
       "<text text-anchor=\"middle\" x=\"740.5\" y=\"-164.3\" font-family=\"Helvetica,sans-Serif\" font-size=\"14.00\">entropy = 0.0</text>\r\n",
       "<text text-anchor=\"middle\" x=\"740.5\" y=\"-149.3\" font-family=\"Helvetica,sans-Serif\" font-size=\"14.00\">samples = 43</text>\r\n",
       "<text text-anchor=\"middle\" x=\"740.5\" y=\"-134.3\" font-family=\"Helvetica,sans-Serif\" font-size=\"14.00\">value = [43, 0, 0]</text>\r\n",
       "<text text-anchor=\"middle\" x=\"740.5\" y=\"-119.3\" font-family=\"Helvetica,sans-Serif\" font-size=\"14.00\">class = class_0</text>\r\n",
       "</g>\r\n",
       "<!-- 8&#45;&gt;12 -->\r\n",
       "<g id=\"edge12\" class=\"edge\"><title>8&#45;&gt;12</title>\r\n",
       "<path fill=\"none\" stroke=\"black\" d=\"M649.725,-222.907C663.883,-210.99 679.345,-197.976 693.43,-186.12\"/>\r\n",
       "<polygon fill=\"black\" stroke=\"black\" points=\"695.7,-188.784 701.097,-179.667 691.192,-183.429 695.7,-188.784\"/>\r\n",
       "</g>\r\n",
       "<!-- 10 -->\r\n",
       "<g id=\"node11\" class=\"node\"><title>10</title>\r\n",
       "<path fill=\"#8139e5\" stroke=\"black\" d=\"M647,-68C647,-68 556,-68 556,-68 550,-68 544,-62 544,-56 544,-56 544,-12 544,-12 544,-6 550,-0 556,-0 556,-0 647,-0 647,-0 653,-0 659,-6 659,-12 659,-12 659,-56 659,-56 659,-62 653,-68 647,-68\"/>\r\n",
       "<text text-anchor=\"middle\" x=\"601.5\" y=\"-52.8\" font-family=\"Helvetica,sans-Serif\" font-size=\"14.00\">entropy = 0.0</text>\r\n",
       "<text text-anchor=\"middle\" x=\"601.5\" y=\"-37.8\" font-family=\"Helvetica,sans-Serif\" font-size=\"14.00\">samples = 3</text>\r\n",
       "<text text-anchor=\"middle\" x=\"601.5\" y=\"-22.8\" font-family=\"Helvetica,sans-Serif\" font-size=\"14.00\">value = [0, 0, 3]</text>\r\n",
       "<text text-anchor=\"middle\" x=\"601.5\" y=\"-7.8\" font-family=\"Helvetica,sans-Serif\" font-size=\"14.00\">class = class_2</text>\r\n",
       "</g>\r\n",
       "<!-- 9&#45;&gt;10 -->\r\n",
       "<g id=\"edge10\" class=\"edge\"><title>9&#45;&gt;10</title>\r\n",
       "<path fill=\"none\" stroke=\"black\" d=\"M601.5,-103.726C601.5,-95.5175 601.5,-86.8595 601.5,-78.56\"/>\r\n",
       "<polygon fill=\"black\" stroke=\"black\" points=\"605,-78.2996 601.5,-68.2996 598,-78.2996 605,-78.2996\"/>\r\n",
       "</g>\r\n",
       "<!-- 11 -->\r\n",
       "<g id=\"node12\" class=\"node\"><title>11</title>\r\n",
       "<path fill=\"#39e581\" stroke=\"black\" d=\"M780,-68C780,-68 689,-68 689,-68 683,-68 677,-62 677,-56 677,-56 677,-12 677,-12 677,-6 683,-0 689,-0 689,-0 780,-0 780,-0 786,-0 792,-6 792,-12 792,-12 792,-56 792,-56 792,-62 786,-68 780,-68\"/>\r\n",
       "<text text-anchor=\"middle\" x=\"734.5\" y=\"-52.8\" font-family=\"Helvetica,sans-Serif\" font-size=\"14.00\">entropy = 0.0</text>\r\n",
       "<text text-anchor=\"middle\" x=\"734.5\" y=\"-37.8\" font-family=\"Helvetica,sans-Serif\" font-size=\"14.00\">samples = 1</text>\r\n",
       "<text text-anchor=\"middle\" x=\"734.5\" y=\"-22.8\" font-family=\"Helvetica,sans-Serif\" font-size=\"14.00\">value = [0, 1, 0]</text>\r\n",
       "<text text-anchor=\"middle\" x=\"734.5\" y=\"-7.8\" font-family=\"Helvetica,sans-Serif\" font-size=\"14.00\">class = class_1</text>\r\n",
       "</g>\r\n",
       "<!-- 9&#45;&gt;11 -->\r\n",
       "<g id=\"edge11\" class=\"edge\"><title>9&#45;&gt;11</title>\r\n",
       "<path fill=\"none\" stroke=\"black\" d=\"M651.024,-103.726C662.546,-94.2406 674.796,-84.1551 686.261,-74.7159\"/>\r\n",
       "<polygon fill=\"black\" stroke=\"black\" points=\"688.558,-77.3577 694.054,-68.2996 684.109,-71.9536 688.558,-77.3577\"/>\r\n",
       "</g>\r\n",
       "</g>\r\n",
       "</svg>\r\n"
      ],
      "text/plain": [
       "<graphviz.files.Source at 0x210a40fe208>"
      ]
     },
     "execution_count": 22,
     "metadata": {},
     "output_type": "execute_result"
    }
   ],
   "source": [
    "dot_data2 = tree.export_graphviz(clf2_dt, out_file=None,\n",
    "                               feature_names=wine.feature_names,\n",
    "                               class_names=wine.target_names,\n",
    "                               filled=True, rounded=True)\n",
    "\n",
    "graph2 = graphviz.Source(dot_data2)\n",
    "graph2"
   ]
  },
  {
   "cell_type": "code",
   "execution_count": 23,
   "metadata": {},
   "outputs": [
    {
     "name": "stdout",
     "output_type": "stream",
     "text": [
      "confusion matrix\n",
      "[[13  1  1]\n",
      " [ 1 18  2]\n",
      " [ 0  1 17]]\n",
      "\n",
      "[정확도:0.8889]\n"
     ]
    }
   ],
   "source": [
    "clf3 = tree.DecisionTreeClassifier(criterion='entropy', max_depth=2)\n",
    "clf3_dt = clf3.fit(x_train, y_train)\n",
    "y_pred3 = clf3.predict(x_test)\n",
    "cfmat_acc(y_test, y_pred3)"
   ]
  },
  {
   "cell_type": "code",
   "execution_count": 24,
   "metadata": {},
   "outputs": [
    {
     "data": {
      "image/svg+xml": [
       "<?xml version=\"1.0\" encoding=\"UTF-8\" standalone=\"no\"?>\r\n",
       "<!DOCTYPE svg PUBLIC \"-//W3C//DTD SVG 1.1//EN\"\r\n",
       " \"http://www.w3.org/Graphics/SVG/1.1/DTD/svg11.dtd\">\r\n",
       "<!-- Generated by graphviz version 2.38.0 (20140413.2041)\r\n",
       " -->\r\n",
       "<!-- Title: Tree Pages: 1 -->\r\n",
       "<svg width=\"546pt\" height=\"314pt\"\r\n",
       " viewBox=\"0.00 0.00 546.00 314.00\" xmlns=\"http://www.w3.org/2000/svg\" xmlns:xlink=\"http://www.w3.org/1999/xlink\">\r\n",
       "<g id=\"graph0\" class=\"graph\" transform=\"scale(1 1) rotate(0) translate(4 310)\">\r\n",
       "<title>Tree</title>\r\n",
       "<polygon fill=\"white\" stroke=\"none\" points=\"-4,4 -4,-310 542,-310 542,4 -4,4\"/>\r\n",
       "<!-- 0 -->\r\n",
       "<g id=\"node1\" class=\"node\"><title>0</title>\r\n",
       "<path fill=\"#f0fdf6\" stroke=\"black\" d=\"M326,-306C326,-306 213,-306 213,-306 207,-306 201,-300 201,-294 201,-294 201,-235 201,-235 201,-229 207,-223 213,-223 213,-223 326,-223 326,-223 332,-223 338,-229 338,-235 338,-235 338,-294 338,-294 338,-300 332,-306 326,-306\"/>\r\n",
       "<text text-anchor=\"middle\" x=\"269.5\" y=\"-290.8\" font-family=\"Helvetica,sans-Serif\" font-size=\"14.00\">proline &lt;= 755.0</text>\r\n",
       "<text text-anchor=\"middle\" x=\"269.5\" y=\"-275.8\" font-family=\"Helvetica,sans-Serif\" font-size=\"14.00\">entropy = 1.554</text>\r\n",
       "<text text-anchor=\"middle\" x=\"269.5\" y=\"-260.8\" font-family=\"Helvetica,sans-Serif\" font-size=\"14.00\">samples = 124</text>\r\n",
       "<text text-anchor=\"middle\" x=\"269.5\" y=\"-245.8\" font-family=\"Helvetica,sans-Serif\" font-size=\"14.00\">value = [44, 50, 30]</text>\r\n",
       "<text text-anchor=\"middle\" x=\"269.5\" y=\"-230.8\" font-family=\"Helvetica,sans-Serif\" font-size=\"14.00\">class = class_1</text>\r\n",
       "</g>\r\n",
       "<!-- 1 -->\r\n",
       "<g id=\"node2\" class=\"node\"><title>1</title>\r\n",
       "<path fill=\"#a8f4c8\" stroke=\"black\" d=\"M250,-187C250,-187 145,-187 145,-187 139,-187 133,-181 133,-175 133,-175 133,-116 133,-116 133,-110 139,-104 145,-104 145,-104 250,-104 250,-104 256,-104 262,-110 262,-116 262,-116 262,-175 262,-175 262,-181 256,-187 250,-187\"/>\r\n",
       "<text text-anchor=\"middle\" x=\"197.5\" y=\"-171.8\" font-family=\"Helvetica,sans-Serif\" font-size=\"14.00\">flavanoids &lt;= 1.4</text>\r\n",
       "<text text-anchor=\"middle\" x=\"197.5\" y=\"-156.8\" font-family=\"Helvetica,sans-Serif\" font-size=\"14.00\">entropy = 1.026</text>\r\n",
       "<text text-anchor=\"middle\" x=\"197.5\" y=\"-141.8\" font-family=\"Helvetica,sans-Serif\" font-size=\"14.00\">samples = 77</text>\r\n",
       "<text text-anchor=\"middle\" x=\"197.5\" y=\"-126.8\" font-family=\"Helvetica,sans-Serif\" font-size=\"14.00\">value = [1, 49, 27]</text>\r\n",
       "<text text-anchor=\"middle\" x=\"197.5\" y=\"-111.8\" font-family=\"Helvetica,sans-Serif\" font-size=\"14.00\">class = class_1</text>\r\n",
       "</g>\r\n",
       "<!-- 0&#45;&gt;1 -->\r\n",
       "<g id=\"edge1\" class=\"edge\"><title>0&#45;&gt;1</title>\r\n",
       "<path fill=\"none\" stroke=\"black\" d=\"M244.52,-222.907C239.103,-214.105 233.317,-204.703 227.723,-195.612\"/>\r\n",
       "<polygon fill=\"black\" stroke=\"black\" points=\"230.658,-193.703 222.436,-187.021 224.696,-197.372 230.658,-193.703\"/>\r\n",
       "<text text-anchor=\"middle\" x=\"216.645\" y=\"-207.641\" font-family=\"Helvetica,sans-Serif\" font-size=\"14.00\">True</text>\r\n",
       "</g>\r\n",
       "<!-- 4 -->\r\n",
       "<g id=\"node5\" class=\"node\"><title>4</title>\r\n",
       "<path fill=\"#e78c4b\" stroke=\"black\" d=\"M393,-187C393,-187 292,-187 292,-187 286,-187 280,-181 280,-175 280,-175 280,-116 280,-116 280,-110 286,-104 292,-104 292,-104 393,-104 393,-104 399,-104 405,-110 405,-116 405,-116 405,-175 405,-175 405,-181 399,-187 393,-187\"/>\r\n",
       "<text text-anchor=\"middle\" x=\"342.5\" y=\"-171.8\" font-family=\"Helvetica,sans-Serif\" font-size=\"14.00\">flavanoids &lt;= 2.3</text>\r\n",
       "<text text-anchor=\"middle\" x=\"342.5\" y=\"-156.8\" font-family=\"Helvetica,sans-Serif\" font-size=\"14.00\">entropy = 0.489</text>\r\n",
       "<text text-anchor=\"middle\" x=\"342.5\" y=\"-141.8\" font-family=\"Helvetica,sans-Serif\" font-size=\"14.00\">samples = 47</text>\r\n",
       "<text text-anchor=\"middle\" x=\"342.5\" y=\"-126.8\" font-family=\"Helvetica,sans-Serif\" font-size=\"14.00\">value = [43, 1, 3]</text>\r\n",
       "<text text-anchor=\"middle\" x=\"342.5\" y=\"-111.8\" font-family=\"Helvetica,sans-Serif\" font-size=\"14.00\">class = class_0</text>\r\n",
       "</g>\r\n",
       "<!-- 0&#45;&gt;4 -->\r\n",
       "<g id=\"edge4\" class=\"edge\"><title>0&#45;&gt;4</title>\r\n",
       "<path fill=\"none\" stroke=\"black\" d=\"M294.827,-222.907C300.319,-214.105 306.185,-204.703 311.857,-195.612\"/>\r\n",
       "<polygon fill=\"black\" stroke=\"black\" points=\"314.894,-197.358 317.218,-187.021 308.955,-193.652 314.894,-197.358\"/>\r\n",
       "<text text-anchor=\"middle\" x=\"322.858\" y=\"-207.676\" font-family=\"Helvetica,sans-Serif\" font-size=\"14.00\">False</text>\r\n",
       "</g>\r\n",
       "<!-- 2 -->\r\n",
       "<g id=\"node3\" class=\"node\"><title>2</title>\r\n",
       "<path fill=\"#ab7bee\" stroke=\"black\" d=\"M109,-68C109,-68 12,-68 12,-68 6,-68 0,-62 0,-56 0,-56 0,-12 0,-12 0,-6 6,-0 12,-0 12,-0 109,-0 109,-0 115,-0 121,-6 121,-12 121,-12 121,-56 121,-56 121,-62 115,-68 109,-68\"/>\r\n",
       "<text text-anchor=\"middle\" x=\"60.5\" y=\"-52.8\" font-family=\"Helvetica,sans-Serif\" font-size=\"14.00\">entropy = 0.811</text>\r\n",
       "<text text-anchor=\"middle\" x=\"60.5\" y=\"-37.8\" font-family=\"Helvetica,sans-Serif\" font-size=\"14.00\">samples = 36</text>\r\n",
       "<text text-anchor=\"middle\" x=\"60.5\" y=\"-22.8\" font-family=\"Helvetica,sans-Serif\" font-size=\"14.00\">value = [0, 9, 27]</text>\r\n",
       "<text text-anchor=\"middle\" x=\"60.5\" y=\"-7.8\" font-family=\"Helvetica,sans-Serif\" font-size=\"14.00\">class = class_2</text>\r\n",
       "</g>\r\n",
       "<!-- 1&#45;&gt;2 -->\r\n",
       "<g id=\"edge2\" class=\"edge\"><title>1&#45;&gt;2</title>\r\n",
       "<path fill=\"none\" stroke=\"black\" d=\"M146.486,-103.726C134.618,-94.2406 122,-84.1551 110.19,-74.7159\"/>\r\n",
       "<polygon fill=\"black\" stroke=\"black\" points=\"112.159,-71.8091 102.163,-68.2996 107.789,-77.2771 112.159,-71.8091\"/>\r\n",
       "</g>\r\n",
       "<!-- 3 -->\r\n",
       "<g id=\"node4\" class=\"node\"><title>3</title>\r\n",
       "<path fill=\"#3ee684\" stroke=\"black\" d=\"M248,-68C248,-68 151,-68 151,-68 145,-68 139,-62 139,-56 139,-56 139,-12 139,-12 139,-6 145,-0 151,-0 151,-0 248,-0 248,-0 254,-0 260,-6 260,-12 260,-12 260,-56 260,-56 260,-62 254,-68 248,-68\"/>\r\n",
       "<text text-anchor=\"middle\" x=\"199.5\" y=\"-52.8\" font-family=\"Helvetica,sans-Serif\" font-size=\"14.00\">entropy = 0.165</text>\r\n",
       "<text text-anchor=\"middle\" x=\"199.5\" y=\"-37.8\" font-family=\"Helvetica,sans-Serif\" font-size=\"14.00\">samples = 41</text>\r\n",
       "<text text-anchor=\"middle\" x=\"199.5\" y=\"-22.8\" font-family=\"Helvetica,sans-Serif\" font-size=\"14.00\">value = [1, 40, 0]</text>\r\n",
       "<text text-anchor=\"middle\" x=\"199.5\" y=\"-7.8\" font-family=\"Helvetica,sans-Serif\" font-size=\"14.00\">class = class_1</text>\r\n",
       "</g>\r\n",
       "<!-- 1&#45;&gt;3 -->\r\n",
       "<g id=\"edge3\" class=\"edge\"><title>1&#45;&gt;3</title>\r\n",
       "<path fill=\"none\" stroke=\"black\" d=\"M198.245,-103.726C198.395,-95.5175 198.553,-86.8595 198.704,-78.56\"/>\r\n",
       "<polygon fill=\"black\" stroke=\"black\" points=\"202.208,-78.3619 198.892,-68.2996 195.21,-78.234 202.208,-78.3619\"/>\r\n",
       "</g>\r\n",
       "<!-- 5 -->\r\n",
       "<g id=\"node6\" class=\"node\"><title>5</title>\r\n",
       "<path fill=\"#ab7bee\" stroke=\"black\" d=\"M386.5,-68C386.5,-68 294.5,-68 294.5,-68 288.5,-68 282.5,-62 282.5,-56 282.5,-56 282.5,-12 282.5,-12 282.5,-6 288.5,-0 294.5,-0 294.5,-0 386.5,-0 386.5,-0 392.5,-0 398.5,-6 398.5,-12 398.5,-12 398.5,-56 398.5,-56 398.5,-62 392.5,-68 386.5,-68\"/>\r\n",
       "<text text-anchor=\"middle\" x=\"340.5\" y=\"-52.8\" font-family=\"Helvetica,sans-Serif\" font-size=\"14.00\">entropy = 0.811</text>\r\n",
       "<text text-anchor=\"middle\" x=\"340.5\" y=\"-37.8\" font-family=\"Helvetica,sans-Serif\" font-size=\"14.00\">samples = 4</text>\r\n",
       "<text text-anchor=\"middle\" x=\"340.5\" y=\"-22.8\" font-family=\"Helvetica,sans-Serif\" font-size=\"14.00\">value = [0, 1, 3]</text>\r\n",
       "<text text-anchor=\"middle\" x=\"340.5\" y=\"-7.8\" font-family=\"Helvetica,sans-Serif\" font-size=\"14.00\">class = class_2</text>\r\n",
       "</g>\r\n",
       "<!-- 4&#45;&gt;5 -->\r\n",
       "<g id=\"edge5\" class=\"edge\"><title>4&#45;&gt;5</title>\r\n",
       "<path fill=\"none\" stroke=\"black\" d=\"M341.755,-103.726C341.605,-95.5175 341.447,-86.8595 341.296,-78.56\"/>\r\n",
       "<polygon fill=\"black\" stroke=\"black\" points=\"344.79,-78.234 341.108,-68.2996 337.792,-78.3619 344.79,-78.234\"/>\r\n",
       "</g>\r\n",
       "<!-- 6 -->\r\n",
       "<g id=\"node7\" class=\"node\"><title>6</title>\r\n",
       "<path fill=\"#e58139\" stroke=\"black\" d=\"M526,-68C526,-68 429,-68 429,-68 423,-68 417,-62 417,-56 417,-56 417,-12 417,-12 417,-6 423,-0 429,-0 429,-0 526,-0 526,-0 532,-0 538,-6 538,-12 538,-12 538,-56 538,-56 538,-62 532,-68 526,-68\"/>\r\n",
       "<text text-anchor=\"middle\" x=\"477.5\" y=\"-52.8\" font-family=\"Helvetica,sans-Serif\" font-size=\"14.00\">entropy = 0.0</text>\r\n",
       "<text text-anchor=\"middle\" x=\"477.5\" y=\"-37.8\" font-family=\"Helvetica,sans-Serif\" font-size=\"14.00\">samples = 43</text>\r\n",
       "<text text-anchor=\"middle\" x=\"477.5\" y=\"-22.8\" font-family=\"Helvetica,sans-Serif\" font-size=\"14.00\">value = [43, 0, 0]</text>\r\n",
       "<text text-anchor=\"middle\" x=\"477.5\" y=\"-7.8\" font-family=\"Helvetica,sans-Serif\" font-size=\"14.00\">class = class_0</text>\r\n",
       "</g>\r\n",
       "<!-- 4&#45;&gt;6 -->\r\n",
       "<g id=\"edge6\" class=\"edge\"><title>4&#45;&gt;6</title>\r\n",
       "<path fill=\"none\" stroke=\"black\" d=\"M392.769,-103.726C404.464,-94.2406 416.898,-84.1551 428.535,-74.7159\"/>\r\n",
       "<polygon fill=\"black\" stroke=\"black\" points=\"430.884,-77.3173 436.446,-68.2996 426.474,-71.8808 430.884,-77.3173\"/>\r\n",
       "</g>\r\n",
       "</g>\r\n",
       "</svg>\r\n"
      ],
      "text/plain": [
       "<graphviz.files.Source at 0x210a6e61a48>"
      ]
     },
     "execution_count": 24,
     "metadata": {},
     "output_type": "execute_result"
    }
   ],
   "source": [
    "dot_data3 = tree.export_graphviz(clf3_dt, out_file=None,\n",
    "                               feature_names=wine.feature_names,\n",
    "                               class_names=wine.target_names,\n",
    "                               filled=True, rounded=True)\n",
    "\n",
    "graph3 = graphviz.Source(dot_data3)\n",
    "graph3"
   ]
  }
 ],
 "metadata": {
  "kernelspec": {
   "display_name": "Python 3",
   "language": "python",
   "name": "python3"
  },
  "language_info": {
   "codemirror_mode": {
    "name": "ipython",
    "version": 3
   },
   "file_extension": ".py",
   "mimetype": "text/x-python",
   "name": "python",
   "nbconvert_exporter": "python",
   "pygments_lexer": "ipython3",
   "version": "3.7.6"
  }
 },
 "nbformat": 4,
 "nbformat_minor": 4
}

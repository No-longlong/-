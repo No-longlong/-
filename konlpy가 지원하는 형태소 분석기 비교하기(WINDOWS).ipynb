{
 "cells": [
  {
   "cell_type": "markdown",
   "metadata": {},
   "source": [
    "# konlpy 형태소 분석기 성능비교(윈도우 사용자 Version)"
   ]
  },
  {
   "cell_type": "code",
   "execution_count": 10,
   "metadata": {},
   "outputs": [],
   "source": [
    "from konlpy.tag import Kkma\n",
    "from konlpy.tag import Komoran\n",
    "from konlpy.tag import Hannanum\n",
    "from konlpy.tag import Okt\n",
    "from konlpy.tag import Mecab # 해당 코드는 윈도우에서 되지 않는다.\n",
    "import MeCab # 윈도우 mecab 불러오기\n",
    "import re # 정규표현식\n",
    "\n",
    "# 형태소 분석을 위한 객체 생성.\n",
    "kkma = Kkma()\n",
    "komoran = Komoran()\n",
    "hannanum = Hannanum()\n",
    "okt = Okt()\n",
    "mecab = MeCab.Tagger()"
   ]
  },
  {
   "cell_type": "code",
   "execution_count": 17,
   "metadata": {},
   "outputs": [],
   "source": [
    "def mecab_nouns(text):\n",
    "    nouns = []\n",
    "    \n",
    "    # 우리가 원하는 TOKEN\\tPOS의 형태를 추출하는 정규표현식.\n",
    "    pattern = re.compile('.*\\t[A-Z]+')\n",
    "    \n",
    "    # 패턴에 맞는 문자열을 추출하여 konlpy의 mecab 결과와 같아지도록 수정.\n",
    "    temp = [tuple(pattern.match(token).group(0).split('\\t')) for token in mecab.parse(text).splitlines()[:-1]]\n",
    "    # 추출한 token중에 POS가 명사 분류에 속하는 토큰만 선택.\n",
    "    for token in temp:\n",
    "        if token[1] == \"NNG\" or token[1] == \"NNP\" or token[1] == \"NNB\" or token[1] == \"NNBC\" or token[1] == \"NP\" or token[1] == \"NR\":\n",
    "            nouns.append(token[0])\n",
    "    \n",
    "    \n",
    "    return nouns\n",
    "\n",
    "def mecab_morphs(text):\n",
    "    morphs = []\n",
    "    \n",
    "    # 우리가 원하는 TOKEN\\tPOS의 형태를 추출하는 정규표현식.\n",
    "    pattern = re.compile('.*\\t[A-Z]+')\n",
    "    \n",
    "    # 패턴에 맞는 문자열을 추출하여 konlpy의 mecab 결과와 같아지도록 수정.\n",
    "    temp = [tuple(pattern.match(token).group(0).split('\\t')) for token in mecab.parse(text).splitlines()[:-1]]\n",
    "        \n",
    "    # 추출한 token중에 문자열만 선택.\n",
    "    for token in temp:\n",
    "        morphs.append(token[0])\n",
    "    \n",
    "    return morphs\n",
    "\n",
    "def mecab_pos(text):\n",
    "    pos = []\n",
    "    # 우리가 원하는 TOKEN\\tPOS의 형태를 추출하는 정규표현식.\n",
    "    pattern = re.compile(\".*\\t[A-Z]+\")\n",
    "    \n",
    "    # 패턴에 맞는 문자열을 추출하여 konlpy의 mecab 결과와 같아지도록 수정.\n",
    "    pos = [tuple(pattern.match(token).group(0).split('\\t')) for token in mecab.parse(text).splitlines()[:-1]]\n",
    "    \n",
    "    return pos"
   ]
  },
  {
   "cell_type": "markdown",
   "metadata": {},
   "source": [
    "## 문장 분석 품질 비교"
   ]
  },
  {
   "cell_type": "markdown",
   "metadata": {},
   "source": [
    "> ### 1. 띄어쓰기가 제대로 되어있지 않은 문장"
   ]
  },
  {
   "cell_type": "code",
   "execution_count": 43,
   "metadata": {},
   "outputs": [],
   "source": [
    "text1 = \"무지개같은사장님\"\n",
    "text2 = \"아저씨발냄새나요\"\n",
    "text3 = \"아버지가방에들어가신다\""
   ]
  },
  {
   "cell_type": "code",
   "execution_count": 4,
   "metadata": {
    "collapsed": true,
    "jupyter": {
     "outputs_hidden": true
    }
   },
   "outputs": [
    {
     "data": {
      "text/plain": [
       "[('할머니', 'NNG'),\n",
       " ('가방', 'NNG'),\n",
       " ('에', 'JKM'),\n",
       " ('들어가', 'VV'),\n",
       " ('시', 'EPH'),\n",
       " ('ㄴ다', 'EFN')]"
      ]
     },
     "execution_count": 4,
     "metadata": {},
     "output_type": "execute_result"
    }
   ],
   "source": [
    "# 꼬꼬마 형태소 분석 결과\n",
    "kkma.pos(text)"
   ]
  },
  {
   "cell_type": "code",
   "execution_count": 5,
   "metadata": {},
   "outputs": [
    {
     "data": {
      "text/plain": [
       "[('아버지', 'NNG'),\n",
       " ('가방', 'NNP'),\n",
       " ('에', 'JKB'),\n",
       " ('들어가', 'VV'),\n",
       " ('시', 'EP'),\n",
       " ('ㄴ다', 'EC')]"
      ]
     },
     "execution_count": 5,
     "metadata": {},
     "output_type": "execute_result"
    }
   ],
   "source": [
    "# 코모란 형태소 분석 결과\n",
    "komoran.pos(text)"
   ]
  },
  {
   "cell_type": "code",
   "execution_count": 6,
   "metadata": {},
   "outputs": [
    {
     "data": {
      "text/plain": [
       "[('아버지가방에들어가', 'N'), ('이', 'J'), ('시ㄴ다', 'E')]"
      ]
     },
     "execution_count": 6,
     "metadata": {},
     "output_type": "execute_result"
    }
   ],
   "source": [
    "hannanum.pos(text)"
   ]
  },
  {
   "cell_type": "code",
   "execution_count": 7,
   "metadata": {},
   "outputs": [
    {
     "data": {
      "text/plain": [
       "[('아버지', 'NNG'),\n",
       " ('가', 'JKS'),\n",
       " ('방', 'NNG'),\n",
       " ('에', 'JKB'),\n",
       " ('들어가', 'VV'),\n",
       " ('신다', 'EP')]"
      ]
     },
     "execution_count": 7,
     "metadata": {},
     "output_type": "execute_result"
    }
   ],
   "source": [
    "mecab_pos(text)"
   ]
  },
  {
   "cell_type": "code",
   "execution_count": 8,
   "metadata": {},
   "outputs": [
    {
     "data": {
      "text/plain": [
       "[('아버지', 'Noun'), ('가방', 'Noun'), ('에', 'Josa'), ('들어가신다', 'Verb')]"
      ]
     },
     "execution_count": 8,
     "metadata": {},
     "output_type": "execute_result"
    }
   ],
   "source": [
    "okt.pos(text)"
   ]
  },
  {
   "cell_type": "markdown",
   "metadata": {},
   "source": [
    "> ### 2. 오탈자 때문에 불완전한 문장"
   ]
  },
  {
   "cell_type": "code",
   "execution_count": 9,
   "metadata": {},
   "outputs": [],
   "source": [
    "text2 = \"ㄱㅐㄴㅏ리가 피어있는 동산에 누워있고싶ㄷㅏ\""
   ]
  },
  {
   "cell_type": "code",
   "execution_count": 44,
   "metadata": {},
   "outputs": [
    {
     "name": "stdout",
     "output_type": "stream",
     "text": [
      "\n",
      "---------------------\"무지개같은사장님\"에 대한 분석------------------------\n",
      "\n",
      "꼬꼬마 : [('무지개', 'NNG'), ('같', 'VA'), ('은', 'ETD'), ('사장님', 'NNG')]\n",
      "\n",
      "코모란 : [('무지개', 'NNG'), ('같', 'VA'), ('은', 'ETM'), ('사장', 'NNP'), ('님', 'XSN')]\n",
      "\n",
      "한나눔 : [('무지개같은사장님', 'N')]\n",
      "\n",
      "Okt : [('무지개', 'Noun'), ('같은', 'Adjective'), ('사장', 'Noun'), ('님', 'Suffix')]\n",
      "\n",
      "mecab : [('무지개', 'NNG'), ('같', 'VA'), ('은', 'ETM'), ('사장', 'NNG'), ('님', 'XSN')]\n",
      "\n",
      "\n",
      "---------------------\"아저씨발냄새나요\"에 대한 분석------------------------\n",
      "\n",
      "꼬꼬마 : [('아저씨', 'NNG'), ('발', 'NNG'), ('냄새', 'NNG'), ('나', 'VV'), ('아요', 'EFN')]\n",
      "\n",
      "코모란 : [('아저씨', 'NNG'), ('발', 'NNG'), ('냄새나', 'VV'), ('요', 'EC')]\n",
      "\n",
      "한나눔 : [('아저씨발냄새', 'N'), ('이', 'J'), ('나요', 'E')]\n",
      "\n",
      "Okt : [('아저씨', 'Noun'), ('발', 'Noun'), ('냄새', 'Noun'), ('나', 'Josa'), ('요', 'Noun')]\n",
      "\n",
      "mecab : [('아저씨', 'NNG'), ('발', 'NNG'), ('냄새나', 'VV'), ('요', 'EC')]\n",
      "\n",
      "\n",
      "---------------------\"아버지가방에들어가신다\"에 대한 분석------------------------\n",
      "\n",
      "꼬꼬마 : [('아버지', 'NNG'), ('가방', 'NNG'), ('에', 'JKM'), ('들어가', 'VV'), ('시', 'EPH'), ('ㄴ다', 'EFN')]\n",
      "\n",
      "코모란 : [('아버지', 'NNG'), ('가방', 'NNP'), ('에', 'JKB'), ('들어가', 'VV'), ('시', 'EP'), ('ㄴ다', 'EC')]\n",
      "\n",
      "한나눔 : [('아버지가방에들어가', 'N'), ('이', 'J'), ('시ㄴ다', 'E')]\n",
      "\n",
      "Okt : [('아버지', 'Noun'), ('가방', 'Noun'), ('에', 'Josa'), ('들어가신다', 'Verb')]\n",
      "\n",
      "mecab : [('아버지', 'NNG'), ('가', 'JKS'), ('방', 'NNG'), ('에', 'JKB'), ('들어가', 'VV'), ('신다', 'EP')]\n",
      "\n"
     ]
    }
   ],
   "source": [
    "# 꼬꼬마 형태소 결과 출력하기.\n",
    "\n",
    "print(f'\\n---------------------\"{text1}\"에 대한 분석------------------------\\n')\n",
    "print(\"꼬꼬마 : %s\\n\" % kkma.pos(text1))\n",
    "print(\"코모란 : %s\\n\" % komoran.pos(text1))\n",
    "print(\"한나눔 : %s\\n\" % hannanum.pos(text1))\n",
    "print(\"Okt : %s\\n\" % okt.pos(text1))\n",
    "print(\"mecab : %s\\n\" % mecab_pos(text1))\n",
    "\n",
    "\n",
    "print(f'\\n---------------------\"{text2}\"에 대한 분석------------------------\\n')\n",
    "print(\"꼬꼬마 : %s\\n\" % kkma.pos(text2))\n",
    "print(\"코모란 : %s\\n\" % komoran.pos(text2))\n",
    "print(\"한나눔 : %s\\n\" % hannanum.pos(text2))\n",
    "print(\"Okt : %s\\n\" % okt.pos(text2))\n",
    "print(\"mecab : %s\\n\" % mecab_pos(text2))\n",
    "\n",
    "\n",
    "print(f'\\n---------------------\"{text3}\"에 대한 분석------------------------\\n')\n",
    "print(\"꼬꼬마 : %s\\n\" % kkma.pos(text3))\n",
    "print(\"코모란 : %s\\n\" % komoran.pos(text3))\n",
    "print(\"한나눔 : %s\\n\" % hannanum.pos(text3))\n",
    "print(\"Okt : %s\\n\" % okt.pos(text3))\n",
    "print(\"mecab : %s\\n\" % mecab_pos(text3))\n"
   ]
  },
  {
   "cell_type": "markdown",
   "metadata": {},
   "source": [
    "> ### 3. 속도 비교"
   ]
  },
  {
   "cell_type": "code",
   "execution_count": 33,
   "metadata": {},
   "outputs": [],
   "source": [
    "news = \"\"\"윤태호 중앙사고수습본부 방역총괄반장은 1일 정부세종청사에서 열린 중앙재난안전대책본부 브리핑에서 전공의들의 의대정원 확대 정책 철회 요구와 관련해 \"정부는 이미 어떠한 조건도 걸지 않고 교육부 정원 통보 등 의사 수 확대 정책의 추진을 중단해 둔 상태\"라고 말했다.\n",
    "\n",
    "윤 방역총괄반장은 \"코로나19의 위기 극복 이후에 모든 가능성을 열어놓고 협의를 하자는 제안을 지속해서 제시한 바 있다\"며 \"전공의단체가 새로운 정책 대안을 제시한다면 정부도 진정성을 갖고 논의에 임할 것\"이라고 했다.\n",
    "\n",
    "그러면서 \"정부의 양보와 제안에도 불구하고 의사 수 확대 철회라는 요청이 환자들의 생명과 안전을 위협하는 집단적인 진료 거부까지 강행할 만큼 중요하고 시급한 것인지 재고해 달라\"고 말했다.\n",
    "\n",
    "정부는 의대정원 확대와 관련해서는 모든 가능성을 열어두고 논의해가겠다는 입장을 '대통령 약속'이라고 언급하면서 업무 복귀를 촉구했다.\n",
    "\n",
    "윤 방역총괄반장은 \"어제 문재인 대통령도 코로나19의 위기가 해소된 이후 정부가 약속한 협의체와 국회의 협의기구 등을 통해 의료계와 충분한 협의를 추진하겠다고 말했다\"며 \"대통령까지 약속한 협의를 믿고 조속히 진료현장으로 돌아와 달라\"고 말했다.\n",
    "\n",
    "또 정부는 전날 지방의 한 수련병원의 업무개시명령 현장조사 과정에서 벌어진 시위와 관련해서는 의사 표현 방식의 일환으로 보고, 공무집행방해죄 적용 등을 검토하지 않겠다는 입장을 밝혔다. 현재로서는 추가 현장조사도 계획하지 않고 있다.\n",
    "\n",
    "아울러 정부는 업무개시명령 위반으로 고발된 전공의들에 대해서는 곧바로 사법처리가 이뤄지는 것이 아니라 적법성, 고의성 등에 대한 추가 검증이 진행될 예정이라고 전했다.\n",
    "\n",
    "또 수련병원에서 전공의 근무를 파악하는 과정에서 착오가 있었던 사례가 발견된 만큼 검증 과정을 체계화할 방침이다.\"\"\""
   ]
  },
  {
   "cell_type": "code",
   "execution_count": 34,
   "metadata": {},
   "outputs": [
    {
     "name": "stdout",
     "output_type": "stream",
     "text": [
      "[('윤', 'NNG'), ('태호', 'NNP'), ('중앙', 'NNG'), ('사고', 'NNG'), ('수습', 'NNG')]\n",
      "Wall time: 412 ms\n"
     ]
    }
   ],
   "source": [
    "%%time\n",
    "print(kkma.pos(news)[:5])"
   ]
  },
  {
   "cell_type": "code",
   "execution_count": 35,
   "metadata": {},
   "outputs": [
    {
     "name": "stdout",
     "output_type": "stream",
     "text": [
      "[('윤태호', 'NNP'), ('중앙', 'NNP'), ('사고', 'NNP'), ('수습', 'NNG'), ('본부', 'NNG')]\n",
      "Wall time: 42.9 ms\n"
     ]
    }
   ],
   "source": [
    "%%time\n",
    "print(komoran.pos(news)[:5])"
   ]
  },
  {
   "cell_type": "code",
   "execution_count": 36,
   "metadata": {},
   "outputs": [
    {
     "name": "stdout",
     "output_type": "stream",
     "text": [
      "[('윤태호', 'N'), ('중앙사고수습본부', 'N'), ('방역총괄반장', 'N'), ('은', 'J'), ('1', 'N')]\n",
      "Wall time: 57.8 ms\n"
     ]
    }
   ],
   "source": [
    "%%time\n",
    "print(hannanum.pos(news)[:5])"
   ]
  },
  {
   "cell_type": "code",
   "execution_count": 38,
   "metadata": {},
   "outputs": [
    {
     "name": "stdout",
     "output_type": "stream",
     "text": [
      "[('윤태호', 'Noun'), ('중앙', 'Noun'), ('사고', 'Noun'), ('수습', 'Noun'), ('본부', 'Noun')]\n",
      "Wall time: 89.7 ms\n"
     ]
    }
   ],
   "source": [
    "%%time\n",
    "print(okt.pos(news)[:5])"
   ]
  },
  {
   "cell_type": "code",
   "execution_count": 37,
   "metadata": {},
   "outputs": [
    {
     "name": "stdout",
     "output_type": "stream",
     "text": [
      "[('윤태호', 'NNP'), ('중앙', 'NNG'), ('사고', 'NNG'), ('수습', 'NNG'), ('본부', 'NNG')]\n",
      "Wall time: 256 ms\n"
     ]
    }
   ],
   "source": [
    "%%time\n",
    "print(mecab_pos(news)[:5])"
   ]
  },
  {
   "cell_type": "code",
   "execution_count": null,
   "metadata": {},
   "outputs": [],
   "source": []
  }
 ],
 "metadata": {
  "kernelspec": {
   "display_name": "Python 3",
   "language": "python",
   "name": "python3"
  },
  "language_info": {
   "codemirror_mode": {
    "name": "ipython",
    "version": 3
   },
   "file_extension": ".py",
   "mimetype": "text/x-python",
   "name": "python",
   "nbconvert_exporter": "python",
   "pygments_lexer": "ipython3",
   "version": "3.7.7"
  }
 },
 "nbformat": 4,
 "nbformat_minor": 4
}

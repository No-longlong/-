{
 "cells": [
  {
   "cell_type": "markdown",
   "metadata": {},
   "source": [
    "# I. 파이썬 개요 및 기초\n",
    "## 3. 모듈"
   ]
  },
  {
   "cell_type": "code",
   "execution_count": 2,
   "metadata": {},
   "outputs": [],
   "source": [
    "import pandas as pd"
   ]
  },
  {
   "cell_type": "code",
   "execution_count": 3,
   "metadata": {},
   "outputs": [],
   "source": [
    "import pandas as np"
   ]
  },
  {
   "cell_type": "code",
   "execution_count": 10,
   "metadata": {},
   "outputs": [],
   "source": [
    "np_list = list(dir(np))"
   ]
  },
  {
   "cell_type": "code",
   "execution_count": 12,
   "metadata": {},
   "outputs": [],
   "source": [
    "pd_list = list(dir(pd))"
   ]
  },
  {
   "cell_type": "markdown",
   "metadata": {},
   "source": [
    "약간 소름 끼치는 것: numpy기반의 pandas인건 알았는데 둘의 모듈이 완전 같았다.."
   ]
  },
  {
   "cell_type": "markdown",
   "metadata": {},
   "source": [
    "#### 모듈 만들기 & 실행"
   ]
  },
  {
   "cell_type": "code",
   "execution_count": 1,
   "metadata": {},
   "outputs": [
    {
     "name": "stdout",
     "output_type": "stream",
     "text": [
      "(110, -90, 1000, 0.1)\n",
      "3.0\n"
     ]
    }
   ],
   "source": [
    "import module_test as mt\n",
    "\n",
    "a = [1, 2, 3, 4, 5]\n",
    "\n",
    "print(mt.calc(10, 100))\n",
    "print(mt.mean(a))"
   ]
  },
  {
   "cell_type": "markdown",
   "metadata": {},
   "source": [
    "### 표준 모듈의 종류\n",
    "- sys: 파이썬에 대한 정보\n",
    "- keyword: 파이썬 언어의 키워드 정보\n",
    "- time: 날짜와 시간\n",
    "- calendar: 달력\n",
    "- requests: http 요청/응답, 크롤링\n",
    "- random: 난수 발생"
   ]
  },
  {
   "cell_type": "markdown",
   "metadata": {},
   "source": [
    "------"
   ]
  },
  {
   "cell_type": "markdown",
   "metadata": {},
   "source": [
    "## 4. 정규표현식"
   ]
  },
  {
   "cell_type": "markdown",
   "metadata": {},
   "source": [
    "- . : 한개의 임의의 문자\n",
    "- ? : 앞 문자가 0개 혹은 1개\n",
    "- '*' : 앞 문자가 무한대 혹은 0개 이상\n",
    "- '+' : 앞 문자 최소 1개 이상\n",
    "- ^ : 뒤 문자로 문자열이 시작\n",
    "- '$' : 앞 문자로 문자열이 종료\n",
    "- {} : 숫자만큼 반복\n",
    "- {1, 2} : 숫자 1이상 숫자 2이하만큼 반복\n",
    "- {숫자,} : 숫자 이상만큼 반복\n",
    "- [] : 한 개의 문자와 매치 (ex.[a-zA-Z])\n",
    "- [^문자] : 해당 문자를 제외한 문자를 매치\n",
    "- | : 또는\n"
   ]
  },
  {
   "cell_type": "code",
   "execution_count": null,
   "metadata": {},
   "outputs": [],
   "source": [
    "ㅇ"
   ]
  }
 ],
 "metadata": {
  "kernelspec": {
   "display_name": "Python 3",
   "language": "python",
   "name": "python3"
  },
  "language_info": {
   "codemirror_mode": {
    "name": "ipython",
    "version": 3
   },
   "file_extension": ".py",
   "mimetype": "text/x-python",
   "name": "python",
   "nbconvert_exporter": "python",
   "pygments_lexer": "ipython3",
   "version": "3.7.6"
  }
 },
 "nbformat": 4,
 "nbformat_minor": 4
}
